{
 "cells": [
  {
   "cell_type": "markdown",
   "metadata": {
    "slideshow": {
     "slide_type": "slide"
    }
   },
   "source": [
    "Based on https://www.tutorialspoint.com/python/python_exceptions.htm"
   ]
  },
  {
   "cell_type": "markdown",
   "metadata": {
    "slideshow": {
     "slide_type": "slide"
    }
   },
   "source": [
    "Python provides two very important features to handle any unexpected error in your Python programs and to add debugging capabilities in them −\n",
    "\n",
    "- Exception Handling − This would be covered in this tutorial. Here is a list standard Exceptions available in Python: Standard Exceptions.\n",
    "- Assertions − This would be covered in Assertions in Python tutorial."
   ]
  },
  {
   "cell_type": "markdown",
   "metadata": {
    "slideshow": {
     "slide_type": "slide"
    }
   },
   "source": [
    "# What is Exception?\n",
    "\n",
    "An exception is an event, which occurs during the execution of a program that disrupts the normal flow of the program's instructions. In general, when a Python script encounters a situation that it cannot cope with, it raises an exception. An exception is a Python object that represents an error."
   ]
  },
  {
   "cell_type": "markdown",
   "metadata": {
    "slideshow": {
     "slide_type": "slide"
    }
   },
   "source": [
    "# Standard Exceptions"
   ]
  },
  {
   "cell_type": "markdown",
   "metadata": {
    "slideshow": {
     "slide_type": "subslide"
    }
   },
   "source": [
    "|Sr.No.|Exception Name| Description|\n",
    "|------|------|------|\n",
    "|1 | Exception| Base class for all exceptions|\n",
    "|2 | StopIteration | Raised when the next() method of an iterator does not point to any object.|\n",
    "|3 | SystemExit | Raised by the sys.exit() function.|\n",
    "|4 | StandardError | Base class for all built-in exceptions except StopIteration and SystemExit.|\n",
    "|5 | ArithmeticError | Base class for all errors that occur for numeric calculation.|\n",
    "|6 | OverflowError | Raised when a calculation exceeds maximum limit for a numeric type.|\n",
    "|7 | FloatingPointError | Raised when a floating point calculation fails.|\n",
    "|8 | ZeroDivisionError | Raised when division or modulo by zero takes place for all numeric types|\n",
    "|9 | AssertionError | Raised in case of failure of the Assert statement.|\n",
    "|10| AttributeError | Raised in case of failure of attribute reference or assignment.|"
   ]
  },
  {
   "cell_type": "markdown",
   "metadata": {
    "slideshow": {
     "slide_type": "subslide"
    }
   },
   "source": [
    "|Sr.No.|Exception Name| Description|\n",
    "|------|------|------|\n",
    "|11 | EOFError |Raised when there is no input from either the raw_input() or input() function and the end of file is reached.|\n",
    "|12 | ImportError | Raised when an import statement fails.|\n",
    "|13 | KeyboardInterrupt | Raised when the user interrupts program execution, usually by pressing Ctrl+c.|\n",
    "|14 | LookupError | Base class for all lookup errors.|\n",
    "|15 | IndexError | Raised when an index is not found in a sequence.|\n",
    "|16 | KeyError | Raised when the specified key is not found in the dictionary.|\n",
    "|17 | NameError| Raised when an identifier is not found in the local or global namespace.|\n",
    "|18 | UnboundLocalError | Raised when trying to access a local variable in a function or method but no value has been assigned to it.|\n",
    "|19 | EnvironmentError| Base class for all exceptions that occur outside the Python environment.|\n",
    "|20 | IOError |Raised when an input/ output operation fails, such as the print statement or the open() function when trying to open a file that does not exist.|"
   ]
  },
  {
   "cell_type": "markdown",
   "metadata": {
    "slideshow": {
     "slide_type": "subslide"
    }
   },
   "source": [
    "|Sr.No.|Exception Name| Description|\n",
    "|------|------|------|\n",
    "|21 | OSError |Raised for operating system-related errors.|\n",
    "|22 |SyntaxError |Raised when there is an error in Python syntax.|\n",
    "|23 |IndentationError |Raised when indentation is not specified properly.|\n",
    "|24 |SystemError |Raised when the interpreter finds an internal problem, but when this error is encountered the Python interpreter does not exit.|\n",
    "|25 |SystemExit |Raised when Python interpreter is quit by using the sys.exit() function. If not handled in the code, causes the interpreter to exit.|\n",
    "|26 |TypeError |Raised when an operation or function is attempted that is invalid for the specified data type.|\n",
    "|27 |ValueError |Raised when the built-in function for a data type has the valid type of arguments, but the arguments have invalid values specified.|\n",
    "|28 |RuntimeError |Raised when a generated error does not fall into any category.|\n",
    "|29 |NotImplementedError |Raised when an abstract method that needs to be implemented in an inherited class is not actually implemented.|"
   ]
  },
  {
   "cell_type": "markdown",
   "metadata": {
    "slideshow": {
     "slide_type": "slide"
    }
   },
   "source": [
    "# Working with exceptions\n",
    "\n",
    "When a Python script raises an exception, it must either handle the exception immediately otherwise it terminates and quits.\n",
    "Handling an exception\n",
    "\n",
    "If you have some suspicious code that may raise an exception, you can defend your program by placing the suspicious code in a try: block. After the try: block, include an except: statement, followed by a block of code which handles the problem as elegantly as possible.\n",
    "Syntax\n",
    "\n",
    "Here is simple syntax of `try-except-else` blocks:\n",
    "\n",
    "```\n",
    "try:\n",
    "   You do your operations here;\n",
    "   ......................\n",
    "except ExceptionI:\n",
    "   If there is ExceptionI, then execute this block.\n",
    "except ExceptionII:\n",
    "   If there is ExceptionII, then execute this block.\n",
    "   ......................\n",
    "else:\n",
    "   If there is no exception then execute this block. \n",
    "```"
   ]
  },
  {
   "cell_type": "markdown",
   "metadata": {
    "slideshow": {
     "slide_type": "subslide"
    }
   },
   "source": [
    "Important points about the `try-except-else` blocks syntax:\n",
    "\n",
    "- A single `try` statement can have multiple `except` statements. This is useful when the `try` block contains statements that may throw different types of exceptions.\n",
    "- You can also provide a generic `except` clause, which handles any exception.\n",
    "- After the `except` clause(s), you can include an `else`-clause. The code in the `else`-block executes if the code in the `try`: block does not raise an exception.\n",
    "- The `else`-block is a good place for code that does not need the `try`: block's protection."
   ]
  },
  {
   "cell_type": "markdown",
   "metadata": {
    "slideshow": {
     "slide_type": "subslide"
    }
   },
   "source": [
    "This example opens a file, writes content in the, file and comes out gracefully because there is no problem at all."
   ]
  },
  {
   "cell_type": "code",
   "execution_count": null,
   "metadata": {},
   "outputs": [],
   "source": [
    "try:\n",
    "    fh = open(\"testfile\", \"w\")\n",
    "    fh.write(\"This is my test file for exception handling!!\")\n",
    "except IOError:\n",
    "    print(\"Error: can\\'t find file or read data\")\n",
    "else:\n",
    "    print(\"Written content in the file successfully\")\n",
    "    fh.close()"
   ]
  },
  {
   "cell_type": "markdown",
   "metadata": {},
   "source": [
    "This example produces the following result:\n",
    "```\n",
    "Written content in the file successfully\n",
    "```"
   ]
  },
  {
   "cell_type": "markdown",
   "metadata": {
    "slideshow": {
     "slide_type": "subslide"
    }
   },
   "source": [
    "This example tries to `open` a file where you do not have write permission, so it raises an exception"
   ]
  },
  {
   "cell_type": "code",
   "execution_count": null,
   "metadata": {},
   "outputs": [],
   "source": [
    "fh = open(\"testfile\", \"r\")\n",
    "fh.write(\"This is my test file for exception handling!!\")"
   ]
  },
  {
   "cell_type": "code",
   "execution_count": null,
   "metadata": {},
   "outputs": [],
   "source": [
    "try:\n",
    "    fh = open(\"testfile\", \"r\")\n",
    "    fh.write(\"This is my test file for exception handling!!\")\n",
    "except IOError:\n",
    "    print(\"Error: can\\'t find file or read data\")\n",
    "else:\n",
    "    print(\"Written content in the file successfully\")"
   ]
  },
  {
   "cell_type": "markdown",
   "metadata": {},
   "source": [
    "This produces the following result:\n",
    "```\n",
    "Error: can't find file or read data\n",
    "```"
   ]
  },
  {
   "cell_type": "markdown",
   "metadata": {
    "slideshow": {
     "slide_type": "slide"
    }
   },
   "source": [
    "# The `except` Clause with No Exceptions\n",
    "\n",
    "You can also use the `except` statement with no exceptions defined as follows:\n",
    "\n",
    "```\n",
    "try:\n",
    "   You do your operations here;\n",
    "   ......................\n",
    "except:\n",
    "   If there is any exception, then execute this block.\n",
    "   ......................\n",
    "else:\n",
    "   If there is no exception then execute this block. \n",
    "```\n",
    "\n",
    "This kind of a `try-except` statement catches all the exceptions that occur. Using this kind of `try-except` statement is not considered a good programming practice though, because it catches all exceptions but does not make the programmer identify the root cause of the problem that may occur."
   ]
  },
  {
   "cell_type": "markdown",
   "metadata": {
    "slideshow": {
     "slide_type": "slide"
    }
   },
   "source": [
    "# The `except` Clause with Multiple Exceptions\n",
    "\n",
    "You can also use the same except statement to handle multiple exceptions as follows:\n",
    "\n",
    "```\n",
    "try:\n",
    "   You do your operations here;\n",
    "   ......................\n",
    "except(Exception1[, Exception2[,...ExceptionN]]]):zzzzz\n",
    "   If there is any exception from the given exception list, \n",
    "   then execute this block.\n",
    "   ......................\n",
    "else:\n",
    "   If there is no exception then execute this block. \n",
    "```"
   ]
  },
  {
   "cell_type": "markdown",
   "metadata": {
    "slideshow": {
     "slide_type": "slide"
    }
   },
   "source": [
    "# The `try-finally` Clause\n",
    "\n",
    "You can use a `finally`: block along with a `try`: block. The `finally` block is a place to put any code that must execute, whether the try-block raised an exception or not. The syntax of the `try`-finally statement is this:\n",
    "```\n",
    "try:\n",
    "   You do your operations here;\n",
    "   ......................\n",
    "   Due to any exception, this may be skipped.\n",
    "finally:\n",
    "   This would always be executed.\n",
    "   ......................\n",
    "```"
   ]
  },
  {
   "cell_type": "markdown",
   "metadata": {
    "slideshow": {
     "slide_type": "subslide"
    }
   },
   "source": [
    "You cannot use `else` clause as well along with a `finally` clause."
   ]
  },
  {
   "cell_type": "code",
   "execution_count": null,
   "metadata": {},
   "outputs": [],
   "source": [
    "try:\n",
    "    fh = open(\"testfile\", \"w\")\n",
    "    fh.write(\"This is my test file for exception handling!!\")\n",
    "finally:\n",
    "    print(\"Error: can\\'t find file or read data\")\n",
    "    fh.close()"
   ]
  },
  {
   "cell_type": "markdown",
   "metadata": {},
   "source": [
    "If you do not have permission to open the file in writing mode, then this will produce the following result:\n",
    "```\n",
    "Error: can't find file or read data\n",
    "```"
   ]
  },
  {
   "cell_type": "markdown",
   "metadata": {
    "slideshow": {
     "slide_type": "subslide"
    }
   },
   "source": [
    "Same example can be written more cleanly as follows:"
   ]
  },
  {
   "cell_type": "code",
   "execution_count": null,
   "metadata": {},
   "outputs": [],
   "source": [
    "try:\n",
    "    fh = open(\"testfile\", \"r\")\n",
    "    try:\n",
    "        fh.write(\"This is my test file for exception handling!!\")\n",
    "    finally:\n",
    "        print(\"Going to close the file\")\n",
    "        fh.close()\n",
    "except IOError:\n",
    "    print(\"Error: can\\'t find file or read data\")"
   ]
  },
  {
   "cell_type": "markdown",
   "metadata": {},
   "source": [
    "When an `exception` is thrown in the `try` block, the execution immediately passes to the `finally` block. After all the statements in the finally block are executed, the exception is raised again and is handled in the except statements if present in the next higher layer of the try-except statement."
   ]
  },
  {
   "cell_type": "markdown",
   "metadata": {
    "slideshow": {
     "slide_type": "slide"
    }
   },
   "source": [
    "# Argument of an Exception\n",
    "\n",
    "An exception can have an `argument`, which is a value that gives additional information about the problem. The contents of the argument vary by exception. You capture an exception's argument by supplying a variable in the except clause as follows:\n",
    "```\n",
    "try:\n",
    "   You do your operations here;\n",
    "   ......................\n",
    "except ExceptionType as Argument:\n",
    "   You can print value of Argument here...\n",
    "```\n",
    "If you write the code to handle a single exception, you can have a variable follow the name of the exception in the except statement. If you are trapping multiple exceptions, you can have a variable follow the tuple of the exception.\n",
    "\n",
    "This variable receives the value of the exception mostly containing the cause of the exception. The variable can receive a single value or multiple values in the form of a tuple. This tuple usually contains the error string, the error number, and an error location."
   ]
  },
  {
   "cell_type": "code",
   "execution_count": null,
   "metadata": {
    "slideshow": {
     "slide_type": "subslide"
    }
   },
   "outputs": [],
   "source": [
    "# Define a function here.\n",
    "def temp_convert(var):\n",
    "    try:\n",
    "        return int(var)\n",
    "    except ValueError as Argument:\n",
    "        print(f\"The argument does not contain numbers\\n {Argument}\")\n",
    "\n",
    "# Call above function here.\n",
    "temp_convert(\"xyz\");"
   ]
  },
  {
   "cell_type": "markdown",
   "metadata": {},
   "source": [
    "This produces the following result:\n",
    "```\n",
    "The argument does not contain numbers\n",
    "invalid literal for int() with base 10: 'xyz'\n",
    "```"
   ]
  },
  {
   "cell_type": "markdown",
   "metadata": {
    "slideshow": {
     "slide_type": "slide"
    }
   },
   "source": [
    "# Raising an Exceptions\n",
    "\n",
    "You can raise exceptions in several ways by using the raise statement. The general syntax for the `raise` statement is as follows."
   ]
  },
  {
   "cell_type": "markdown",
   "metadata": {
    "slideshow": {
     "slide_type": "slide"
    }
   },
   "source": [
    "## Syntax `raise`\n",
    "\n",
    "```\n",
    "raise [Exception [, args [, traceback]]]\n",
    "```\n",
    "\n",
    "Here, `Exception` is the type of exception (for example, NameError) and `argument` is a value for the exception argument. The argument is optional; if not supplied, the exception argument is None.\n",
    "\n",
    "The final argument, traceback, is also optional (and rarely used in practice), and if present, is the traceback object used for the exception."
   ]
  },
  {
   "cell_type": "markdown",
   "metadata": {
    "slideshow": {
     "slide_type": "slide"
    }
   },
   "source": [
    "## Example `raise`\n",
    "\n",
    "An exception can be a string, a class or an object. Most of the exceptions that the Python core raises are classes, with an argument that is an instance of the class. Defining new exceptions is quite easy and can be done as follows −"
   ]
  },
  {
   "cell_type": "code",
   "execution_count": null,
   "metadata": {},
   "outputs": [],
   "source": [
    "def functionName( level ):\n",
    "    if level < 1:\n",
    "        raise f\"Invalid level! {level}\"\n",
    "        # The code below to this would not be executed\n",
    "        # if we raise the exception"
   ]
  },
  {
   "cell_type": "markdown",
   "metadata": {},
   "source": [
    "Note: In order to catch an exception, an \"except\" clause must refer to the same exception thrown either class object or simple string. For example, to capture above exception, we must write the except clause as follows −\n",
    "\n",
    "```\n",
    "try:\n",
    "   Business Logic here...\n",
    "except \"Invalid level!\":\n",
    "   Exception handling here...\n",
    "else:\n",
    "   Rest of the code here...\n",
    "``` "
   ]
  },
  {
   "cell_type": "markdown",
   "metadata": {
    "slideshow": {
     "slide_type": "subslide"
    }
   },
   "source": [
    "The following example illustrates the use of raising an exception:"
   ]
  },
  {
   "cell_type": "code",
   "execution_count": null,
   "metadata": {},
   "outputs": [],
   "source": [
    "def functionName( level ):\n",
    "    if level < 1:\n",
    "        raise Exception(level)\n",
    "        # The code below to this would not be executed\n",
    "        # if we raise the exception\n",
    "    return level\n",
    "\n",
    "try:\n",
    "    l = functionName(-10)\n",
    "    print(f\"level = {l}\")\n",
    "except Exception as e:\n",
    "    print(f\"error in level argument {e.args[0]}\")"
   ]
  },
  {
   "cell_type": "markdown",
   "metadata": {
    "slideshow": {
     "slide_type": "slide"
    }
   },
   "source": [
    "# User-Defined Exceptions\n",
    "\n",
    "Python also allows you to create your own exceptions by deriving classes from the standard built-in exceptions.\n",
    "\n",
    "Here is an example related to `RuntimeError`. Here, a class is created that is subclassed from `RuntimeError`. This is useful when you need to display more specific information when an exception is caught.\n",
    "\n",
    "In the try block, the user-defined exception is raised and caught in the except block. The variable e is used to create an instance of the class `Networkerror`.\n",
    "\n",
    "```\n",
    "class Networkerror(RuntimeError):\n",
    "   def __init__(self, arg):\n",
    "      self.args = arg\n",
    "```\n",
    "\n",
    "So once you defined above class, you can raise the exception as follows:\n",
    "\n",
    "```\n",
    "try:\n",
    "   raise Networkerror(\"Bad hostname\")\n",
    "except Networkerror,e:\n",
    "   print e.args\n",
    "```"
   ]
  },
  {
   "cell_type": "code",
   "execution_count": null,
   "metadata": {
    "slideshow": {
     "slide_type": "subslide"
    }
   },
   "outputs": [],
   "source": [
    "class Networkerror(RuntimeError):\n",
    "    def __init__(self, arg):\n",
    "        self.args = arg\n",
    "        #self.args = 1\n",
    "        #self.args = (arg,)\n",
    "        pass\n",
    "try:\n",
    "    raise Networkerror(\"Bad hostname\")\n",
    "except Networkerror as e:\n",
    "    print(e.args)     "
   ]
  },
  {
   "cell_type": "code",
   "execution_count": null,
   "metadata": {},
   "outputs": [],
   "source": [
    "test_Networkerror = Networkerror(\"hi\")\n",
    "print(test_Networkerror.args)"
   ]
  },
  {
   "cell_type": "code",
   "execution_count": null,
   "metadata": {},
   "outputs": [],
   "source": [
    "test_RuntimeError = RuntimeError(\"hi\")\n",
    "print(test_RuntimeError.args)"
   ]
  },
  {
   "cell_type": "code",
   "execution_count": null,
   "metadata": {},
   "outputs": [],
   "source": [
    "print(test_RuntimeError.args)"
   ]
  },
  {
   "cell_type": "code",
   "execution_count": null,
   "metadata": {},
   "outputs": [],
   "source": [
    "type(RuntimeError.args)"
   ]
  },
  {
   "cell_type": "code",
   "execution_count": null,
   "metadata": {},
   "outputs": [],
   "source": [
    "print(RuntimeError.args)"
   ]
  },
  {
   "cell_type": "code",
   "execution_count": null,
   "metadata": {},
   "outputs": [],
   "source": [
    "print(Networkerror.args)"
   ]
  },
  {
   "cell_type": "code",
   "execution_count": null,
   "metadata": {},
   "outputs": [],
   "source": [
    "dir(RuntimeError.args)"
   ]
  },
  {
   "cell_type": "code",
   "execution_count": null,
   "metadata": {},
   "outputs": [],
   "source": []
  }
 ],
 "metadata": {
  "kernelspec": {
   "display_name": "Python 3",
   "language": "python",
   "name": "python3"
  },
  "language_info": {
   "codemirror_mode": {
    "name": "ipython",
    "version": 3
   },
   "file_extension": ".py",
   "mimetype": "text/x-python",
   "name": "python",
   "nbconvert_exporter": "python",
   "pygments_lexer": "ipython3",
   "version": "3.8.5"
  }
 },
 "nbformat": 4,
 "nbformat_minor": 4
}
