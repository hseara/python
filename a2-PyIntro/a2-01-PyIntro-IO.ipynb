{
 "cells": [
  {
   "cell_type": "markdown",
   "metadata": {
    "slideshow": {
     "slide_type": "slide"
    }
   },
   "source": [
    "# PyIntro-A2 - File Handling and Output Parsing"
   ]
  },
  {
   "cell_type": "markdown",
   "metadata": {},
   "source": [
    "There are many way to access/edit/search/delete/update files and directories in python. The most basic one is the [os](https://docs.python.org/3/library/os.html) module that provides a portable way of using operating system dependent functionality. If you just want to read or write a file see [open()](https://docs.python.org/3/library/functions.html#open), if you want to manipulate paths, see the [os.path](https://docs.python.org/3/library/os.path.html#module-os.path) module, and if you want to read all the lines in all the files on the command line see the [fileinput](https://docs.python.org/3/library/fileinput.html#module-fileinput) module. For creating temporary files and directories see the [tempfile](https://docs.python.org/3/library/tempfile.html#module-tempfile) module, and for high-level file and directory handling see the [shutil](https://docs.python.org/3/library/shutil.html#module-shutil) module.\n",
    "\n",
    "The will introduce the following standard modules briefly here are to work with files and directories are:\n",
    "- `os`: Miscellaneous operating system interfaces ([Documentation](https://docs.python.org/3/library/os.html))."
   ]
  },
  {
   "cell_type": "markdown",
   "metadata": {
    "slideshow": {
     "slide_type": "slide"
    }
   },
   "source": [
    "## Availablility of the function between different architectures:\n",
    "\n",
    "Python tries to help you write portable codes between any architecture. Unfortunately, there are limits. The `os` module enables you to write an OS-independent code.  It does a great job of trying to provide functions tight to the OS that will work in as many systems as possible in a transparent way. However, there are limits. Therefore, not all functions are available to every architecture (**You have been warned**).\n",
    "\n",
    "- The design of all built-in operating system dependent modules of Python is such that as long as the same functionality is available, it uses the same interface\n",
    "- Extensions peculiar to a particular operating system are also available through the os module, but using them is of course a threat to portability.\n",
    "- All functions accepting path or file names accept both bytes and string objects, and result in an object of the same type, if a path or file name is returned.\n",
    "- On VxWorks, os.fork, os.execv and os.spawn*p* are not supported."
   ]
  },
  {
   "cell_type": "markdown",
   "metadata": {
    "slideshow": {
     "slide_type": "subslide"
    }
   },
   "source": [
    "### Checking your architecture:"
   ]
  },
  {
   "cell_type": "code",
   "execution_count": 2,
   "metadata": {},
   "outputs": [
    {
     "data": {
      "text/plain": [
       "'posix'"
      ]
     },
     "execution_count": 2,
     "metadata": {},
     "output_type": "execute_result"
    }
   ],
   "source": [
    "import os\n",
    "os.name"
   ]
  },
  {
   "cell_type": "markdown",
   "metadata": {},
   "source": [
    "Usual architectures are:\n",
    "\n",
    "- **posix:** linux, MacOS, FreeBSD, unix, [Microsoft WSL](https://docs.microsoft.com/en-us/windows/wsl/wsl2-index),...\n",
    "- **nt:** Windows\n",
    "- **java:** Adroid\n",
    "\n",
    "You can find additional details of your machine with:"
   ]
  },
  {
   "cell_type": "code",
   "execution_count": 3,
   "metadata": {},
   "outputs": [
    {
     "data": {
      "text/plain": [
       "posix.uname_result(sysname='Linux', nodename='cerberus', release='5.7.10-arch1-1', version='#1 SMP PREEMPT Wed, 22 Jul 2020 19:57:42 +0000', machine='x86_64')"
      ]
     },
     "execution_count": 3,
     "metadata": {},
     "output_type": "execute_result"
    }
   ],
   "source": [
    "import os\n",
    "os.uname()"
   ]
  },
  {
   "cell_type": "markdown",
   "metadata": {
    "slideshow": {
     "slide_type": "subslide"
    }
   },
   "source": [
    "#### Listing the capabilities of the `os` module in your system\n",
    "\n",
    "Not all the functions included in the os module are available in all the systems. They can be OS, platform, and system configuration dependent. You can check which functions of the `os` module to handle files are available in a system by:"
   ]
  },
  {
   "cell_type": "code",
   "execution_count": 5,
   "metadata": {},
   "outputs": [
    {
     "data": {
      "text/plain": [
       "{<function posix.chdir(path)>,\n",
       " <function posix.chmod(path, mode, *, dir_fd=None, follow_symlinks=True)>,\n",
       " <function posix.chown(path, uid, gid, *, dir_fd=None, follow_symlinks=True)>,\n",
       " <function posix.execve(path, argv, env)>,\n",
       " <function posix.listdir(path=None)>,\n",
       " <function posix.pathconf(path, name)>,\n",
       " <function posix.scandir(path=None)>,\n",
       " <function posix.stat(path, *, dir_fd=None, follow_symlinks=True)>,\n",
       " <function posix.statvfs(path)>,\n",
       " <function posix.truncate(path, length)>,\n",
       " <function posix.utime>}"
      ]
     },
     "execution_count": 5,
     "metadata": {},
     "output_type": "execute_result"
    }
   ],
   "source": [
    "import os\n",
    "os.supports_fd"
   ]
  },
  {
   "cell_type": "markdown",
   "metadata": {},
   "source": [
    "<div class=\"alert alert-info\"> Advise: Avoid OS specific function if possible."
   ]
  },
  {
   "cell_type": "markdown",
   "metadata": {
    "slideshow": {
     "slide_type": "slide"
    }
   },
   "source": [
    "## File/directory structure of the course:\n",
    "\n",
    "```\n",
    "python/\n",
    "|   README.md\n",
    "|   slides.sh\n",
    "|\n",
    "└───a1-PyIntro\n",
    "|   |   a1-00-PyIntro-Intro.ipynb\n",
    "|   |   a1-01-PyIntro-Datatypes.ipynb\n",
    "|   |   a1-02-PyIntro-Loops_Decisions.ipynb\n",
    "|   |   a1-03-PyIntro-Syntax.ipynb\n",
    "|   |   a1-04-PyIntro-Functions.ipynb\n",
    "|\n",
    "└───a2-PyIntro\n",
    "|   |   a2-01-PyIntro-IO.ipynb\n",
    "|   |\n",
    "|   └───data\n",
    "|       |   Table_NWChem.txt\n",
    "|       |   1uuh.pdb\n",
    "|       |   1uuh.cif\n",
    "|   \n",
    "└───b1-PyInter\n",
    "|\n",
    "...\n",
    "```\n",
    "\n",
    "This directory/file tree will help you when navigating through the examples of this notebook."
   ]
  },
  {
   "cell_type": "markdown",
   "metadata": {
    "slideshow": {
     "slide_type": "slide"
    }
   },
   "source": [
    "## Python working directory\n",
    "\n",
    "The current working directory is the folder in which the Python script is operating. It is the default directory where new files will be created by python commands when no path will be explicitly provided."
   ]
  },
  {
   "cell_type": "markdown",
   "metadata": {},
   "source": [
    "<div class=\"alert alert-warning\"> We can change the python working path at any time during the execution of a notebook. Therefore, executing this notebook randomly may create files/directories inside undesired directories. Also, some cells in this notebook require accessing some files. If not in the correct python working path, the required files will appear missing as they are searched for elsewhere but the intended place."
   ]
  },
  {
   "cell_type": "markdown",
   "metadata": {
    "slideshow": {
     "slide_type": "slide"
    }
   },
   "source": [
    "### Find current working directory: `os.getcwd()`"
   ]
  },
  {
   "cell_type": "markdown",
   "metadata": {},
   "source": [
    "`os.getcwd()` returns the absolute path of the working directory where Python is currently running as a string str . `getcwd` stands for \"get current working directory\"."
   ]
  },
  {
   "cell_type": "code",
   "execution_count": 6,
   "metadata": {},
   "outputs": [
    {
     "data": {
      "text/plain": [
       "'/home/hector/ownCloudCESNET/repo/teaching/python/a2-PyIntro'"
      ]
     },
     "execution_count": 6,
     "metadata": {},
     "output_type": "execute_result"
    }
   ],
   "source": [
    "import os\n",
    "os.getcwd()"
   ]
  },
  {
   "cell_type": "markdown",
   "metadata": {},
   "source": [
    "<div class=\"alert alert-danger\"> For the notebook to work it needs to point to the folder: <span style=\"background-color:#00FEFE\">/MY/PATH/python/a2-Py-Intro/<\\span>"
   ]
  },
  {
   "cell_type": "markdown",
   "metadata": {},
   "source": [
    "when working with jupyter lab we can also type:"
   ]
  },
  {
   "cell_type": "code",
   "execution_count": 7,
   "metadata": {},
   "outputs": [
    {
     "data": {
      "text/plain": [
       "'/home/hector/ownCloudCESNET/repo/teaching/python/a2-PyIntro'"
      ]
     },
     "execution_count": 7,
     "metadata": {},
     "output_type": "execute_result"
    }
   ],
   "source": [
    "pwd"
   ]
  },
  {
   "cell_type": "markdown",
   "metadata": {
    "slideshow": {
     "slide_type": "slide"
    }
   },
   "source": [
    "### Save the working directory path:\n",
    "\n",
    "We will save the `/YOUR/PATH/python/a2-PyIntro` in the variable wrkdir for future usage."
   ]
  },
  {
   "cell_type": "code",
   "execution_count": 21,
   "metadata": {},
   "outputs": [
    {
     "name": "stdout",
     "output_type": "stream",
     "text": [
      "/home/hector/ownCloudCESNET/repo/teaching/python/a2-PyIntro\n",
      "/home/hector/ownCloudCESNET/repo/teaching/python/a2-PyIntro/data\n"
     ]
    }
   ],
   "source": [
    "import os\n",
    "\n",
    "# Default:\n",
    "wrkdir = os.getcwd()\n",
    "\n",
    "# Windows\n",
    "#wrkdir = \"C:/YOUR/COURSE/MAIN/DIRECTORY/python/\"\n",
    "\n",
    "# Linux/MacOSX\n",
    "#wrkdir = \"/home/user/directory/course/python/\"\n",
    "\n",
    "wrkdir = os.path.normpath(wrkdir)\n",
    "datadir = os.path.join(wrkdir,\"data\")\n",
    "\n",
    "print(wrkdir)\n",
    "print(datadir)"
   ]
  },
  {
   "cell_type": "markdown",
   "metadata": {},
   "source": [
    "If the default command does not point to the `/YOUR/PATH/python/a2-PyIntro` path, please set it manually by uncomenting and mofiying the coresponding line following the next two remarks:\n",
    "\n",
    "- The path depends on the OS you have. Please select the style accordingly.\n",
    "- Set the path to point exactly to `/YOUR/PATH/python/a2-PyIntro`\n"
   ]
  },
  {
   "cell_type": "markdown",
   "metadata": {
    "slideshow": {
     "slide_type": "slide"
    }
   },
   "source": [
    "### Changing working directory: `os.chdir()`\n",
    "\n",
    "`os.chdir(path)` Change the current working directory to path."
   ]
  },
  {
   "cell_type": "code",
   "execution_count": 16,
   "metadata": {},
   "outputs": [
    {
     "data": {
      "text/plain": [
       "'/home/hector/ownCloudCESNET/repo/teaching/python/a2-PyIntro/data'"
      ]
     },
     "execution_count": 16,
     "metadata": {},
     "output_type": "execute_result"
    }
   ],
   "source": [
    "import os\n",
    "os.chdir(wrkdir + \"/data\")\n",
    "os.getcwd()"
   ]
  },
  {
   "cell_type": "markdown",
   "metadata": {},
   "source": [
    "This works in *posix* and *java* architectures but not in *nt* architecture. It is much better to avoid issues the following method:"
   ]
  },
  {
   "cell_type": "code",
   "execution_count": 12,
   "metadata": {},
   "outputs": [
    {
     "data": {
      "text/plain": [
       "'/home/hector/ownCloudCESNET/repo/teaching/python/a2-PyIntro/data'"
      ]
     },
     "execution_count": 12,
     "metadata": {},
     "output_type": "execute_result"
    }
   ],
   "source": [
    "import os\n",
    "import os.path\n",
    "os.chdir(os.path.join(wrkdir,\"data\"))\n",
    "os.getcwd()"
   ]
  },
  {
   "cell_type": "markdown",
   "metadata": {},
   "source": [
    "`os.path.join()` method in Python join one or more path components intelligently. This method concatenates various path components with exactly one directory separator (‘/’) following each non-empty part except the last path component. If the last path component to be joined is empty then a directory seperator (‘/’) is put at the end.\n",
    "\n",
    "If a path component represents an absolute path, then all previous components joined are discarded and joining continues from the absolute path component."
   ]
  },
  {
   "cell_type": "code",
   "execution_count": 19,
   "metadata": {},
   "outputs": [
    {
     "data": {
      "text/plain": [
       "'/home/hector/ownCloudCESNET/repo/teaching/python/a2-PyIntro/data'"
      ]
     },
     "execution_count": 19,
     "metadata": {},
     "output_type": "execute_result"
    }
   ],
   "source": [
    "# Go back to the wrkdir\n",
    "import os\n",
    "os.chdir(wrkdir)\n",
    "os.getcwd()"
   ]
  },
  {
   "cell_type": "markdown",
   "metadata": {
    "slideshow": {
     "slide_type": "slide"
    }
   },
   "source": [
    "## Working with files and directories in python"
   ]
  },
  {
   "cell_type": "markdown",
   "metadata": {
    "slideshow": {
     "slide_type": "slide"
    }
   },
   "source": [
    "### Displaying content working directory: `os.listdir()`"
   ]
  },
  {
   "cell_type": "markdown",
   "metadata": {},
   "source": [
    "`os.listdir()` will print all files and directories inside you prython working directory."
   ]
  },
  {
   "cell_type": "code",
   "execution_count": 8,
   "metadata": {},
   "outputs": [
    {
     "data": {
      "text/plain": [
       "['data', '.ipynb_checkpoints', 'a2-01-PyIntro-IO.ipynb']"
      ]
     },
     "execution_count": 8,
     "metadata": {},
     "output_type": "execute_result"
    }
   ],
   "source": [
    "import os\n",
    "os.listdir()"
   ]
  },
  {
   "cell_type": "markdown",
   "metadata": {},
   "source": [
    "You can list the content of another directory using the path as argument:"
   ]
  },
  {
   "cell_type": "code",
   "execution_count": 10,
   "metadata": {},
   "outputs": [
    {
     "data": {
      "text/plain": [
       "['1uuh.cif', '1uuh.pdb', 'Table_NWChem.txt']"
      ]
     },
     "execution_count": 10,
     "metadata": {},
     "output_type": "execute_result"
    }
   ],
   "source": [
    "import os\n",
    "os.listdir(\"./data\")"
   ]
  },
  {
   "cell_type": "markdown",
   "metadata": {
    "slideshow": {
     "slide_type": "slide"
    }
   },
   "source": [
    "### Iterating over the files and directories: `os.walk()`"
   ]
  },
  {
   "cell_type": "markdown",
   "metadata": {
    "slideshow": {
     "slide_type": "subslide"
    }
   },
   "source": [
    "Generate the file names in a directory tree by walking the tree either top-down or bottom-up. For each directory in the tree rooted at directory top (including top itself), it yields a 3-tuple (dirpath, dirnames, filenames)."
   ]
  },
  {
   "cell_type": "code",
   "execution_count": 25,
   "metadata": {},
   "outputs": [
    {
     "name": "stdout",
     "output_type": "stream",
     "text": [
      "<generator object walk at 0x7fbd8005de40>\n"
     ]
    }
   ],
   "source": [
    "print(os.walk(\".\"))"
   ]
  },
  {
   "cell_type": "markdown",
   "metadata": {},
   "source": [
    "#### Displaying the tree of a directory"
   ]
  },
  {
   "cell_type": "code",
   "execution_count": 28,
   "metadata": {},
   "outputs": [
    {
     "name": "stdout",
     "output_type": "stream",
     "text": [
      "./\n",
      "    a2-01-PyIntro-IO.ipynb\n",
      "    data/\n",
      "        1uuh.cif\n",
      "        1uuh.pdb\n",
      "        Table_NWChem.txt\n",
      "    .ipynb_checkpoints/\n",
      "        a2-01-PyIntro-IO-checkpoint.ipynb\n"
     ]
    }
   ],
   "source": [
    "import os\n",
    "\n",
    "def list_files(startpath):\n",
    "    for root, dirs, files in os.walk(startpath):\n",
    "        level = root.replace(startpath, '', 1).count(os.sep)\n",
    "        indent = ' ' * 4 * (level)\n",
    "        print('{}{}/'.format(indent, os.path.basename(root)))\n",
    "        subindent = ' ' * 4 * (level + 1)\n",
    "        for f in files:\n",
    "            print('{}{}'.format(subindent, f))\n",
    "\n",
    "list_files(\".\")"
   ]
  },
  {
   "cell_type": "markdown",
   "metadata": {
    "slideshow": {
     "slide_type": "subslide"
    }
   },
   "source": [
    "#### Finding the size of the content of a folder"
   ]
  },
  {
   "cell_type": "code",
   "execution_count": 54,
   "metadata": {},
   "outputs": [
    {
     "name": "stdout",
     "output_type": "stream",
     "text": [
      "root = /home/hector/ownCloudCESNET/repo/teaching/python/a2-PyIntro\n",
      "dirs =  ['data', '.ipynb_checkpoints']\n",
      "files = ['a2-01-PyIntro-IO.ipynb']\n",
      "Contains 2 directories\n",
      "Contains 1 files summing 0.07 Mbytes\n",
      "\n",
      "root = /home/hector/ownCloudCESNET/repo/teaching/python/a2-PyIntro/data\n",
      "dirs =  []\n",
      "files = ['1uuh.cif', '1uuh.pdb', 'Table_NWChem.txt']\n",
      "Contains 0 directories\n",
      "Contains 3 files summing 0.53 Mbytes\n",
      "\n",
      "root = /home/hector/ownCloudCESNET/repo/teaching/python/a2-PyIntro/.ipynb_checkpoints\n",
      "dirs =  []\n",
      "files = ['a2-01-PyIntro-IO-checkpoint.ipynb']\n",
      "Contains 0 directories\n",
      "Contains 1 files summing 0.06 Mbytes\n",
      "\n"
     ]
    }
   ],
   "source": [
    "import os\n",
    "from os.path import join, getsize\n",
    "for root, dirs, files in os.walk('.'):\n",
    "    root_abs = os.path.abspath(root)\n",
    "    print(f\"root = {root_abs}\")\n",
    "    print(f\"dirs =  {dirs}\")\n",
    "    print(f\"files = {files}\")\n",
    "    size = sum(getsize(join(root, name)) for name in files)\n",
    "    print(f\"Contains {len(dirs)} directories\")\n",
    "    print(f\"Contains {len(files)} files summing {size/(1024**2):.2f} Mbytes\\n\")"
   ]
  },
  {
   "cell_type": "markdown",
   "metadata": {
    "slideshow": {
     "slide_type": "slide"
    }
   },
   "source": [
    "## File handling\n",
    "\n",
    "Python has several functions for creating, reading, updating, and deleting files."
   ]
  },
  {
   "cell_type": "markdown",
   "metadata": {},
   "source": [
    "The key function for working with files in Python is the `open()` function.\n",
    "\n",
    "The `open()` function takes two parameters; filename, and mode.\n",
    "\n",
    "There are four different methods (modes) for opening a file:\n",
    "\n",
    "`\"r\"` - Read - Default value. Opens a file for reading, error if the file does not exist\n",
    "\n",
    "`\"a\"` - Append - Opens a file for appending, creates the file if it does not exist\n",
    "\n",
    "`\"w\"` - Write - Opens a file for writing, creates the file if it does not exist\n",
    "\n",
    "`\"x\"` - Create - Creates the specified file, returns an error if the file exists\n",
    "\n",
    "In addition you can specify if the file should be handled as binary or text mode\n",
    "\n",
    "`\"t\"` - Text - Default value. Text mode\n",
    "\n",
    "`\"b\"` - Binary - Binary mode (e.g. images)\n"
   ]
  },
  {
   "cell_type": "code",
   "execution_count": 22,
   "metadata": {},
   "outputs": [],
   "source": [
    "# Set path to datafile\n",
    "datafile = os.path.join(datadir, \"Table_NWChem.txt\")"
   ]
  },
  {
   "cell_type": "markdown",
   "metadata": {},
   "source": [
    "### Open a file for reading it: `open(path, 'r')`\n",
    "\n",
    "To open a file for reading it is enough to specify the name of the file:"
   ]
  },
  {
   "cell_type": "code",
   "execution_count": 26,
   "metadata": {},
   "outputs": [],
   "source": [
    "f = open(datafile, \"rt\")\n",
    "f.close()"
   ]
  },
  {
   "cell_type": "markdown",
   "metadata": {},
   "source": [
    "The code above can be reduced to:"
   ]
  },
  {
   "cell_type": "code",
   "execution_count": 37,
   "metadata": {},
   "outputs": [],
   "source": [
    "f = open(datafile)\n",
    "f.close()"
   ]
  },
  {
   "cell_type": "markdown",
   "metadata": {},
   "source": [
    "Because \"r\" for read, and \"t\" for text are the default values, you do not need to specify them.\n",
    "\n",
    "Note: Make sure the file exists, or else you will get an error."
   ]
  },
  {
   "cell_type": "markdown",
   "metadata": {},
   "source": [
    "### Reading the content of a file"
   ]
  },
  {
   "cell_type": "code",
   "execution_count": 38,
   "metadata": {},
   "outputs": [
    {
     "name": "stdout",
     "output_type": "stream",
     "text": [
      "@ Step       Energy      Delta E   Gmax     Grms     Xrms     Xmax   Walltime\n",
      "@ ---- ---------------- -------- -------- -------- -------- -------- --------\n",
      "@    0   -6095.12544083  0.0D+00  0.03686  0.00936  0.00000  0.00000   1391.5\n",
      "@    1   -6095.25762870 -1.3D-01  0.00732  0.00168  0.32456  0.84140  10468.0\n",
      "@    2   -6095.26325979 -5.6D-03  0.00233  0.00056  0.06294  0.14009  11963.5\n",
      "@    3   -6095.26428124 -1.0D-03  0.00109  0.00024  0.03245  0.10269  13331.9\n",
      "@    4   -6095.26463203 -3.5D-04  0.00057  0.00013  0.02737  0.09112  14710.8\n",
      "@    5   -6095.26477615 -1.4D-04  0.00043  0.00009  0.02259  0.08615  20211.1\n",
      "@    6   -6095.26482624 -5.0D-05  0.00015  0.00002  0.00831  0.03147  21726.1\n",
      "@    7   -6095.26483584 -9.6D-06  0.00021  0.00004  0.01473  0.05265  24890.5\n",
      "@    8   -6095.26484405 -8.2D-06  0.00005  0.00001  0.00555  0.01929  26448.7\n",
      "@    9   -6095.26484599 -1.9D-06  0.00003  0.00001  0.00164  0.00564  27258.1\n",
      "@   10   -6095.26484676 -7.7D-07  0.00003  0.00001  0.00161  0.00553  28155.3\n",
      "@   11   -6095.26484693 -1.8D-07  0.00002  0.00000  0.00054  0.00151  28981.7\n",
      "@   11   -6095.26484693 -1.8D-07  0.00002  0.00000  0.00054  0.00151  28981.7\n"
     ]
    }
   ],
   "source": [
    "f = open(datafile)\n",
    "for line in f:\n",
    "    print(line.strip(\"\\n\"))\n",
    "f.close()"
   ]
  },
  {
   "cell_type": "markdown",
   "metadata": {},
   "source": [
    "<div class=\"alert alert-warning\"> Always close your files."
   ]
  },
  {
   "cell_type": "markdown",
   "metadata": {},
   "source": [
    "### Opening a file with the `with` statement"
   ]
  },
  {
   "cell_type": "markdown",
   "metadata": {},
   "source": [
    "If you forget to close any open files, funny stuff can happen. Problems are apparent when writing to files, but not only> For example, you might suffer memory exhaustion, realize that the data was not fully written, or that the file is corrupted. Explicitly closing the open files solves all these issues. To avoid this remembering to close the files better use the following syntax:"
   ]
  },
  {
   "cell_type": "code",
   "execution_count": 40,
   "metadata": {},
   "outputs": [
    {
     "name": "stdout",
     "output_type": "stream",
     "text": [
      "@ Step       Energy      Delta E   Gmax     Grms     Xrms     Xmax   Walltime\n",
      "@ ---- ---------------- -------- -------- -------- -------- -------- --------\n",
      "@    0   -6095.12544083  0.0D+00  0.03686  0.00936  0.00000  0.00000   1391.5\n",
      "@    1   -6095.25762870 -1.3D-01  0.00732  0.00168  0.32456  0.84140  10468.0\n",
      "@    2   -6095.26325979 -5.6D-03  0.00233  0.00056  0.06294  0.14009  11963.5\n",
      "@    3   -6095.26428124 -1.0D-03  0.00109  0.00024  0.03245  0.10269  13331.9\n",
      "@    4   -6095.26463203 -3.5D-04  0.00057  0.00013  0.02737  0.09112  14710.8\n",
      "@    5   -6095.26477615 -1.4D-04  0.00043  0.00009  0.02259  0.08615  20211.1\n",
      "@    6   -6095.26482624 -5.0D-05  0.00015  0.00002  0.00831  0.03147  21726.1\n",
      "@    7   -6095.26483584 -9.6D-06  0.00021  0.00004  0.01473  0.05265  24890.5\n",
      "@    8   -6095.26484405 -8.2D-06  0.00005  0.00001  0.00555  0.01929  26448.7\n",
      "@    9   -6095.26484599 -1.9D-06  0.00003  0.00001  0.00164  0.00564  27258.1\n",
      "@   10   -6095.26484676 -7.7D-07  0.00003  0.00001  0.00161  0.00553  28155.3\n",
      "@   11   -6095.26484693 -1.8D-07  0.00002  0.00000  0.00054  0.00151  28981.7\n",
      "@   11   -6095.26484693 -1.8D-07  0.00002  0.00000  0.00054  0.00151  28981.7\n"
     ]
    }
   ],
   "source": [
    "with open(datafile) as fin:\n",
    "    for line in fin:\n",
    "        print(line.strip(\"\\n\"))"
   ]
  },
  {
   "cell_type": "markdown",
   "metadata": {},
   "source": [
    "The `with` statement takes care of closing the file when exiting the block. Moreover, it saves you typing one line, and the indentation signals you when you are still working with the files."
   ]
  },
  {
   "cell_type": "markdown",
   "metadata": {},
   "source": [
    "<div class=\"alert alert-info\"> I cannot recommend enough opening files with the with statement."
   ]
  },
  {
   "cell_type": "markdown",
   "metadata": {},
   "source": [
    "### Open a file for writing it: `open(path, 'w')`\n",
    "\n",
    "To open a file for writing do:"
   ]
  },
  {
   "cell_type": "code",
   "execution_count": 53,
   "metadata": {},
   "outputs": [
    {
     "name": "stdout",
     "output_type": "stream",
     "text": [
      "This is the first line of the new file.\n",
      "This is the second line of the new file.\n"
     ]
    }
   ],
   "source": [
    "with open(\"newfile.txt\", 'w') as fout:\n",
    "    fout.write(\"This is the first line of the new file.\\n\")\n",
    "    fout.write(\"This is the second line of the new file.\")\n",
    "    \n",
    "with open(\"newfile.txt\", 'r') as fin:\n",
    "    for line in fin:\n",
    "        print(line.strip(\"\\n\"))"
   ]
  },
  {
   "cell_type": "markdown",
   "metadata": {},
   "source": [
    "Please note that the `open(path, 'w')` will rewrite the content of the file if already exists. **Be Carefull**"
   ]
  },
  {
   "cell_type": "code",
   "execution_count": 54,
   "metadata": {},
   "outputs": [
    {
     "name": "stdout",
     "output_type": "stream",
     "text": [
      "This is the first line of the new file.\n",
      "This is the second line of the new file.\n",
      "Line1.\n",
      "Line2.\n"
     ]
    }
   ],
   "source": [
    "with open(\"newfile.txt\", 'r') as fin:\n",
    "    for line in fin:\n",
    "        print(line.strip(\"\\n\"))\n",
    "        \n",
    "with open(\"newfile.txt\", 'w') as fout:\n",
    "    fout.write(\"Line1.\\n\")\n",
    "    fout.write(\"Line2.\")\n",
    "    \n",
    "with open(\"newfile.txt\", 'r') as fin:\n",
    "    for line in fin:\n",
    "        print(line.strip(\"\\n\"))"
   ]
  },
  {
   "cell_type": "markdown",
   "metadata": {},
   "source": [
    "Note: Make sure that you have write rights and there is enough space for the file, or else you will get an error."
   ]
  },
  {
   "cell_type": "markdown",
   "metadata": {},
   "source": [
    "<div class=\"alert alert-warning\"> Do not write or read on a closed file :)"
   ]
  },
  {
   "cell_type": "code",
   "execution_count": 49,
   "metadata": {},
   "outputs": [
    {
     "ename": "ValueError",
     "evalue": "I/O operation on closed file.",
     "output_type": "error",
     "traceback": [
      "\u001b[0;31m---------------------------------------------------------------------------\u001b[0m",
      "\u001b[0;31mValueError\u001b[0m                                Traceback (most recent call last)",
      "\u001b[0;32m<ipython-input-49-31060732b167>\u001b[0m in \u001b[0;36m<module>\u001b[0;34m\u001b[0m\n\u001b[1;32m      1\u001b[0m \u001b[0;32mwith\u001b[0m \u001b[0mopen\u001b[0m\u001b[0;34m(\u001b[0m\u001b[0;34m\"newfile.txt\"\u001b[0m\u001b[0;34m,\u001b[0m \u001b[0;34m'w'\u001b[0m\u001b[0;34m)\u001b[0m \u001b[0;32mas\u001b[0m \u001b[0mfout\u001b[0m\u001b[0;34m:\u001b[0m\u001b[0;34m\u001b[0m\u001b[0;34m\u001b[0m\u001b[0m\n\u001b[1;32m      2\u001b[0m     \u001b[0;32mpass\u001b[0m\u001b[0;34m\u001b[0m\u001b[0;34m\u001b[0m\u001b[0m\n\u001b[0;32m----> 3\u001b[0;31m \u001b[0mfout\u001b[0m\u001b[0;34m.\u001b[0m\u001b[0mwrite\u001b[0m\u001b[0;34m(\u001b[0m\u001b[0;34m\"Writting when the file is clossed.\"\u001b[0m\u001b[0;34m)\u001b[0m\u001b[0;34m\u001b[0m\u001b[0;34m\u001b[0m\u001b[0m\n\u001b[0m",
      "\u001b[0;31mValueError\u001b[0m: I/O operation on closed file."
     ]
    }
   ],
   "source": [
    "with open(\"newfile.txt\", 'w') as fout:\n",
    "    pass\n",
    "fout.write(\"Writting when the file is clossed.\")"
   ]
  },
  {
   "cell_type": "markdown",
   "metadata": {},
   "source": [
    "### Open a file for appending text: `open(path, 'a')`\n",
    "\n",
    "Opens a file for appending, creates the file if it does not exist:"
   ]
  },
  {
   "cell_type": "code",
   "execution_count": 56,
   "metadata": {},
   "outputs": [
    {
     "name": "stdout",
     "output_type": "stream",
     "text": [
      "Line1.\n",
      "Line2.\n",
      "Line3\n",
      "Line3.\n"
     ]
    }
   ],
   "source": [
    "with open(\"newfile.txt\", 'a') as fout:\n",
    "    fout.write(\"\\nLine3.\")\n",
    "    \n",
    "with open(\"newfile.txt\", 'r') as fin:\n",
    "    for line in fin:\n",
    "        print(line.strip(\"\\n\"))"
   ]
  },
  {
   "cell_type": "markdown",
   "metadata": {},
   "source": [
    "## Output Parsing\n",
    "\n",
    "Parsing is the process of analyzing a string of symbols conforming to the rules of a formal grammar. The term parsing comes from Latin pars (orationis), meaning part (of speech).\n",
    "\n",
    "As more and more of our day-to-day work is being done on and through computers, we increasingly have output that one program writes, often in a text file, that we need to analyze in one way or another, and potentially feed that output into another file.\n",
    "\n",
    "Suppose we have the following output:"
   ]
  },
  {
   "cell_type": "code",
   "execution_count": 57,
   "metadata": {
    "collapsed": false,
    "jupyter": {
     "outputs_hidden": false
    }
   },
   "outputs": [],
   "source": [
    "myoutput = \"\"\"\\\n",
    "@ Step       Energy      Delta E   Gmax     Grms     Xrms     Xmax   Walltime\n",
    "@ ---- ---------------- -------- -------- -------- -------- -------- --------\n",
    "@    0   -6095.12544083  0.0D+00  0.03686  0.00936  0.00000  0.00000   1391.5\n",
    "@    1   -6095.25762870 -1.3D-01  0.00732  0.00168  0.32456  0.84140  10468.0\n",
    "@    2   -6095.26325979 -5.6D-03  0.00233  0.00056  0.06294  0.14009  11963.5\n",
    "@    3   -6095.26428124 -1.0D-03  0.00109  0.00024  0.03245  0.10269  13331.9\n",
    "@    4   -6095.26463203 -3.5D-04  0.00057  0.00013  0.02737  0.09112  14710.8\n",
    "@    5   -6095.26477615 -1.4D-04  0.00043  0.00009  0.02259  0.08615  20211.1\n",
    "@    6   -6095.26482624 -5.0D-05  0.00015  0.00002  0.00831  0.03147  21726.1\n",
    "@    7   -6095.26483584 -9.6D-06  0.00021  0.00004  0.01473  0.05265  24890.5\n",
    "@    8   -6095.26484405 -8.2D-06  0.00005  0.00001  0.00555  0.01929  26448.7\n",
    "@    9   -6095.26484599 -1.9D-06  0.00003  0.00001  0.00164  0.00564  27258.1\n",
    "@   10   -6095.26484676 -7.7D-07  0.00003  0.00001  0.00161  0.00553  28155.3\n",
    "@   11   -6095.26484693 -1.8D-07  0.00002  0.00000  0.00054  0.00151  28981.7\n",
    "@   11   -6095.26484693 -1.8D-07  0.00002  0.00000  0.00054  0.00151  28981.7\"\"\""
   ]
  },
  {
   "cell_type": "markdown",
   "metadata": {},
   "source": [
    "This output actually came from a geometry optimization of a Silicon cluster using the [NWChem](http://www.nwchem-sw.org/index.php/Main_Page) quantum chemistry suite. At every step the program computes the energy of the molecular geometry, and then changes the geometry to minimize the computed forces, until the energy converges.\n",
    "\n",
    "First, note that the data is entered into a multi-line string. When Python sees three quote marks \"\"\" or ''' it treats everything following as part of a single string, including newlines, tabs, and anything else, until it sees the same three quote marks (\"\"\" has to be followed by another \"\"\", and ''' has to be followed by another ''') again. This is a convenient way to quickly dump data into Python, and it also reinforces the important idea that you don't have to open a file and deal with it one line at a time. You can read everything in, and deal with it as one big chunk."
   ]
  },
  {
   "cell_type": "markdown",
   "metadata": {},
   "source": [
    "### Divide and conquer, the secret of parsing data: `str.splitlines()`\n",
    "The first thing we'll do, though, is to split the big string into a list of strings, since each line corresponds to a separate piece of data. We will use the `str.splitlines()` function on the big myout string to break it into a new element every time it sees a newline (\\n) character:"
   ]
  },
  {
   "cell_type": "code",
   "execution_count": 66,
   "metadata": {
    "collapsed": false,
    "jupyter": {
     "outputs_hidden": false
    }
   },
   "outputs": [
    {
     "data": {
      "text/plain": [
       "['@ Step       Energy      Delta E   Gmax     Grms     Xrms     Xmax   Walltime',\n",
       " '@ ---- ---------------- -------- -------- -------- -------- -------- --------',\n",
       " '@    0   -6095.12544083  0.0D+00  0.03686  0.00936  0.00000  0.00000   1391.5',\n",
       " '@    1   -6095.25762870 -1.3D-01  0.00732  0.00168  0.32456  0.84140  10468.0',\n",
       " '@    2   -6095.26325979 -5.6D-03  0.00233  0.00056  0.06294  0.14009  11963.5',\n",
       " '@    3   -6095.26428124 -1.0D-03  0.00109  0.00024  0.03245  0.10269  13331.9',\n",
       " '@    4   -6095.26463203 -3.5D-04  0.00057  0.00013  0.02737  0.09112  14710.8',\n",
       " '@    5   -6095.26477615 -1.4D-04  0.00043  0.00009  0.02259  0.08615  20211.1',\n",
       " '@    6   -6095.26482624 -5.0D-05  0.00015  0.00002  0.00831  0.03147  21726.1',\n",
       " '@    7   -6095.26483584 -9.6D-06  0.00021  0.00004  0.01473  0.05265  24890.5',\n",
       " '@    8   -6095.26484405 -8.2D-06  0.00005  0.00001  0.00555  0.01929  26448.7',\n",
       " '@    9   -6095.26484599 -1.9D-06  0.00003  0.00001  0.00164  0.00564  27258.1',\n",
       " '@   10   -6095.26484676 -7.7D-07  0.00003  0.00001  0.00161  0.00553  28155.3',\n",
       " '@   11   -6095.26484693 -1.8D-07  0.00002  0.00000  0.00054  0.00151  28981.7',\n",
       " '@   11   -6095.26484693 -1.8D-07  0.00002  0.00000  0.00054  0.00151  28981.7']"
      ]
     },
     "execution_count": 66,
     "metadata": {},
     "output_type": "execute_result"
    }
   ],
   "source": [
    "lines = myoutput.splitlines()\n",
    "lines"
   ]
  },
  {
   "cell_type": "markdown",
   "metadata": {},
   "source": [
    "Splitting is a big concept in text processing. We used `str.splitlines()` here, and we will use the more general `str.split()` function below to split each line into whitespace-delimited words.\n",
    "\n",
    "We now want to do three things:\n",
    "\n",
    "* Skip over the lines that don't carry any information\n",
    "* Break apart each line that does carry information and grab the pieces we want\n",
    "* Turn the resulting data into something that we can plot.\n",
    "\n",
    "For this data, we really only want the Energy column, the Gmax column (which contains the maximum gradient at each step), and perhaps the Walltime column. \n",
    "\n",
    "Since the data is now in a list of lines, we can iterate over it:"
   ]
  },
  {
   "cell_type": "code",
   "execution_count": 67,
   "metadata": {
    "collapsed": false,
    "jupyter": {
     "outputs_hidden": false
    }
   },
   "outputs": [],
   "source": [
    "for line in lines[2:]:\n",
    "    # do something with each line\n",
    "    words = line.split()"
   ]
  },
  {
   "cell_type": "markdown",
   "metadata": {},
   "source": [
    "Let's examine what we just did: first, we used a `for` loop to iterate over each line. However, we skipped the first two (the `lines[2:]` only takes the lines starting from index 2), since `lines[0]` contained the title information, and `lines[1]` contained underscores.\n",
    "\n",
    "We then split each line into chunks (which we're calling \"words\", even though in most cases they're numbers) using the string `str.split()** command. Here's what split does:"
   ]
  },
  {
   "cell_type": "code",
   "execution_count": 68,
   "metadata": {
    "collapsed": false,
    "jupyter": {
     "outputs_hidden": false
    }
   },
   "outputs": [
    {
     "name": "stdout",
     "output_type": "stream",
     "text": [
      "Help on method_descriptor:\n",
      "\n",
      "split(self, /, sep=None, maxsplit=-1)\n",
      "    Return a list of the words in the string, using sep as the delimiter string.\n",
      "    \n",
      "    sep\n",
      "      The delimiter according which to split the string.\n",
      "      None (the default value) means split according to any whitespace,\n",
      "      and discard empty strings from the result.\n",
      "    maxsplit\n",
      "      Maximum number of splits to do.\n",
      "      -1 (the default value) means no limit.\n",
      "\n"
     ]
    }
   ],
   "source": [
    "help(str.split)"
   ]
  },
  {
   "cell_type": "markdown",
   "metadata": {},
   "source": [
    "Here we're implicitly passing in the first argument (s, in the doctext) by calling a method .split() on a string object. In this instance, we're not passing in a sep character, which means that the function splits on whitespace. Let's see what that does to one of our lines:"
   ]
  },
  {
   "cell_type": "code",
   "execution_count": 69,
   "metadata": {
    "collapsed": false,
    "jupyter": {
     "outputs_hidden": false
    }
   },
   "outputs": [
    {
     "name": "stdout",
     "output_type": "stream",
     "text": [
      "['@', '0', '-6095.12544083', '0.0D+00', '0.03686', '0.00936', '0.00000', '0.00000', '1391.5']\n"
     ]
    }
   ],
   "source": [
    "print(lines[2].split())"
   ]
  },
  {
   "cell_type": "markdown",
   "metadata": {},
   "source": [
    "This is almost exactly what we want. We just have to now pick the fields we want:"
   ]
  },
  {
   "cell_type": "code",
   "execution_count": 70,
   "metadata": {
    "collapsed": false,
    "jupyter": {
     "outputs_hidden": false
    }
   },
   "outputs": [
    {
     "name": "stdout",
     "output_type": "stream",
     "text": [
      "-6095.12544083 0.03686 1391.5\n",
      "-6095.25762870 0.00732 10468.0\n",
      "-6095.26325979 0.00233 11963.5\n",
      "-6095.26428124 0.00109 13331.9\n",
      "-6095.26463203 0.00057 14710.8\n",
      "-6095.26477615 0.00043 20211.1\n",
      "-6095.26482624 0.00015 21726.1\n",
      "-6095.26483584 0.00021 24890.5\n",
      "-6095.26484405 0.00005 26448.7\n",
      "-6095.26484599 0.00003 27258.1\n",
      "-6095.26484676 0.00003 28155.3\n",
      "-6095.26484693 0.00002 28981.7\n",
      "-6095.26484693 0.00002 28981.7\n"
     ]
    }
   ],
   "source": [
    "for line in lines[2:]:\n",
    "    # do something with each line\n",
    "    words = line.split()\n",
    "    energy = words[2]\n",
    "    gmax = words[4]\n",
    "    time = words[8]\n",
    "    print(energy,gmax,time)"
   ]
  },
  {
   "cell_type": "markdown",
   "metadata": {},
   "source": [
    "This is fine for printing things out, but if we want to do something with the data, either make a calculation with it or pass it into a plotting, we need to convert the strings into regular floating point numbers. We can use the `float()` command for this. We also need to save it in some form. I'll do this as follows:"
   ]
  },
  {
   "cell_type": "code",
   "execution_count": 75,
   "metadata": {},
   "outputs": [],
   "source": [
    "import numpy as np\n",
    "import matplotlib.pyplot as plt"
   ]
  },
  {
   "cell_type": "code",
   "execution_count": 81,
   "metadata": {
    "collapsed": false,
    "jupyter": {
     "outputs_hidden": false
    }
   },
   "outputs": [
    {
     "name": "stdout",
     "output_type": "stream",
     "text": [
      "[[-6.09512544e+03  3.68600000e-02  1.39150000e+03]\n",
      " [-6.09525763e+03  7.32000000e-03  1.04680000e+04]\n",
      " [-6.09526326e+03  2.33000000e-03  1.19635000e+04]\n",
      " [-6.09526428e+03  1.09000000e-03  1.33319000e+04]\n",
      " [-6.09526463e+03  5.70000000e-04  1.47108000e+04]\n",
      " [-6.09526478e+03  4.30000000e-04  2.02111000e+04]\n",
      " [-6.09526483e+03  1.50000000e-04  2.17261000e+04]\n",
      " [-6.09526484e+03  2.10000000e-04  2.48905000e+04]\n",
      " [-6.09526484e+03  5.00000000e-05  2.64487000e+04]\n",
      " [-6.09526485e+03  3.00000000e-05  2.72581000e+04]\n",
      " [-6.09526485e+03  3.00000000e-05  2.81553000e+04]\n",
      " [-6.09526485e+03  2.00000000e-05  2.89817000e+04]\n",
      " [-6.09526485e+03  2.00000000e-05  2.89817000e+04]]\n"
     ]
    }
   ],
   "source": [
    "data = []\n",
    "for line in lines[2:]:\n",
    "    # do something with each line\n",
    "    words = line.split()\n",
    "    energy = float(words[2])\n",
    "    gmax = float(words[4])\n",
    "    time = float(words[8])\n",
    "    data.append((energy,gmax,time))\n",
    "data = np.array(data)\n",
    "print(data)"
   ]
  },
  {
   "cell_type": "markdown",
   "metadata": {},
   "source": [
    "We now have our data in a numpy array, so we can choose columns to print:"
   ]
  },
  {
   "cell_type": "code",
   "execution_count": 82,
   "metadata": {
    "collapsed": false,
    "jupyter": {
     "outputs_hidden": false
    }
   },
   "outputs": [
    {
     "data": {
      "image/png": "[encoded data removed]",
      "text/plain": [
       "<Figure size 720x432 with 1 Axes>"
      ]
     },
     "metadata": {
      "needs_background": "light"
     },
     "output_type": "display_data"
    }
   ],
   "source": [
    "plt.figure(figsize=(10,6))\n",
    "plt.plot(data[:,0])\n",
    "plt.xlabel('step')\n",
    "plt.ylabel('Energy (hartrees)')\n",
    "plt.title('Convergence of NWChem geometry optimization for Si cluster')\n",
    "plt.show()"
   ]
  },
  {
   "cell_type": "markdown",
   "metadata": {},
   "source": [
    "I would write the code a little more succinctly if I were doing this for myself, but this is essentially a snippet I use repeatedly. "
   ]
  },
  {
   "cell_type": "markdown",
   "metadata": {},
   "source": [
    "### Combining `str.splitlines()`, `str.split()` and `map()` functions to parse complex data.\n",
    "Suppose our data was in CSV (comma separated values) format, a format that originally came from Microsoft Excel, and is increasingly used as a data interchange format in big data applications. How would we parse that?"
   ]
  },
  {
   "cell_type": "code",
   "execution_count": 83,
   "metadata": {
    "collapsed": false,
    "jupyter": {
     "outputs_hidden": false
    }
   },
   "outputs": [],
   "source": [
    "csv = \"\"\"\\\n",
    "-6095.12544083, 0.03686, 1391.5\n",
    "-6095.25762870, 0.00732, 10468.0\n",
    "-6095.26325979, 0.00233, 11963.5\n",
    "-6095.26428124, 0.00109, 13331.9\n",
    "-6095.26463203, 0.00057, 14710.8\n",
    "-6095.26477615, 0.00043, 20211.1\n",
    "-6095.26482624, 0.00015, 21726.1\n",
    "-6095.26483584, 0.00021, 24890.5\n",
    "-6095.26484405, 0.00005, 26448.7\n",
    "-6095.26484599, 0.00003, 27258.1\n",
    "-6095.26484676, 0.00003, 28155.3\n",
    "-6095.26484693, 0.00002, 28981.7\n",
    "-6095.26484693, 0.00002, 28981.7\"\"\""
   ]
  },
  {
   "cell_type": "markdown",
   "metadata": {},
   "source": [
    "We can do much the same as before:"
   ]
  },
  {
   "cell_type": "code",
   "execution_count": 84,
   "metadata": {
    "collapsed": false,
    "jupyter": {
     "outputs_hidden": false
    }
   },
   "outputs": [
    {
     "name": "stdout",
     "output_type": "stream",
     "text": [
      "[[-6.09512544e+03  3.68600000e-02  1.39150000e+03]\n",
      " [-6.09525763e+03  7.32000000e-03  1.04680000e+04]\n",
      " [-6.09526326e+03  2.33000000e-03  1.19635000e+04]\n",
      " [-6.09526428e+03  1.09000000e-03  1.33319000e+04]\n",
      " [-6.09526463e+03  5.70000000e-04  1.47108000e+04]\n",
      " [-6.09526478e+03  4.30000000e-04  2.02111000e+04]\n",
      " [-6.09526483e+03  1.50000000e-04  2.17261000e+04]\n",
      " [-6.09526484e+03  2.10000000e-04  2.48905000e+04]\n",
      " [-6.09526484e+03  5.00000000e-05  2.64487000e+04]\n",
      " [-6.09526485e+03  3.00000000e-05  2.72581000e+04]\n",
      " [-6.09526485e+03  3.00000000e-05  2.81553000e+04]\n",
      " [-6.09526485e+03  2.00000000e-05  2.89817000e+04]\n",
      " [-6.09526485e+03  2.00000000e-05  2.89817000e+04]]\n"
     ]
    }
   ],
   "source": [
    "data = []\n",
    "for line in csv.splitlines():\n",
    "    words = line.split(',')\n",
    "    data.append(list(map(float,words)))\n",
    "data = np.array(data)\n",
    "print(data)"
   ]
  },
  {
   "cell_type": "markdown",
   "metadata": {},
   "source": [
    "There are two significant changes over what we did earlier. First, I'm passing the comma character ',' into the split function, so that it breaks to a new word every time it sees a comma. Next, to simplify things a big, I'm using the `map()` command to repeatedly apply a single function (`float()`) to a list, and to return the output as a `list`."
   ]
  },
  {
   "cell_type": "code",
   "execution_count": 85,
   "metadata": {
    "collapsed": false,
    "jupyter": {
     "outputs_hidden": false
    }
   },
   "outputs": [
    {
     "name": "stdout",
     "output_type": "stream",
     "text": [
      "Help on class map in module builtins:\n",
      "\n",
      "class map(object)\n",
      " |  map(func, *iterables) --> map object\n",
      " |  \n",
      " |  Make an iterator that computes the function using arguments from\n",
      " |  each of the iterables.  Stops when the shortest iterable is exhausted.\n",
      " |  \n",
      " |  Methods defined here:\n",
      " |  \n",
      " |  __getattribute__(self, name, /)\n",
      " |      Return getattr(self, name).\n",
      " |  \n",
      " |  __iter__(self, /)\n",
      " |      Implement iter(self).\n",
      " |  \n",
      " |  __next__(self, /)\n",
      " |      Implement next(self).\n",
      " |  \n",
      " |  __reduce__(...)\n",
      " |      Return state information for pickling.\n",
      " |  \n",
      " |  ----------------------------------------------------------------------\n",
      " |  Static methods defined here:\n",
      " |  \n",
      " |  __new__(*args, **kwargs) from builtins.type\n",
      " |      Create and return a new object.  See help(type) for accurate signature.\n",
      "\n"
     ]
    }
   ],
   "source": [
    "help(map)"
   ]
  },
  {
   "cell_type": "markdown",
   "metadata": {},
   "source": [
    "Despite the differences, the resulting plot should be the same:"
   ]
  },
  {
   "cell_type": "code",
   "execution_count": 86,
   "metadata": {
    "collapsed": false,
    "jupyter": {
     "outputs_hidden": false
    }
   },
   "outputs": [
    {
     "data": {
      "image/png": "[encoded data removed]",
      "text/plain": [
       "<Figure size 720x432 with 1 Axes>"
      ]
     },
     "metadata": {
      "needs_background": "light"
     },
     "output_type": "display_data"
    }
   ],
   "source": [
    "plt.figure(figsize=(10,6))\n",
    "plt.plot(data[:,0])\n",
    "plt.xlabel('step')\n",
    "plt.ylabel('Energy (hartrees)')\n",
    "plt.title('Convergence of NWChem geometry optimization for Si cluster')\n",
    "plt.show()"
   ]
  },
  {
   "cell_type": "markdown",
   "metadata": {},
   "source": [
    "### Selecting/filtering lines ()\n",
    "\n",
    "The **string** module has a lot of useful functions we can use for this. Among them is the `str.startswith()` function. For example:"
   ]
  },
  {
   "cell_type": "code",
   "execution_count": 88,
   "metadata": {
    "collapsed": false,
    "jupyter": {
     "outputs_hidden": false
    }
   },
   "outputs": [
    {
     "name": "stdout",
     "output_type": "stream",
     "text": [
      "@ Step       Energy      Delta E   Gmax     Grms     Xrms     Xmax   Walltime\n",
      "@ ---- ---------------- -------- -------- -------- -------- -------- --------\n",
      "@    0   -6095.12544083  0.0D+00  0.03686  0.00936  0.00000  0.00000   1391.5\n"
     ]
    }
   ],
   "source": [
    "lines = \"\"\"\\\n",
    "                 ----------------------------------------\n",
    "                 |  WALL  |       0.45   |     443.61   |\n",
    "                 ----------------------------------------\n",
    "\n",
    "@ Step       Energy      Delta E   Gmax     Grms     Xrms     Xmax   Walltime\n",
    "@ ---- ---------------- -------- -------- -------- -------- -------- --------\n",
    "@    0   -6095.12544083  0.0D+00  0.03686  0.00936  0.00000  0.00000   1391.5\n",
    "                                                       ok       ok\n",
    "\n",
    "\n",
    "\n",
    "                                Z-matrix (autoz)\n",
    "                                --------\n",
    "\"\"\".splitlines()\n",
    "\n",
    "for line in lines:\n",
    "    if line.startswith('@'):\n",
    "        print(line)\n",
    "        "
   ]
  },
  {
   "cell_type": "markdown",
   "metadata": {},
   "source": [
    "and we've successfully grabbed all of the lines that begin with the @ symbol."
   ]
  },
  {
   "cell_type": "markdown",
   "metadata": {},
   "source": [
    "The real value in a language like Python is that it makes it easy to take additional steps to analyze data in this fashion, which means you are thinking more about your data, and are more likely to see important patterns."
   ]
  },
  {
   "cell_type": "markdown",
   "metadata": {},
   "source": [
    "## Output parsing from files"
   ]
  },
  {
   "cell_type": "code",
   "execution_count": 90,
   "metadata": {},
   "outputs": [
    {
     "name": "stdout",
     "output_type": "stream",
     "text": [
      "@ Step       Energy      Delta E   Gmax     Grms     Xrms     Xmax   Walltime\n",
      "@ ---- ---------------- -------- -------- -------- -------- -------- --------\n",
      "@    0   -6095.12544083  0.0D+00  0.03686  0.00936  0.00000  0.00000   1391.5\n",
      "@    1   -6095.25762870 -1.3D-01  0.00732  0.00168  0.32456  0.84140  10468.0\n",
      "@    2   -6095.26325979 -5.6D-03  0.00233  0.00056  0.06294  0.14009  11963.5\n",
      "@    3   -6095.26428124 -1.0D-03  0.00109  0.00024  0.03245  0.10269  13331.9\n",
      "@    4   -6095.26463203 -3.5D-04  0.00057  0.00013  0.02737  0.09112  14710.8\n",
      "@    5   -6095.26477615 -1.4D-04  0.00043  0.00009  0.02259  0.08615  20211.1\n",
      "@    6   -6095.26482624 -5.0D-05  0.00015  0.00002  0.00831  0.03147  21726.1\n",
      "@    7   -6095.26483584 -9.6D-06  0.00021  0.00004  0.01473  0.05265  24890.5\n",
      "@    8   -6095.26484405 -8.2D-06  0.00005  0.00001  0.00555  0.01929  26448.7\n",
      "@    9   -6095.26484599 -1.9D-06  0.00003  0.00001  0.00164  0.00564  27258.1\n",
      "@   10   -6095.26484676 -7.7D-07  0.00003  0.00001  0.00161  0.00553  28155.3\n",
      "@   11   -6095.26484693 -1.8D-07  0.00002  0.00000  0.00054  0.00151  28981.7\n",
      "@   11   -6095.26484693 -1.8D-07  0.00002  0.00000  0.00054  0.00151  28981.7\n"
     ]
    }
   ],
   "source": [
    "with open(datafile) as fin:\n",
    "    for line in fin:\n",
    "        print(line.strip(\"\\n\"))"
   ]
  },
  {
   "cell_type": "code",
   "execution_count": 129,
   "metadata": {},
   "outputs": [
    {
     "name": "stdout",
     "output_type": "stream",
     "text": [
      "/home/hector/ownCloudCESNET/repo/teaching/python/a2-PyIntro/data/Table_NWChem.txt\n"
     ]
    },
    {
     "data": {
      "image/png": "[encoded data removed]",
      "text/plain": [
       "<Figure size 720x432 with 1 Axes>"
      ]
     },
     "metadata": {
      "needs_background": "light"
     },
     "output_type": "display_data"
    }
   ],
   "source": [
    "data = []\n",
    "print(datafile)\n",
    "with open(datafile) as fin:\n",
    "    for line in fin:\n",
    "        if \"Step\" in line:\n",
    "            continue\n",
    "        if \"---\" in line:\n",
    "            continue\n",
    "        words = line.split()[2:]\n",
    "        # Remove weird notation in Delta E. D->e (scientific notation)\n",
    "        words = list(map(lambda s : s.replace(\"D\", \"e\"), words))\n",
    "        #Transform each string number to float\n",
    "        words = list(map(float, words))\n",
    "        data.append(words)\n",
    "# remove the last line that is repeated\n",
    "data.pop(-1)\n",
    "data = np.array(data)\n",
    "\n",
    "# Print result\n",
    "#print(data)\n",
    "\n",
    "# Plot result\n",
    "plt.figure(figsize=(10,6))\n",
    "plt.plot(data[:,0])\n",
    "plt.xlabel('step')\n",
    "plt.ylabel('Energy (hartrees)')\n",
    "plt.title('Convergence of NWChem geometry optimization for Si cluster')\n",
    "plt.show()"
   ]
  },
  {
   "cell_type": "markdown",
   "metadata": {},
   "source": [
    "## More Sophisticated String Formatting and Processing\n",
    "Strings are a big deal in most modern languages, and hopefully the previous sections helped underscore how versatile Python's string processing techniques are. We will continue this topic in this chapter.\n",
    "\n",
    "We can print out lines in Python using the print command. "
   ]
  },
  {
   "cell_type": "code",
   "execution_count": null,
   "metadata": {
    "collapsed": false,
    "jupyter": {
     "outputs_hidden": false
    }
   },
   "outputs": [],
   "source": [
    "print(\"I have 3 errands to run\")"
   ]
  },
  {
   "cell_type": "markdown",
   "metadata": {},
   "source": [
    "In IPython we don't even need the print command, since it will display the last expression not assigned to a variable."
   ]
  },
  {
   "cell_type": "code",
   "execution_count": null,
   "metadata": {
    "collapsed": false,
    "jupyter": {
     "outputs_hidden": false
    }
   },
   "outputs": [],
   "source": [
    "\"I have 3 errands to run\""
   ]
  },
  {
   "cell_type": "markdown",
   "metadata": {},
   "source": [
    "**print** even converts some arguments to strings for us:"
   ]
  },
  {
   "cell_type": "code",
   "execution_count": 132,
   "metadata": {
    "collapsed": false,
    "jupyter": {
     "outputs_hidden": false
    }
   },
   "outputs": [
    {
     "name": "stdout",
     "output_type": "stream",
     "text": [
      "The variables are  1 2 3\n"
     ]
    }
   ],
   "source": [
    "a,b,c = 1,2,3\n",
    "print(f\"The variables are \",1,2,3)"
   ]
  },
  {
   "cell_type": "markdown",
   "metadata": {},
   "source": [
    "As versatile as this is, you typically need more freedom over the data you print out. For example, what if we want to print a bunch of data to exactly 4 decimal places? We can do this using formatted strings.\n",
    "\n",
    "Formatted strings can be achieved using the format funtions of the strings. For examples check https://pyformat.info/.\n",
    "\n",
    "For example,"
   ]
  },
  {
   "cell_type": "code",
   "execution_count": 137,
   "metadata": {
    "collapsed": false,
    "jupyter": {
     "outputs_hidden": false
    }
   },
   "outputs": [
    {
     "name": "stdout",
     "output_type": "stream",
     "text": [
      "Pi as a decimal = 3\n",
      "Pi as a float = 3.141593\n",
      "Pi with 4 decimal places = 3.1416\n",
      "Pi with overall fixed length of 10 spaces, with 6 decimal places =   3.141593\n",
      "Pi as in exponential format = 3.141593e+00\n"
     ]
    }
   ],
   "source": [
    "print(f\"Pi as a decimal = {np.pi:.0f}\")\n",
    "print(f\"Pi as a float = {np.pi:f}\")\n",
    "print(f\"Pi with 4 decimal places = {np.pi:.4f}\")\n",
    "print(f\"Pi with overall fixed length of 10 spaces, with 6 decimal places = {np.pi:10.6f}\")\n",
    "print(f\"Pi as in exponential format = {np.pi:e}\")"
   ]
  },
  {
   "cell_type": "markdown",
   "metadata": {},
   "source": [
    "We Can also pipe several variables, or even print the same more than once:"
   ]
  },
  {
   "cell_type": "code",
   "execution_count": 138,
   "metadata": {
    "collapsed": false,
    "jupyter": {
     "outputs_hidden": false
    }
   },
   "outputs": [
    {
     "name": "stdout",
     "output_type": "stream",
     "text": [
      "The variables specified earlier are 1, 2, and 3 [repeated 1]\n"
     ]
    }
   ],
   "source": [
    "print(f\"The variables specified earlier are {a:d}, {b:d}, and {c:d} [repeated {a:d}]\")"
   ]
  },
  {
   "cell_type": "markdown",
   "metadata": {},
   "source": [
    "This is a simple formatting structure that will satisfy most of your string formatting needs.More information check https://realpython.com/python-f-strings/ or http://zetcode.com/python/fstring/.\n",
    "\n",
    "Avoid using old C formating string methods. They are weaker and prompt to errors.\n",
    "\n",
    "Recall we discussed multiline strings. We can put format characters in these as well, and fill them with them as before."
   ]
  },
  {
   "cell_type": "code",
   "execution_count": 140,
   "metadata": {
    "collapsed": false,
    "jupyter": {
     "outputs_hidden": false
    }
   },
   "outputs": [
    {
     "name": "stdout",
     "output_type": "stream",
     "text": [
      "\n",
      "          July 1, 2013\n",
      "\n",
      "Dear Valued Customer Bob,\n",
      "\n",
      "We regret to inform you that your product did not\n",
      "ship today due to alien attack.\n",
      "\n",
      "We hope to remedy this as soon as possible.\n",
      "\n",
      "          From,\n",
      "          Your Supplier\n",
      "\n"
     ]
    }
   ],
   "source": [
    "date = \"July 1, 2013\"\n",
    "name = \"Valued Customer Bob\"\n",
    "reason = \"alien attack\"\n",
    "\n",
    "form_letter = f\"\"\"\\\n",
    "\n",
    "          {date:s}\n",
    "\n",
    "Dear {name:s},\n",
    "\n",
    "We regret to inform you that your product did not\n",
    "ship today due to {reason:s}.\n",
    "\n",
    "We hope to remedy this as soon as possible.\n",
    "\n",
    "          From,\n",
    "          Your Supplier\n",
    "\"\"\"\n",
    "\n",
    "\n",
    "print(form_letter)"
   ]
  },
  {
   "cell_type": "markdown",
   "metadata": {},
   "source": [
    "If you need to reuse many time the string while substitutting by different values use `str.format()`"
   ]
  },
  {
   "cell_type": "code",
   "execution_count": 141,
   "metadata": {
    "collapsed": false,
    "jupyter": {
     "outputs_hidden": false
    }
   },
   "outputs": [
    {
     "name": "stdout",
     "output_type": "stream",
     "text": [
      "\n",
      "          July 1, 2013\n",
      "\n",
      "Dear Valued Customer Bob,\n",
      "\n",
      "We regret to inform you that your product did not\n",
      "ship today due to alien attack.\n",
      "\n",
      "We hope to remedy this as soon as possible.\n",
      "\n",
      "          From,\n",
      "          Your Supplier\n",
      "\n"
     ]
    }
   ],
   "source": [
    "form_letter = \"\"\"\\\n",
    "\n",
    "          {0:s}\n",
    "\n",
    "Dear {1:s},\n",
    "\n",
    "We regret to inform you that your product did not\n",
    "ship today due to {2:s}.\n",
    "\n",
    "We hope to remedy this as soon as possible.\n",
    "\n",
    "          From,\n",
    "          Your Supplier\n",
    "\"\"\"\n",
    "\n",
    "print(form_letter.format(\"July 1, 2013\",\"Valued Customer Bob\",\"alien attack\"))"
   ]
  },
  {
   "cell_type": "markdown",
   "metadata": {},
   "source": [
    "The problem with a long block of text like this is that it's often hard to keep track of what all of the variables are supposed to stand for. There's an alternate format where you can pass a dictionary into the formatted string, and give a little bit more information to the formatted string itself. This method looks like:"
   ]
  },
  {
   "cell_type": "markdown",
   "metadata": {},
   "source": [
    "As a scientist, you're less likely to be sending bulk mailings to a bunch of customers. But these are great methods for generating and submitting lots of similar runs, say scanning a bunch of different structures to find the optimal configuration for something. There are methods less prompt to error such as the following  example, that we can use the following template for NWChem input files:"
   ]
  },
  {
   "cell_type": "code",
   "execution_count": 142,
   "metadata": {
    "collapsed": false,
    "jupyter": {
     "outputs_hidden": false
    }
   },
   "outputs": [],
   "source": [
    "nwchem_format = \"\"\"\n",
    "start {0[jobname]:s}\n",
    "\n",
    "title \"{0[thetitle]:s}\"\n",
    "charge {0[charge]:d}\n",
    "\n",
    "geometry units angstroms print xyz autosym\n",
    "{0[geometry]:s}\n",
    "end\n",
    "\n",
    "basis\n",
    "  * library 6-31G**\n",
    "end\n",
    "\n",
    "dft\n",
    "  xc {0[dft_functional]:s}\n",
    "  mult {0[multiplicity]:d}\n",
    "end\n",
    "\n",
    "task dft {0[jobtype]:s}\n",
    "\"\"\""
   ]
  },
  {
   "cell_type": "markdown",
   "metadata": {},
   "source": [
    "If you want to submit a sequence of runs to a computer somewhere, it's pretty easy to put together a little script, maybe even with some more string formatting in it:"
   ]
  },
  {
   "cell_type": "code",
   "execution_count": 143,
   "metadata": {
    "collapsed": false,
    "jupyter": {
     "outputs_hidden": false
    }
   },
   "outputs": [
    {
     "name": "stdout",
     "output_type": "stream",
     "text": [
      "---------\n",
      "\n",
      "start h2o-0\n",
      "\n",
      "title \"Water run #0\"\n",
      "charge 0\n",
      "\n",
      "geometry units angstroms print xyz autosym\n",
      "  O    0.0    0.0     0.0\n",
      "  H    0.0    1.0     0.0\n",
      "  H    1.0    0.0     0.0\n",
      "end\n",
      "\n",
      "basis\n",
      "  * library 6-31G**\n",
      "end\n",
      "\n",
      "dft\n",
      "  xc b3lyp\n",
      "  mult 1\n",
      "end\n",
      "\n",
      "task dft optimize\n",
      "\n",
      "---------\n",
      "\n",
      "start h2o-1\n",
      "\n",
      "title \"Water run #1\"\n",
      "charge 0\n",
      "\n",
      "geometry units angstroms print xyz autosym\n",
      "  O    0.0    0.1     0.0\n",
      "  H    0.0    1.0     0.0\n",
      "  H    1.0    0.0     0.0\n",
      "end\n",
      "\n",
      "basis\n",
      "  * library 6-31G**\n",
      "end\n",
      "\n",
      "dft\n",
      "  xc b3lyp\n",
      "  mult 1\n",
      "end\n",
      "\n",
      "task dft optimize\n",
      "\n",
      "---------\n",
      "\n",
      "start h2o-2\n",
      "\n",
      "title \"Water run #2\"\n",
      "charge 0\n",
      "\n",
      "geometry units angstroms print xyz autosym\n",
      "  O    0.1    0.0     0.0\n",
      "  H    0.0    1.0     0.0\n",
      "  H    1.0    0.0     0.0\n",
      "end\n",
      "\n",
      "basis\n",
      "  * library 6-31G**\n",
      "end\n",
      "\n",
      "dft\n",
      "  xc b3lyp\n",
      "  mult 1\n",
      "end\n",
      "\n",
      "task dft optimize\n",
      "\n",
      "---------\n",
      "\n",
      "start h2o-3\n",
      "\n",
      "title \"Water run #3\"\n",
      "charge 0\n",
      "\n",
      "geometry units angstroms print xyz autosym\n",
      "  O    0.1    0.1     0.0\n",
      "  H    0.0    1.0     0.0\n",
      "  H    1.0    0.0     0.0\n",
      "end\n",
      "\n",
      "basis\n",
      "  * library 6-31G**\n",
      "end\n",
      "\n",
      "dft\n",
      "  xc b3lyp\n",
      "  mult 1\n",
      "end\n",
      "\n",
      "task dft optimize\n",
      "\n"
     ]
    }
   ],
   "source": [
    "oxygen_xy_coords = [(0,0),(0,0.1),(0.1,0),(0.1,0.1)]\n",
    "charge = 0\n",
    "multiplicity = 1\n",
    "dft_functional = \"b3lyp\"\n",
    "jobtype = \"optimize\"\n",
    "\n",
    "geometry_template = \"\"\"\\\n",
    "  O    {0[0]:.1f}    {0[1]:.1f}     0.0\n",
    "  H    0.0    1.0     0.0\n",
    "  H    1.0    0.0     0.0\"\"\"\n",
    "\n",
    "for i,xy in enumerate(oxygen_xy_coords):\n",
    "    thetitle = \"Water run #{0:d}\".format(i)\n",
    "    jobname = \"h2o-{0:d}\".format(i)\n",
    "    geometry = geometry_template.format(xy)\n",
    "    print (\"---------\")\n",
    "    print (nwchem_format.format(dict(thetitle=thetitle,charge=charge,jobname=jobname,jobtype=jobtype,\n",
    "                               geometry=geometry,dft_functional=dft_functional,multiplicity=multiplicity)))"
   ]
  },
  {
   "cell_type": "markdown",
   "metadata": {},
   "source": [
    "This is a very bad geometry for a water molecule, and it would be silly to run so many geometry optimizations of structures that are guaranteed to converge to the same single geometry, but you get the idea of how you can run vast numbers of simulations with a technique like this.\n",
    "\n",
    "We used the `enumerate()` function to loop over both the indices and the items of a sequence, which is valuable when you want a clean way of getting both. `enumerate` is roughly equivalent to:"
   ]
  },
  {
   "cell_type": "code",
   "execution_count": 144,
   "metadata": {
    "collapsed": false,
    "jupyter": {
     "outputs_hidden": false
    }
   },
   "outputs": [
    {
     "data": {
      "text/plain": [
       "[(0, (0, 0)), (1, (0, 0.1)), (2, (0.1, 0)), (3, (0.1, 0.1))]"
      ]
     },
     "execution_count": 144,
     "metadata": {},
     "output_type": "execute_result"
    }
   ],
   "source": [
    "def my_enumerate(seq):\n",
    "    l = []\n",
    "    for i in range(len(seq)):\n",
    "        l.append((i,seq[i]))\n",
    "    return l\n",
    "my_enumerate(oxygen_xy_coords)"
   ]
  },
  {
   "cell_type": "markdown",
   "metadata": {},
   "source": [
    "Although enumerate uses **generators** (see below) so that it doesn't have to create a big list, which makes it faster for really long sequenes."
   ]
  },
  {
   "cell_type": "markdown",
   "metadata": {},
   "source": [
    "## List Comprehensions and Generators\n",
    "List comprehensions are a streamlined way to make lists. They look something like a list definition, with some logic thrown in. For example:"
   ]
  },
  {
   "cell_type": "code",
   "execution_count": null,
   "metadata": {
    "collapsed": false,
    "jupyter": {
     "outputs_hidden": false
    }
   },
   "outputs": [],
   "source": [
    "evens1 = [2*i for i in range(10)]\n",
    "print(evens1)"
   ]
  },
  {
   "cell_type": "markdown",
   "metadata": {},
   "source": [
    "You can also put some boolean testing into the construct:"
   ]
  },
  {
   "cell_type": "code",
   "execution_count": null,
   "metadata": {
    "collapsed": false,
    "jupyter": {
     "outputs_hidden": false
    }
   },
   "outputs": [],
   "source": [
    "odds = [i for i in range(20) if i%2==1]\n",
    "odds"
   ]
  },
  {
   "cell_type": "markdown",
   "metadata": {},
   "source": [
    "Here i%2 is the remainder when i is divided by 2, so that i%2==1 is true if the number is odd. Even though this is a relative new addition to the language, it is now fairly common since it's so convenient."
   ]
  },
  {
   "cell_type": "markdown",
   "metadata": {},
   "source": [
    "**iterators** are a way of making virtual sequence objects. Consider if we had the nested loop structure:\n",
    "\n",
    "    for i in range(1000000):\n",
    "        for j in range(1000000):\n",
    "\n",
    "Inside the main loop, we make a list of 1,000,000 integers, just to loop over them one at a time. We don't need any of the additional things that a lists gives us, like slicing or random access, we just need to go through the numbers one at a time. And we're making 1,000,000 of them. \n",
    "\n",
    "**iterators** are a way around this. For example, the **xrange** function is the iterator version of range. This simply makes a counter that is looped through in sequence, so that the analogous loop structure would look like:\n",
    "\n",
    "    for i in xrange(1000000):\n",
    "        for j in xrange(1000000):\n",
    "\n",
    "Even though we've only added two characters, we've dramatically sped up the code, because we're not making 1,000,000 big lists.\n",
    "\n",
    "We can define our own iterators using the **yield** statement:"
   ]
  },
  {
   "cell_type": "code",
   "execution_count": null,
   "metadata": {
    "collapsed": false,
    "jupyter": {
     "outputs_hidden": false
    }
   },
   "outputs": [],
   "source": [
    "def evens_below(n):\n",
    "    for i in range(n):\n",
    "        if i%2 == 0:\n",
    "            yield i\n",
    "    return\n",
    "\n",
    "for i in evens_below(9):\n",
    "    print(i)"
   ]
  },
  {
   "cell_type": "markdown",
   "metadata": {},
   "source": [
    "We can always turn an iterator into a list using the **list** command:"
   ]
  },
  {
   "cell_type": "code",
   "execution_count": null,
   "metadata": {
    "collapsed": false,
    "jupyter": {
     "outputs_hidden": false
    }
   },
   "outputs": [],
   "source": [
    "list(evens_below(9))"
   ]
  },
  {
   "cell_type": "markdown",
   "metadata": {},
   "source": [
    "There's a special syntax called a **generator expression** that looks a lot like a list comprehension:"
   ]
  },
  {
   "cell_type": "code",
   "execution_count": null,
   "metadata": {
    "collapsed": false,
    "jupyter": {
     "outputs_hidden": false
    }
   },
   "outputs": [],
   "source": [
    "evens_gen = (i for i in range(9) if i%2==0)\n",
    "for i in evens_gen:\n",
    "    print(i)"
   ]
  },
  {
   "cell_type": "markdown",
   "metadata": {},
   "source": [
    "## Factory Functions\n",
    "A factory function is a function that returns a function. They have the fancy name *lexical closure*, which makes you sound really intelligent in front of your CS friends. But, despite the arcane names, factory functions can play a very practical role.\n",
    "\n",
    "Suppose you want the Gaussian function centered at 0.5, with height 99 and width 1.0. You could write a general function."
   ]
  },
  {
   "cell_type": "code",
   "execution_count": null,
   "metadata": {
    "collapsed": false,
    "jupyter": {
     "outputs_hidden": false
    }
   },
   "outputs": [],
   "source": [
    "def gauss(x,A,a,x0):\n",
    "    return A*np.exp(-a*(x-x0)**2)"
   ]
  },
  {
   "cell_type": "markdown",
   "metadata": {},
   "source": [
    "But what if you need a function with only one argument, like f(x) rather than f(x,y,z,...)? You can do this with Factory Functions:"
   ]
  },
  {
   "cell_type": "code",
   "execution_count": null,
   "metadata": {
    "collapsed": false,
    "jupyter": {
     "outputs_hidden": false
    }
   },
   "outputs": [],
   "source": [
    "def gauss_maker(A,a,x0):\n",
    "    def f(x):\n",
    "        return A*np.exp(-a*(x-x0)**2)\n",
    "    return f"
   ]
  },
  {
   "cell_type": "code",
   "execution_count": null,
   "metadata": {
    "collapsed": false,
    "jupyter": {
     "outputs_hidden": false
    }
   },
   "outputs": [],
   "source": [
    "x = np.linspace(0,1)\n",
    "g = gauss_maker(99.0,1.0,0.5)\n",
    "plt.plot(x,g(x))\n",
    "plt.show()"
   ]
  },
  {
   "cell_type": "markdown",
   "metadata": {},
   "source": [
    "Everything in Python is an object, including functions. This means that functions can be returned by other functions. (They can also be passed into other functions, which is also useful, but a topic for another discussion.) In the **gauss_maker** example, the *g* function that is output \"remembers\" the A, a, x0 values it was constructed with, since they're all stored in the local memory space (this is what the *lexical closure* really refers to) of that function.\n",
    "\n",
    "Factories are one of the more important of the [Software Design Patterns](http://en.wikipedia.org/wiki/Software_design_pattern), which are a set of guidelines to follow to make high-quality, portable, readable, stable software. It's beyond the scope of the current work to go more into either factories or design patterns, but I thought I would mention them for people interested in software design."
   ]
  },
  {
   "cell_type": "markdown",
   "metadata": {},
   "source": [
    "## Serialization: Save it for later\n",
    "*Serialization* refers to the process of outputting data (and occasionally functions) to a database or a regular file, for the purpose of using it later on. In the very early days of programming languages, this was normally done in regular text files. Python is excellent at text processing, and you probably already know enough to get started with this.\n",
    "\n",
    "When accessing large amounts of data became important, people developed database software based around the Structured Query Language (SQL) standard. I'm not going to cover SQL here, but, if you're interested, I recommend using the [sqlite3](http://docs.python.org/2/library/sqlite3.html) module in the Python standard library.\n",
    "\n",
    "As data interchange became important, the eXtensible Markup Language (XML) has emerged. XML makes data formats that are easy to write parsers for, greatly simplifying the ambiguity that sometimes arises in the process. Again, I'm not going to cover XML here, but if you're interested in learning more, look into [Element Trees](http://docs.python.org/2/library/xml.etree.elementtree.html), now part of the Python standard library.\n",
    "\n",
    "Python has a very general serialization format called **pickle** that can turn any Python object, even a function or a class, into a representation that can be written to a file and read in later. But, again, I'm not going to talk about this, since I rarely use it myself. Again, [the standard library documentation for pickle](http://docs.python.org/2/library/pickle.html#module-cPickle) is the place to go.\n",
    "\n",
    "What I am going to talk about is a relatively recent format call [JavaScript Object Notation](http://json.org/) (JSON) that has become very popular over the past few years. [There's a module in the standard library](http://docs.python.org/2/library/json.html) for encoding and decoding JSON formats. The reason I like JSON so much is that it looks almost like Python, so that, unlike the other options, you can look at your data and edit it, use it in another program, etc.\n",
    "\n",
    "Here's a little example:"
   ]
  },
  {
   "cell_type": "code",
   "execution_count": null,
   "metadata": {
    "collapsed": false,
    "jupyter": {
     "outputs_hidden": false
    }
   },
   "outputs": [],
   "source": [
    "# Data in a json format:\n",
    "json_data = \"\"\"\\\n",
    "{\n",
    "    \"a\": [1,2,3],\n",
    "    \"b\": [4,5,6],\n",
    "    \"greeting\" : \"Hello\"\n",
    "}\"\"\"\n",
    "import json\n",
    "json.loads(json_data)"
   ]
  },
  {
   "cell_type": "markdown",
   "metadata": {},
   "source": [
    "Ignore the little u's before the strings, these just mean the strings are in UNICODE. Your data sits in something that looks like a Python dictionary, and in a single line of code, you can load it into a Python dictionary for use later.\n",
    "\n",
    "In the same way, you can, with a single line of code, put a bunch of variables into a dictionary, and then output to a file using json:"
   ]
  },
  {
   "cell_type": "code",
   "execution_count": null,
   "metadata": {
    "collapsed": false,
    "jupyter": {
     "outputs_hidden": false
    }
   },
   "outputs": [],
   "source": [
    "json.dumps({\"a\":[1,2,3],\"b\":[9,10,11],\"greeting\":\"Hola\"})"
   ]
  },
  {
   "cell_type": "markdown",
   "metadata": {},
   "source": [
    "## Functional programming\n",
    "Functional programming is a very broad subject. The idea is to have a series of functions, each of which generates a new data structure from an input, without changing the input structure at all. By not modifying the input structure (something that is called not having *side effects*), many guarantees can be made about how independent the processes are, which can help parallelization and guarantees of program accuracy. There is a [Python Functional Programming HOWTO](http://docs.python.org/2/howto/functional.html) in the standard docs that goes into more details on functional programming. I just wanted to touch on a few of the most important ideas here.\n",
    "\n",
    "There is an **operator** module that has function versions of most of the Python operators. For example:"
   ]
  },
  {
   "cell_type": "code",
   "execution_count": null,
   "metadata": {
    "collapsed": false,
    "jupyter": {
     "outputs_hidden": false
    }
   },
   "outputs": [],
   "source": [
    "from operator import add, mul\n",
    "add(1,2)"
   ]
  },
  {
   "cell_type": "code",
   "execution_count": null,
   "metadata": {
    "collapsed": false,
    "jupyter": {
     "outputs_hidden": false
    }
   },
   "outputs": [],
   "source": [
    "mul(3,4)"
   ]
  },
  {
   "cell_type": "markdown",
   "metadata": {},
   "source": [
    "These are useful building blocks for functional programming."
   ]
  },
  {
   "cell_type": "markdown",
   "metadata": {},
   "source": [
    "The **lambda** operator allows us to build *anonymous functions*, which are simply functions that aren't defined by a normal **def** statement with a name. For example, a function that doubles the input is:"
   ]
  },
  {
   "cell_type": "code",
   "execution_count": null,
   "metadata": {
    "collapsed": false,
    "jupyter": {
     "outputs_hidden": false
    }
   },
   "outputs": [],
   "source": [
    "def doubler(x): return 2*x\n",
    "doubler(17)"
   ]
  },
  {
   "cell_type": "markdown",
   "metadata": {},
   "source": [
    "We could also write this as:"
   ]
  },
  {
   "cell_type": "code",
   "execution_count": null,
   "metadata": {
    "collapsed": false,
    "jupyter": {
     "outputs_hidden": false
    }
   },
   "outputs": [],
   "source": [
    "lambda x: 2*x"
   ]
  },
  {
   "cell_type": "markdown",
   "metadata": {},
   "source": [
    "And assign it to a function separately:"
   ]
  },
  {
   "cell_type": "code",
   "execution_count": null,
   "metadata": {
    "collapsed": false,
    "jupyter": {
     "outputs_hidden": false
    }
   },
   "outputs": [],
   "source": [
    "another_doubler = lambda x: 2*x\n",
    "another_doubler(19)"
   ]
  },
  {
   "cell_type": "markdown",
   "metadata": {},
   "source": [
    "**lambda** is particularly convenient (as we'll see below) in passing simple functions as arguments to other functions."
   ]
  },
  {
   "cell_type": "markdown",
   "metadata": {},
   "source": [
    "**map** is a way to repeatedly apply a function to a list:"
   ]
  },
  {
   "cell_type": "code",
   "execution_count": null,
   "metadata": {
    "collapsed": false,
    "jupyter": {
     "outputs_hidden": false
    }
   },
   "outputs": [],
   "source": [
    "list(map(float,'1 2 3 4 5'.split()))"
   ]
  },
  {
   "cell_type": "markdown",
   "metadata": {},
   "source": [
    "**reduce** is a way to repeatedly apply a function to the first two items of the list. There already is a **sum** function in Python that is a reduction:"
   ]
  },
  {
   "cell_type": "code",
   "execution_count": null,
   "metadata": {
    "collapsed": false,
    "jupyter": {
     "outputs_hidden": false
    }
   },
   "outputs": [],
   "source": [
    "sum([1,2,3,4,5])"
   ]
  },
  {
   "cell_type": "markdown",
   "metadata": {},
   "source": [
    "We can use **reduce** to define an analogous **prod** function:"
   ]
  },
  {
   "cell_type": "code",
   "execution_count": null,
   "metadata": {
    "collapsed": false,
    "jupyter": {
     "outputs_hidden": false
    }
   },
   "outputs": [],
   "source": [
    "from functools import reduce\n",
    "def prod(l): return reduce(mul,l)\n",
    "prod([1,2,3,4,5])"
   ]
  },
  {
   "cell_type": "markdown",
   "metadata": {},
   "source": [
    "## Object Oriented Programming"
   ]
  },
  {
   "cell_type": "markdown",
   "metadata": {},
   "source": [
    "We've seen a lot of examples of **objects** in Python. We create a string object with quote marks:"
   ]
  },
  {
   "cell_type": "code",
   "execution_count": null,
   "metadata": {
    "collapsed": false,
    "jupyter": {
     "outputs_hidden": false
    }
   },
   "outputs": [],
   "source": [
    "mystring = \"Hi there\""
   ]
  },
  {
   "cell_type": "markdown",
   "metadata": {},
   "source": [
    "and we have a bunch of methods we can use on the object:"
   ]
  },
  {
   "cell_type": "code",
   "execution_count": null,
   "metadata": {
    "collapsed": false,
    "jupyter": {
     "outputs_hidden": false
    }
   },
   "outputs": [],
   "source": [
    "mystring.split()"
   ]
  },
  {
   "cell_type": "code",
   "execution_count": null,
   "metadata": {
    "collapsed": false,
    "jupyter": {
     "outputs_hidden": false
    }
   },
   "outputs": [],
   "source": [
    "mystring.startswith('Hi')"
   ]
  },
  {
   "cell_type": "code",
   "execution_count": null,
   "metadata": {
    "collapsed": false,
    "jupyter": {
     "outputs_hidden": false
    }
   },
   "outputs": [],
   "source": [
    "len(mystring)"
   ]
  },
  {
   "cell_type": "markdown",
   "metadata": {},
   "source": [
    "Object oriented programming simply gives you the tools to define objects and methods for yourself. It's useful anytime you want to keep some data (like the characters in the string) tightly coupled to the functions that act on the data (length, split, startswith, etc.).\n",
    "\n",
    "As an example, we're going to bundle the functions we did to make the 1d harmonic oscillator eigenfunctions with arbitrary potentials, so we can pass in a function defining that potential, some additional specifications, and get out something that can plot the orbitals, as well as do other things with them, if desired."
   ]
  },
  {
   "cell_type": "code",
   "execution_count": null,
   "metadata": {
    "collapsed": false,
    "jupyter": {
     "outputs_hidden": false
    }
   },
   "outputs": [],
   "source": [
    "class Schrod1d:\n",
    "    \"\"\"\\\n",
    "    Schrod1d: Solver for the one-dimensional Schrodinger equation.\n",
    "    \"\"\"\n",
    "    def __init__(self,V,start=0,end=1,npts=50,**kwargs):\n",
    "        m = kwargs.get('m',1.0)\n",
    "        self.x = np.linspace(start,end,npts)\n",
    "        self.Vx = V(self.x)\n",
    "        self.H = (-0.5/m)*self.laplacian() + np.diag(self.Vx)\n",
    "        return\n",
    "    \n",
    "    def plot(self,*args,**kwargs):\n",
    "        titlestring = kwargs.get('titlestring',\"Eigenfunctions of the 1d Potential\")\n",
    "        xstring = kwargs.get('xstring',\"Displacement (bohr)\")\n",
    "        ystring = kwargs.get('ystring',\"Energy (hartree)\")\n",
    "        if not args:\n",
    "            args = [3]\n",
    "        x = self.x\n",
    "        E,U = np.linalg.eigh(self.H)\n",
    "        h = x[1]-x[0]\n",
    "\n",
    "        # Plot the Potential\n",
    "        plt.figure(figsize=(8,8))\n",
    "        plt.plot(x,self.Vx,color='k')\n",
    "\n",
    "        for i in range(*args):\n",
    "            # For each of the first few solutions, plot the energy level:\n",
    "            plt.axhline(y=E[i],color='k',ls=\":\")\n",
    "            # as well as the eigenfunction, displaced by the energy level so they don't\n",
    "            # all pile up on each other:\n",
    "            plt.plot(x,U[:,i]/np.sqrt(h)+E[i])\n",
    "        plt.title(titlestring)\n",
    "        plt.xlabel(xstring)\n",
    "        plt.ylabel(ystring)\n",
    "        plt.plot()\n",
    "        return\n",
    "        \n",
    "    def laplacian(self):\n",
    "        x = self.x\n",
    "        h = x[1]-x[0] # assume uniformly spaced points\n",
    "        n = len(x)\n",
    "        M = -2*np.identity(n,'d')\n",
    "        for i in range(1,n):\n",
    "            M[i,i-1] = M[i-1,i] = 1\n",
    "        return M/h**2"
   ]
  },
  {
   "cell_type": "markdown",
   "metadata": {},
   "source": [
    "The **__init__()** function specifies what operations go on when the object is created. The **self** argument is the object itself, and we don't pass it in. The only required argument is the function that defines the QM potential. We can also specify additional arguments that define the numerical grid that we're going to use for the calculation.\n",
    "\n",
    "For example, to do an infinite square well potential, we have a function that is 0 everywhere. We don't have to specify the barriers, since we'll only define the potential in the well, which means that it can't be defined anywhere else."
   ]
  },
  {
   "cell_type": "code",
   "execution_count": null,
   "metadata": {
    "collapsed": false,
    "jupyter": {
     "outputs_hidden": false
    }
   },
   "outputs": [],
   "source": [
    "square_well = Schrod1d(lambda x: 0*x,m=10)\n",
    "square_well.plot(4,titlestring=\"Square Well Potential\")"
   ]
  },
  {
   "cell_type": "markdown",
   "metadata": {},
   "source": [
    "We can similarly redefine the Harmonic Oscillator potential."
   ]
  },
  {
   "cell_type": "code",
   "execution_count": null,
   "metadata": {
    "collapsed": false,
    "jupyter": {
     "outputs_hidden": false
    }
   },
   "outputs": [],
   "source": [
    "ho = Schrod1d(lambda x: x**2,start=-3,end=3)\n",
    "ho.plot(6,titlestring=\"Harmonic Oscillator\")"
   ]
  },
  {
   "cell_type": "markdown",
   "metadata": {},
   "source": [
    "Let's define a finite well potential:"
   ]
  },
  {
   "cell_type": "code",
   "execution_count": null,
   "metadata": {
    "collapsed": false,
    "jupyter": {
     "outputs_hidden": false
    }
   },
   "outputs": [],
   "source": [
    "def finite_well(x,V_left=1,V_well=0,V_right=1,d_left=10,d_well=10,d_right=10):\n",
    "    V = np.zeros(x.size,'d')\n",
    "    for i in range(x.size):\n",
    "        if x[i] < d_left: \n",
    "            V[i] = V_left\n",
    "        elif x[i] > (d_left+d_well):\n",
    "            V[i] = V_right\n",
    "        else:\n",
    "            V[i] = V_well\n",
    "    return V\n",
    "        \n",
    "fw = Schrod1d(finite_well,start=0,end=30,npts=100)\n",
    "fw.plot()"
   ]
  },
  {
   "cell_type": "markdown",
   "metadata": {},
   "source": [
    "A triangular well:"
   ]
  },
  {
   "cell_type": "code",
   "execution_count": null,
   "metadata": {
    "collapsed": false,
    "jupyter": {
     "outputs_hidden": false
    }
   },
   "outputs": [],
   "source": [
    "def triangular(x,F=30): return F*x\n",
    "\n",
    "tw = Schrod1d(triangular,m=10)\n",
    "tw.plot()"
   ]
  },
  {
   "cell_type": "markdown",
   "metadata": {},
   "source": [
    "Or we can combine the two, making something like a semiconductor quantum well with a top gate:"
   ]
  },
  {
   "cell_type": "code",
   "execution_count": null,
   "metadata": {
    "collapsed": false,
    "jupyter": {
     "outputs_hidden": false
    }
   },
   "outputs": [],
   "source": [
    "def tri_finite(x): return finite_well(x)+triangular(x,F=0.025)\n",
    "\n",
    "tfw = Schrod1d(tri_finite,start=0,end=30,npts=100)\n",
    "tfw.plot()"
   ]
  },
  {
   "cell_type": "markdown",
   "metadata": {},
   "source": [
    "There's a lot of philosophy behind object oriented programming. Since I'm trying to focus on just the basics here, I won't go into them, but the internet is full of lots of resources on OO programming and theory. The best of this is contained in the [Design Patterns](http://en.wikipedia.org/wiki/Design_Patterns_(book)) book, which I highly recommend."
   ]
  }
 ],
 "metadata": {
  "kernelspec": {
   "display_name": "Python 3",
   "language": "python",
   "name": "python3"
  },
  "language_info": {
   "codemirror_mode": {
    "name": "ipython",
    "version": 3
   },
   "file_extension": ".py",
   "mimetype": "text/x-python",
   "name": "python",
   "nbconvert_exporter": "python",
   "pygments_lexer": "ipython3",
   "version": "3.8.5"
  }
 },
 "nbformat": 4,
 "nbformat_minor": 4
}
