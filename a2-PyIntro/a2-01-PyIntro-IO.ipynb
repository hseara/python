{
 "cells": [
  {
   "cell_type": "markdown",
   "metadata": {
    "slideshow": {
     "slide_type": "slide"
    }
   },
   "source": [
    "# PyIntro-A2 - File Handling and Output Parsing"
   ]
  },
  {
   "cell_type": "markdown",
   "metadata": {},
   "source": [
    "There are many way to access/edit/search/delete/update files and directories in python. The most basic one is the [os](https://docs.python.org/3/library/os.html) module that provides a portable way of using operating system dependent functionality. If you just want to read or write a file see [open()](https://docs.python.org/3/library/functions.html#open), if you want to manipulate paths, see the [os.path](https://docs.python.org/3/library/os.path.html#module-os.path) module, and if you want to read all the lines in all the files on the command line see the [fileinput](https://docs.python.org/3/library/fileinput.html#module-fileinput) module. For creating temporary files and directories see the [tempfile](https://docs.python.org/3/library/tempfile.html#module-tempfile) module, and for high-level file and directory handling see the [shutil](https://docs.python.org/3/library/shutil.html#module-shutil) module.\n",
    "\n",
    "The will introduce the following standard modules briefly here are to work with files and directories are:\n",
    "- `os`: Miscellaneous operating system interfaces ([Documentation](https://docs.python.org/3/library/os.html))."
   ]
  },
  {
   "cell_type": "markdown",
   "metadata": {
    "slideshow": {
     "slide_type": "slide"
    }
   },
   "source": [
    "## Availablility of the function between different architectures:\n",
    "\n",
    "Python tries to help you write portable codes between any architecture. Unfortunately, there are limits. The `os` module enables you to write an OS-independent code.  It does a great job of trying to provide functions tight to the OS that will work in as many systems as possible in a transparent way. However, there are limits. Therefore, not all functions are available to every architecture (**You have been warned**).\n",
    "\n",
    "- The design of all built-in operating system dependent modules of Python is such that as long as the same functionality is available, it uses the same interface\n",
    "- Extensions peculiar to a particular operating system are also available through the os module, but using them is of course a threat to portability.\n",
    "- All functions accepting path or file names accept both bytes and string objects, and result in an object of the same type, if a path or file name is returned.\n",
    "- On VxWorks, os.fork, os.execv and os.spawn*p* are not supported."
   ]
  },
  {
   "cell_type": "markdown",
   "metadata": {
    "slideshow": {
     "slide_type": "subslide"
    }
   },
   "source": [
    "### Checking your architecture:"
   ]
  },
  {
   "cell_type": "code",
   "execution_count": null,
   "metadata": {},
   "outputs": [],
   "source": [
    "import os\n",
    "os.name"
   ]
  },
  {
   "cell_type": "markdown",
   "metadata": {},
   "source": [
    "Usual architectures are:\n",
    "\n",
    "- **posix:** linux, MacOS, FreeBSD, unix, [Microsoft WSL](https://docs.microsoft.com/en-us/windows/wsl/wsl2-index),...\n",
    "- **nt:** Windows\n",
    "- **java:** Adroid\n",
    "\n",
    "You can find additional details of your machine with:"
   ]
  },
  {
   "cell_type": "code",
   "execution_count": null,
   "metadata": {},
   "outputs": [],
   "source": [
    "import os\n",
    "os.uname()"
   ]
  },
  {
   "cell_type": "markdown",
   "metadata": {
    "slideshow": {
     "slide_type": "subslide"
    }
   },
   "source": [
    "#### Listing the capabilities of the `os` module in your system\n",
    "\n",
    "Not all the functions included in the os module are available in all the systems. They can be OS, platform, and system configuration dependent. You can check which functions of the `os` module to handle files are available in a system by:"
   ]
  },
  {
   "cell_type": "code",
   "execution_count": null,
   "metadata": {},
   "outputs": [],
   "source": [
    "import os\n",
    "os.supports_fd"
   ]
  },
  {
   "cell_type": "markdown",
   "metadata": {},
   "source": [
    "<div class=\"alert alert-info\"> Advise: Avoid OS specific function if possible."
   ]
  },
  {
   "cell_type": "markdown",
   "metadata": {
    "slideshow": {
     "slide_type": "slide"
    }
   },
   "source": [
    "## File/directory structure of the course:\n",
    "\n",
    "```\n",
    "python/\n",
    "|   README.md\n",
    "|   slides.sh\n",
    "|\n",
    "└───a1-PyIntro\n",
    "|   |   a1-00-PyIntro-Intro.ipynb\n",
    "|   |   a1-01-PyIntro-Datatypes.ipynb\n",
    "|   |   a1-02-PyIntro-Loops_Decisions.ipynb\n",
    "|   |   a1-03-PyIntro-Syntax.ipynb\n",
    "|   |   a1-04-PyIntro-Functions.ipynb\n",
    "|\n",
    "└───a2-PyIntro\n",
    "|   |   a2-01-PyIntro-IO.ipynb\n",
    "|   |\n",
    "|   └───data\n",
    "|       |   Table_NWChem.txt\n",
    "|       |   1uuh.pdb\n",
    "|       |   1uuh.cif\n",
    "|   \n",
    "└───b1-PyInter\n",
    "|\n",
    "...\n",
    "```\n",
    "\n",
    "This directory/file tree will help you when navigating through the examples of this notebook."
   ]
  },
  {
   "cell_type": "markdown",
   "metadata": {
    "slideshow": {
     "slide_type": "slide"
    }
   },
   "source": [
    "## Python working directory\n",
    "\n",
    "The current working directory is the folder in which the Python script is operating. It is the default directory where new files will be created by python commands when no path will be explicitly provided."
   ]
  },
  {
   "cell_type": "markdown",
   "metadata": {},
   "source": [
    "<div class=\"alert alert-warning\"> We can change the python working path at any time during the execution of a notebook. Therefore, executing this notebook randomly may create files/directories inside undesired directories. Also, some cells in this notebook require accessing some files. If not in the correct python working path, the required files will appear missing as they are searched for elsewhere but the intended place."
   ]
  },
  {
   "cell_type": "markdown",
   "metadata": {
    "slideshow": {
     "slide_type": "slide"
    }
   },
   "source": [
    "### Find current working directory: `os.getcwd()`"
   ]
  },
  {
   "cell_type": "markdown",
   "metadata": {},
   "source": [
    "`os.getcwd()` returns the absolute path of the working directory where Python is currently running as a string str . `getcwd` stands for \"get current working directory\"."
   ]
  },
  {
   "cell_type": "code",
   "execution_count": null,
   "metadata": {},
   "outputs": [],
   "source": [
    "import os\n",
    "os.getcwd()"
   ]
  },
  {
   "cell_type": "markdown",
   "metadata": {},
   "source": [
    "<div class=\"alert alert-danger\"> For the notebook to work it needs to point to the folder: <span style=\"background-color:#00FEFE\">/MY/PATH/python/a2-Py-Intro/<\\span>"
   ]
  },
  {
   "cell_type": "markdown",
   "metadata": {},
   "source": [
    "when working with jupyter lab we can also type:"
   ]
  },
  {
   "cell_type": "code",
   "execution_count": null,
   "metadata": {},
   "outputs": [],
   "source": [
    "pwd"
   ]
  },
  {
   "cell_type": "markdown",
   "metadata": {
    "slideshow": {
     "slide_type": "slide"
    }
   },
   "source": [
    "### Save the working directory path:\n",
    "\n",
    "We will save the `/YOUR/PATH/python/a2-PyIntro` in the variable wrkdir for future usage."
   ]
  },
  {
   "cell_type": "code",
   "execution_count": null,
   "metadata": {},
   "outputs": [],
   "source": [
    "import os\n",
    "\n",
    "# Default:\n",
    "wrkdir = os.getcwd()\n",
    "\n",
    "# Windows\n",
    "#wrkdir = \"C:/YOUR/COURSE/MAIN/DIRECTORY/python/\"\n",
    "\n",
    "# Linux/MacOSX\n",
    "#wrkdir = \"/home/user/directory/course/python/\"\n",
    "\n",
    "wrkdir = os.path.normpath(wrkdir)\n",
    "datadir = os.path.join(wrkdir,\"data\")\n",
    "\n",
    "print(wrkdir)\n",
    "print(datadir)"
   ]
  },
  {
   "cell_type": "markdown",
   "metadata": {},
   "source": [
    "If the default command does not point to the `/YOUR/PATH/python/a2-PyIntro` path, please set it manually by uncomenting and mofiying the coresponding line following the next two remarks:\n",
    "\n",
    "- The path depends on the OS you have. Please select the style accordingly.\n",
    "- Set the path to point exactly to `/YOUR/PATH/python/a2-PyIntro`\n"
   ]
  },
  {
   "cell_type": "markdown",
   "metadata": {
    "slideshow": {
     "slide_type": "slide"
    }
   },
   "source": [
    "### Changing working directory: `os.chdir()`\n",
    "\n",
    "`os.chdir(path)` Change the current working directory to path."
   ]
  },
  {
   "cell_type": "code",
   "execution_count": null,
   "metadata": {},
   "outputs": [],
   "source": [
    "import os\n",
    "os.chdir(wrkdir + \"/data\")\n",
    "os.getcwd()"
   ]
  },
  {
   "cell_type": "markdown",
   "metadata": {},
   "source": [
    "This works in *posix* and *java* architectures but not in *nt* architecture. It is much better to avoid issues the following method:"
   ]
  },
  {
   "cell_type": "code",
   "execution_count": null,
   "metadata": {},
   "outputs": [],
   "source": [
    "import os\n",
    "import os.path\n",
    "os.chdir(os.path.join(wrkdir,\"data\"))\n",
    "os.getcwd()"
   ]
  },
  {
   "cell_type": "markdown",
   "metadata": {},
   "source": [
    "`os.path.join()` method in Python join one or more path components intelligently. This method concatenates various path components with exactly one directory separator (‘/’) following each non-empty part except the last path component. If the last path component to be joined is empty then a directory seperator (‘/’) is put at the end.\n",
    "\n",
    "If a path component represents an absolute path, then all previous components joined are discarded and joining continues from the absolute path component."
   ]
  },
  {
   "cell_type": "code",
   "execution_count": null,
   "metadata": {},
   "outputs": [],
   "source": [
    "# Go back to the wrkdir\n",
    "import os\n",
    "os.chdir(wrkdir)\n",
    "os.getcwd()"
   ]
  },
  {
   "cell_type": "markdown",
   "metadata": {
    "slideshow": {
     "slide_type": "slide"
    }
   },
   "source": [
    "## Working with files and directories in python"
   ]
  },
  {
   "cell_type": "markdown",
   "metadata": {
    "slideshow": {
     "slide_type": "slide"
    }
   },
   "source": [
    "### Displaying content working directory: `os.listdir()`"
   ]
  },
  {
   "cell_type": "markdown",
   "metadata": {},
   "source": [
    "`os.listdir()` will print all files and directories inside you prython working directory."
   ]
  },
  {
   "cell_type": "code",
   "execution_count": null,
   "metadata": {},
   "outputs": [],
   "source": [
    "import os\n",
    "os.listdir()"
   ]
  },
  {
   "cell_type": "markdown",
   "metadata": {},
   "source": [
    "You can list the content of another directory using the path as argument:"
   ]
  },
  {
   "cell_type": "code",
   "execution_count": null,
   "metadata": {
    "slideshow": {
     "slide_type": "subslide"
    }
   },
   "outputs": [],
   "source": [
    "import os\n",
    "os.listdir(\"./data\")"
   ]
  },
  {
   "cell_type": "markdown",
   "metadata": {
    "slideshow": {
     "slide_type": "slide"
    }
   },
   "source": [
    "### Iterating over the files and directories: `os.walk()`"
   ]
  },
  {
   "cell_type": "markdown",
   "metadata": {
    "slideshow": {
     "slide_type": "subslide"
    }
   },
   "source": [
    "Generate the file names in a directory tree by walking the tree either top-down or bottom-up. For each directory in the tree rooted at directory top (including top itself), it yields a 3-tuple (dirpath, dirnames, filenames)."
   ]
  },
  {
   "cell_type": "code",
   "execution_count": null,
   "metadata": {},
   "outputs": [],
   "source": [
    "print(os.walk(\".\"))"
   ]
  },
  {
   "cell_type": "markdown",
   "metadata": {
    "slideshow": {
     "slide_type": "slide"
    }
   },
   "source": [
    "#### Displaying the tree of a directory"
   ]
  },
  {
   "cell_type": "code",
   "execution_count": null,
   "metadata": {},
   "outputs": [],
   "source": [
    "import os\n",
    "\n",
    "def list_files(startpath):\n",
    "    for root, dirs, files in os.walk(startpath):\n",
    "        level = root.replace(startpath, '', 1).count(os.sep)\n",
    "        indent = ' ' * 4 * (level)\n",
    "        print('{}{}/'.format(indent, os.path.basename(root)))\n",
    "        subindent = ' ' * 4 * (level + 1)\n",
    "        for f in files:\n",
    "            print('{}{}'.format(subindent, f))\n",
    "\n",
    "list_files(\".\")"
   ]
  },
  {
   "cell_type": "markdown",
   "metadata": {
    "slideshow": {
     "slide_type": "subslide"
    }
   },
   "source": [
    "#### Finding the size of the content of a folder"
   ]
  },
  {
   "cell_type": "code",
   "execution_count": null,
   "metadata": {},
   "outputs": [],
   "source": [
    "import os\n",
    "from os.path import join, getsize\n",
    "for root, dirs, files in os.walk('.'):\n",
    "    root_abs = os.path.abspath(root)\n",
    "    print(f\"root = {root_abs}\")\n",
    "    print(f\"dirs =  {dirs}\")\n",
    "    print(f\"files = {files}\")\n",
    "    size = sum(getsize(join(root, name)) for name in files)\n",
    "    print(f\"Contains {len(dirs)} directories\")\n",
    "    print(f\"Contains {len(files)} files summing {size/(1024**2):.2f} Mbytes\\n\")"
   ]
  },
  {
   "cell_type": "markdown",
   "metadata": {
    "slideshow": {
     "slide_type": "slide"
    }
   },
   "source": [
    "## File handling\n",
    "\n",
    "Python has several functions for creating, reading, updating, and deleting files."
   ]
  },
  {
   "cell_type": "markdown",
   "metadata": {},
   "source": [
    "The key function for working with files in Python is the `open()` function.\n",
    "\n",
    "The `open()` function takes two parameters; filename, and mode.\n",
    "\n",
    "There are four different methods (modes) for opening a file:\n",
    "\n",
    "`\"r\"` - Read - Default value. Opens a file for reading, error if the file does not exist\n",
    "\n",
    "`\"a\"` - Append - Opens a file for appending, creates the file if it does not exist\n",
    "\n",
    "`\"w\"` - Write - Opens a file for writing, creates the file if it does not exist\n",
    "\n",
    "`\"x\"` - Create - Creates the specified file, returns an error if the file exists\n",
    "\n",
    "In addition you can specify if the file should be handled as binary or text mode\n",
    "\n",
    "`\"t\"` - Text - Default value. Text mode\n",
    "\n",
    "`\"b\"` - Binary - Binary mode (e.g. images)\n"
   ]
  },
  {
   "cell_type": "code",
   "execution_count": null,
   "metadata": {},
   "outputs": [],
   "source": [
    "# Set path to datafile\n",
    "datafile = os.path.join(datadir, \"Table_NWChem.txt\")"
   ]
  },
  {
   "cell_type": "markdown",
   "metadata": {
    "slideshow": {
     "slide_type": "slide"
    }
   },
   "source": [
    "### Open a file for reading it: `open(path, 'r')`\n",
    "\n",
    "To open a file for reading it is enough to specify the name of the file:"
   ]
  },
  {
   "cell_type": "code",
   "execution_count": null,
   "metadata": {},
   "outputs": [],
   "source": [
    "f = open(datafile, \"rt\")\n",
    "f.close()"
   ]
  },
  {
   "cell_type": "markdown",
   "metadata": {},
   "source": [
    "The code above can be reduced to:"
   ]
  },
  {
   "cell_type": "code",
   "execution_count": null,
   "metadata": {},
   "outputs": [],
   "source": [
    "f = open(datafile)\n",
    "f.close()"
   ]
  },
  {
   "cell_type": "markdown",
   "metadata": {},
   "source": [
    "Because \"r\" for read, and \"t\" for text are the default values, you do not need to specify them.\n",
    "\n",
    "Note: Make sure the file exists, or else you will get an error."
   ]
  },
  {
   "cell_type": "markdown",
   "metadata": {
    "slideshow": {
     "slide_type": "slide"
    }
   },
   "source": [
    "### Reading the content of a file"
   ]
  },
  {
   "cell_type": "code",
   "execution_count": null,
   "metadata": {},
   "outputs": [],
   "source": [
    "f = open(datafile)\n",
    "for line in f:\n",
    "    print(line.strip(\"\\n\"))\n",
    "f.close()"
   ]
  },
  {
   "cell_type": "markdown",
   "metadata": {},
   "source": [
    "<div class=\"alert alert-warning\"> Always close your files."
   ]
  },
  {
   "cell_type": "markdown",
   "metadata": {
    "slideshow": {
     "slide_type": "slide"
    }
   },
   "source": [
    "### Opening a file with the `with` statement"
   ]
  },
  {
   "cell_type": "markdown",
   "metadata": {},
   "source": [
    "If you forget to close any open files, funny stuff can happen. Problems are apparent when writing to files, but not only> For example, you might suffer memory exhaustion, realize that the data was not fully written, or that the file is corrupted. Explicitly closing the open files solves all these issues. To avoid this remembering to close the files better use the following syntax:"
   ]
  },
  {
   "cell_type": "code",
   "execution_count": null,
   "metadata": {},
   "outputs": [],
   "source": [
    "with open(datafile) as fin:\n",
    "    for line in fin:\n",
    "        print(line.strip(\"\\n\"))"
   ]
  },
  {
   "cell_type": "markdown",
   "metadata": {},
   "source": [
    "The `with` statement takes care of closing the file when exiting the block. Moreover, it saves you typing one line, and the indentation signals you when you are still working with the files."
   ]
  },
  {
   "cell_type": "markdown",
   "metadata": {},
   "source": [
    "<div class=\"alert alert-info\"> I cannot recommend enough opening files with the with statement."
   ]
  },
  {
   "cell_type": "markdown",
   "metadata": {
    "slideshow": {
     "slide_type": "slide"
    }
   },
   "source": [
    "### Open a file for writing it: `open(path, 'w')`\n",
    "\n",
    "To open a file for writing do:"
   ]
  },
  {
   "cell_type": "code",
   "execution_count": null,
   "metadata": {},
   "outputs": [],
   "source": [
    "with open(\"newfile.txt\", 'w') as fout:\n",
    "    fout.write(\"This is the first line of the new file.\\n\")\n",
    "    fout.write(\"This is the second line of the new file.\")\n",
    "    \n",
    "with open(\"newfile.txt\", 'r') as fin:\n",
    "    for line in fin:\n",
    "        print(line.strip(\"\\n\"))"
   ]
  },
  {
   "cell_type": "markdown",
   "metadata": {
    "slideshow": {
     "slide_type": "subslide"
    }
   },
   "source": [
    "Please note that the `open(path, 'w')` will rewrite the content of the file if already exists. **Be Carefull**"
   ]
  },
  {
   "cell_type": "code",
   "execution_count": null,
   "metadata": {},
   "outputs": [],
   "source": [
    "with open(\"newfile.txt\", 'r') as fin:\n",
    "    for line in fin:\n",
    "        print(line.strip(\"\\n\"))\n",
    "        \n",
    "with open(\"newfile.txt\", 'w') as fout:\n",
    "    fout.write(\"Line1.\\n\")\n",
    "    fout.write(\"Line2.\")\n",
    "    \n",
    "with open(\"newfile.txt\", 'r') as fin:\n",
    "    for line in fin:\n",
    "        print(line.strip(\"\\n\"))"
   ]
  },
  {
   "cell_type": "markdown",
   "metadata": {
    "slideshow": {
     "slide_type": "subslide"
    }
   },
   "source": [
    "Note: Make sure that you have write rights and there is enough space for the file, or else you will get an error."
   ]
  },
  {
   "cell_type": "markdown",
   "metadata": {
    "slideshow": {
     "slide_type": "slide"
    }
   },
   "source": [
    "### Open a file for appending text: `open(path, 'a')`\n",
    "\n",
    "Opens a file for appending, creates the file if it does not exist:"
   ]
  },
  {
   "cell_type": "code",
   "execution_count": null,
   "metadata": {},
   "outputs": [],
   "source": [
    "with open(\"newfile.txt\", 'a') as fout:\n",
    "    fout.write(\"\\nLine3.\")\n",
    "    \n",
    "with open(\"newfile.txt\", 'r') as fin:\n",
    "    for line in fin:\n",
    "        print(line.strip(\"\\n\"))"
   ]
  },
  {
   "cell_type": "markdown",
   "metadata": {},
   "source": [
    "### Writing to a closed file\n",
    "\n",
    "<div class=\"alert alert-warning\"> Do not write or read on a closed file :)"
   ]
  },
  {
   "cell_type": "code",
   "execution_count": null,
   "metadata": {},
   "outputs": [],
   "source": [
    "with open(\"newfile.txt\", 'w') as fout:\n",
    "    pass\n",
    "fout.write(\"Writting when the file is clossed.\")"
   ]
  },
  {
   "cell_type": "markdown",
   "metadata": {
    "slideshow": {
     "slide_type": "slide"
    }
   },
   "source": [
    "## Output Parsing\n",
    "\n",
    "Parsing is the process of analyzing a string of symbols conforming to the rules of a formal grammar. The term parsing comes from Latin pars (orationis), meaning part (of speech).\n",
    "\n",
    "As more and more of our day-to-day work is being done on and through computers, we increasingly have output that one program writes, often in a text file, that we need to analyze in one way or another, and potentially feed that output into another file.\n",
    "\n",
    "Suppose we have the following output:"
   ]
  },
  {
   "cell_type": "code",
   "execution_count": null,
   "metadata": {
    "jupyter": {
     "outputs_hidden": false
    }
   },
   "outputs": [],
   "source": [
    "myoutput = \"\"\"\\\n",
    "@ Step       Energy      Delta E   Gmax     Grms     Xrms     Xmax   Walltime\n",
    "@ ---- ---------------- -------- -------- -------- -------- -------- --------\n",
    "@    0   -6095.12544083  0.0D+00  0.03686  0.00936  0.00000  0.00000   1391.5\n",
    "@    1   -6095.25762870 -1.3D-01  0.00732  0.00168  0.32456  0.84140  10468.0\n",
    "@    2   -6095.26325979 -5.6D-03  0.00233  0.00056  0.06294  0.14009  11963.5\n",
    "@    3   -6095.26428124 -1.0D-03  0.00109  0.00024  0.03245  0.10269  13331.9\n",
    "@    4   -6095.26463203 -3.5D-04  0.00057  0.00013  0.02737  0.09112  14710.8\n",
    "@    5   -6095.26477615 -1.4D-04  0.00043  0.00009  0.02259  0.08615  20211.1\n",
    "@    6   -6095.26482624 -5.0D-05  0.00015  0.00002  0.00831  0.03147  21726.1\n",
    "@    7   -6095.26483584 -9.6D-06  0.00021  0.00004  0.01473  0.05265  24890.5\n",
    "@    8   -6095.26484405 -8.2D-06  0.00005  0.00001  0.00555  0.01929  26448.7\n",
    "@    9   -6095.26484599 -1.9D-06  0.00003  0.00001  0.00164  0.00564  27258.1\n",
    "@   10   -6095.26484676 -7.7D-07  0.00003  0.00001  0.00161  0.00553  28155.3\n",
    "@   11   -6095.26484693 -1.8D-07  0.00002  0.00000  0.00054  0.00151  28981.7\n",
    "@   11   -6095.26484693 -1.8D-07  0.00002  0.00000  0.00054  0.00151  28981.7\"\"\""
   ]
  },
  {
   "cell_type": "markdown",
   "metadata": {},
   "source": [
    "This output actually came from a geometry optimization of a Silicon cluster using the [NWChem](http://www.nwchem-sw.org/index.php/Main_Page) quantum chemistry suite. At every step the program computes the energy of the molecular geometry, and then changes the geometry to minimize the computed forces, until the energy converges."
   ]
  },
  {
   "cell_type": "markdown",
   "metadata": {
    "slideshow": {
     "slide_type": "slide"
    }
   },
   "source": [
    "First, note that the data is entered into a multi-line string. When Python sees three quote marks `\"\"\"` or `'''` it treats everything following as part of a single string, including newlines, tabs, and anything else, until it sees the same three quote marks (`\"\"\"` has to be followed by another `\"\"\"`, and `'''` has to be followed by another `'''`) again.\n",
    "\n",
    "Triple quotes, i.e.,`\"\"\"`, are a convenient way to quickly dump data into Python, and it also reinforces the important idea that you don't have to open a file and deal with it one line at a time. You can read everything in, and deal with it as one big chunk."
   ]
  },
  {
   "cell_type": "markdown",
   "metadata": {
    "slideshow": {
     "slide_type": "slide"
    }
   },
   "source": [
    "### Divide and conquer, the secret of parsing data: `str.splitlines()`\n",
    "The first thing we'll do, though, is to split the big string into a list of strings, since each line corresponds to a separate piece of data. We will use the `str.splitlines()` function on the big myout string to break it into a new element every time it sees a newline (\\n) character:"
   ]
  },
  {
   "cell_type": "code",
   "execution_count": null,
   "metadata": {
    "jupyter": {
     "outputs_hidden": false
    }
   },
   "outputs": [],
   "source": [
    "lines = myoutput.splitlines()\n",
    "lines"
   ]
  },
  {
   "cell_type": "markdown",
   "metadata": {
    "slideshow": {
     "slide_type": "subslide"
    }
   },
   "source": [
    "Splitting is a big concept in text processing. We used `str.splitlines()` here, and we will use the more general `str.split()` function below to split each line into whitespace-delimited words."
   ]
  },
  {
   "cell_type": "markdown",
   "metadata": {
    "slideshow": {
     "slide_type": "subslide"
    }
   },
   "source": [
    "We now want to do three things:\n",
    "* Skip over the lines that don't carry any information\n",
    "* Break apart each line that does carry information and grab the pieces we want\n",
    "* Turn the resulting data into something that we can plot.\n",
    "\n",
    "```\n",
    "@ Step       Energy      Delta E   Gmax     Grms     Xrms     Xmax   Walltime\n",
    "@ ---- ---------------- -------- -------- -------- -------- -------- --------\n",
    "@    0   -6095.12544083  0.0D+00  0.03686  0.00936  0.00000  0.00000   1391.5\n",
    "...\n",
    "```"
   ]
  },
  {
   "cell_type": "markdown",
   "metadata": {
    "slideshow": {
     "slide_type": "subslide"
    }
   },
   "source": [
    "For this data, we really only want the Energy column, the Gmax column (which contains the maximum gradient at each step), and perhaps the Walltime column.\n",
    "```\n",
    "@ Step       Energy      Delta E   Gmax     Grms     Xrms     Xmax   Walltime\n",
    "@ ---- ---------------- -------- -------- -------- -------- -------- --------\n",
    "@    0   -6095.12544083  0.0D+00  0.03686  0.00936  0.00000  0.00000   1391.5\n",
    "...\n",
    "```"
   ]
  },
  {
   "cell_type": "markdown",
   "metadata": {
    "slideshow": {
     "slide_type": "subslide"
    }
   },
   "source": [
    "Since the data is now in a list of lines, we can iterate over it:"
   ]
  },
  {
   "cell_type": "code",
   "execution_count": null,
   "metadata": {
    "jupyter": {
     "outputs_hidden": false
    }
   },
   "outputs": [],
   "source": [
    "for line in lines[2:]:\n",
    "    # do something with each line\n",
    "    words = line.split()"
   ]
  },
  {
   "cell_type": "markdown",
   "metadata": {},
   "source": [
    "Let's examine what we just did: first, we used a `for` loop to iterate over each line. However, we skipped the first two (the `lines[2:]` only takes the lines starting from index 2), since `lines[0]` contained the title information, and `lines[1]` contained underscores.\n",
    "\n",
    "We then split each line into chunks (which we're calling \"words\", even though in most cases they're numbers) using the string `str.split()** command. Here's what split does:"
   ]
  },
  {
   "cell_type": "code",
   "execution_count": null,
   "metadata": {
    "jupyter": {
     "outputs_hidden": false
    },
    "slideshow": {
     "slide_type": "subslide"
    }
   },
   "outputs": [],
   "source": [
    "help(str.split)"
   ]
  },
  {
   "cell_type": "markdown",
   "metadata": {
    "slideshow": {
     "slide_type": "subslide"
    }
   },
   "source": [
    "Here we're implicitly passing in the first argument (s, in the doctext) by calling a method .split() on a string object. In this instance, we're not passing in a sep character, which means that the function splits on whitespace. Let's see what that does to one of our lines:"
   ]
  },
  {
   "cell_type": "code",
   "execution_count": null,
   "metadata": {
    "jupyter": {
     "outputs_hidden": false
    }
   },
   "outputs": [],
   "source": [
    "print(lines[2].split())"
   ]
  },
  {
   "cell_type": "markdown",
   "metadata": {
    "slideshow": {
     "slide_type": "subslide"
    }
   },
   "source": [
    "This is almost exactly what we want. \n",
    "```python\n",
    "['@', '0', '-6095.12544083', '0.0D+00', '0.03686', '0.00936', '0.00000', '0.00000', '1391.5']\n",
    "```\n",
    "We just have to now pick the fields we want:"
   ]
  },
  {
   "cell_type": "code",
   "execution_count": null,
   "metadata": {
    "jupyter": {
     "outputs_hidden": false
    }
   },
   "outputs": [],
   "source": [
    "for line in lines[2:]:\n",
    "    # do something with each line\n",
    "    words = line.split()\n",
    "    energy = words[2]\n",
    "    gmax = words[4]\n",
    "    time = words[8]\n",
    "    print(energy,gmax,time)"
   ]
  },
  {
   "cell_type": "markdown",
   "metadata": {
    "slideshow": {
     "slide_type": "subslide"
    }
   },
   "source": [
    "This is fine for printing things out, but if we want to do something with the data, either make a calculation with it or pass it into a plotting, we need to convert the strings into regular floating point numbers. We can use the `float()` command for this. We also need to save it in some form. I'll do this as follows:"
   ]
  },
  {
   "cell_type": "code",
   "execution_count": null,
   "metadata": {},
   "outputs": [],
   "source": [
    "import numpy as np\n",
    "import matplotlib.pyplot as plt"
   ]
  },
  {
   "cell_type": "code",
   "execution_count": null,
   "metadata": {
    "jupyter": {
     "outputs_hidden": false
    }
   },
   "outputs": [],
   "source": [
    "data = []\n",
    "for line in lines[2:]:\n",
    "    # do something with each line\n",
    "    words = line.split()\n",
    "    energy = float(words[2])\n",
    "    gmax = float(words[4])\n",
    "    time = float(words[8])\n",
    "    data.append((energy,gmax,time))\n",
    "data = np.array(data)\n",
    "print(data)"
   ]
  },
  {
   "cell_type": "markdown",
   "metadata": {
    "slideshow": {
     "slide_type": "subslide"
    }
   },
   "source": [
    "We now have our data in a numpy array, so we can choose columns to print:"
   ]
  },
  {
   "cell_type": "code",
   "execution_count": null,
   "metadata": {
    "jupyter": {
     "outputs_hidden": false
    }
   },
   "outputs": [],
   "source": [
    "plt.figure(figsize=(10,6))\n",
    "plt.plot(data[:,0])\n",
    "plt.xlabel('step')\n",
    "plt.ylabel('Energy (hartrees)')\n",
    "plt.title('Convergence of NWChem geometry optimization for Si cluster')\n",
    "plt.show()"
   ]
  },
  {
   "cell_type": "markdown",
   "metadata": {},
   "source": [
    "I would write the code a little more succinctly if I were doing this for myself, but this is essentially a snippet I use repeatedly. "
   ]
  },
  {
   "cell_type": "markdown",
   "metadata": {
    "slideshow": {
     "slide_type": "slide"
    }
   },
   "source": [
    "### Combining `str.splitlines()`, `str.split()` and `map()` functions to parse complex data.\n",
    "Suppose our data was in CSV (comma separated values) format, a format that originally came from Microsoft Excel, and is increasingly used as a data interchange format in big data applications. How would we parse that?"
   ]
  },
  {
   "cell_type": "code",
   "execution_count": null,
   "metadata": {
    "jupyter": {
     "outputs_hidden": false
    }
   },
   "outputs": [],
   "source": [
    "csv = \"\"\"\\\n",
    "-6095.12544083, 0.03686, 1391.5\n",
    "-6095.25762870, 0.00732, 10468.0\n",
    "-6095.26325979, 0.00233, 11963.5\n",
    "-6095.26428124, 0.00109, 13331.9\n",
    "-6095.26463203, 0.00057, 14710.8\n",
    "-6095.26477615, 0.00043, 20211.1\n",
    "-6095.26482624, 0.00015, 21726.1\n",
    "-6095.26483584, 0.00021, 24890.5\n",
    "-6095.26484405, 0.00005, 26448.7\n",
    "-6095.26484599, 0.00003, 27258.1\n",
    "-6095.26484676, 0.00003, 28155.3\n",
    "-6095.26484693, 0.00002, 28981.7\n",
    "-6095.26484693, 0.00002, 28981.7\"\"\""
   ]
  },
  {
   "cell_type": "markdown",
   "metadata": {
    "slideshow": {
     "slide_type": "subslide"
    }
   },
   "source": [
    "We can do much the same as before:"
   ]
  },
  {
   "cell_type": "code",
   "execution_count": null,
   "metadata": {
    "jupyter": {
     "outputs_hidden": false
    }
   },
   "outputs": [],
   "source": [
    "data = []\n",
    "for line in csv.splitlines():\n",
    "    words = line.split(',')\n",
    "    data.append(list(map(float,words)))\n",
    "data = np.array(data)\n",
    "print(data)"
   ]
  },
  {
   "cell_type": "markdown",
   "metadata": {},
   "source": [
    "There are two significant changes over what we did earlier. First, I'm passing the comma character ',' into the split function, so that it breaks to a new word every time it sees a comma. Next, to simplify things a big, I'm using the `map()` command to repeatedly apply a single function (`float()`) to a list, and to return the output as a `list`."
   ]
  },
  {
   "cell_type": "code",
   "execution_count": null,
   "metadata": {
    "jupyter": {
     "outputs_hidden": false
    },
    "slideshow": {
     "slide_type": "subslide"
    }
   },
   "outputs": [],
   "source": [
    "help(map)"
   ]
  },
  {
   "cell_type": "markdown",
   "metadata": {
    "slideshow": {
     "slide_type": "subslide"
    }
   },
   "source": [
    "Despite the differences, the resulting plot should be the same:"
   ]
  },
  {
   "cell_type": "code",
   "execution_count": null,
   "metadata": {
    "jupyter": {
     "outputs_hidden": false
    }
   },
   "outputs": [],
   "source": [
    "plt.figure(figsize=(10,6))\n",
    "plt.plot(data[:,0])\n",
    "plt.xlabel('step')\n",
    "plt.ylabel('Energy (hartrees)')\n",
    "plt.title('Convergence of NWChem geometry optimization for Si cluster')\n",
    "plt.show()"
   ]
  },
  {
   "cell_type": "markdown",
   "metadata": {
    "slideshow": {
     "slide_type": "slide"
    }
   },
   "source": [
    "### Selecting/filtering lines ()\n",
    "\n",
    "The **string** module has a lot of useful functions we can use for this. Among them is the `str.startswith()` function. For example:"
   ]
  },
  {
   "cell_type": "code",
   "execution_count": null,
   "metadata": {
    "jupyter": {
     "outputs_hidden": false
    }
   },
   "outputs": [],
   "source": [
    "lines = \"\"\"\\\n",
    "                 ----------------------------------------\n",
    "                 |  WALL  |       0.45   |     443.61   |\n",
    "                 ----------------------------------------\n",
    "\n",
    "@ Step       Energy      Delta E   Gmax     Grms     Xrms     Xmax   Walltime\n",
    "@ ---- ---------------- -------- -------- -------- -------- -------- --------\n",
    "@    0   -6095.12544083  0.0D+00  0.03686  0.00936  0.00000  0.00000   1391.5\n",
    "                                                       ok       ok\n",
    "\n",
    "\n",
    "\n",
    "                                Z-matrix (autoz)\n",
    "                                --------\n",
    "\"\"\".splitlines()\n",
    "\n",
    "for line in lines:\n",
    "    if line.startswith('@'):\n",
    "        print(line)\n",
    "        "
   ]
  },
  {
   "cell_type": "markdown",
   "metadata": {},
   "source": [
    "and we've successfully grabbed all of the lines that begin with the @ symbol."
   ]
  },
  {
   "cell_type": "markdown",
   "metadata": {
    "slideshow": {
     "slide_type": "subslide"
    }
   },
   "source": [
    "The real value in a language like Python is that it makes it easy to take additional steps to analyze data in this fashion, which means you are thinking more about your data, and are more likely to see important patterns."
   ]
  },
  {
   "cell_type": "markdown",
   "metadata": {
    "slideshow": {
     "slide_type": "slide"
    }
   },
   "source": [
    "## Output parsing from files"
   ]
  },
  {
   "cell_type": "code",
   "execution_count": null,
   "metadata": {},
   "outputs": [],
   "source": [
    "with open(datafile) as fin:\n",
    "    for line in fin:\n",
    "        print(line.strip(\"\\n\"))"
   ]
  },
  {
   "cell_type": "code",
   "execution_count": null,
   "metadata": {
    "slideshow": {
     "slide_type": "subslide"
    }
   },
   "outputs": [],
   "source": [
    "data = []\n",
    "print(datafile)\n",
    "with open(datafile) as fin:\n",
    "    for line in fin:\n",
    "        if \"Step\" in line:\n",
    "            continue\n",
    "        if \"---\" in line:\n",
    "            continue\n",
    "        words = line.split()[2:]\n",
    "        # Remove weird notation in Delta E. D->e (scientific notation)\n",
    "        words = list(map(lambda s : s.replace(\"D\", \"e\"), words))\n",
    "        #Transform each string number to float\n",
    "        words = list(map(float, words))\n",
    "        data.append(words)\n",
    "# remove the last line that is repeated\n",
    "data.pop(-1)\n",
    "data = np.array(data)\n",
    "print(f\"The shape of data numpy array is {np.shape(data)}\")\n",
    "with np.printoptions(precision=3, suppress=True):\n",
    "    print(data)"
   ]
  },
  {
   "cell_type": "code",
   "execution_count": null,
   "metadata": {
    "slideshow": {
     "slide_type": "subslide"
    }
   },
   "outputs": [],
   "source": [
    "# Print result\n",
    "#print(data)\n",
    "\n",
    "# Plot result\n",
    "plt.figure(figsize=(10,6))\n",
    "plt.plot(data[:,0])\n",
    "plt.xlabel('step')\n",
    "plt.ylabel('Energy (hartrees)')\n",
    "plt.title('Convergence of NWChem geometry optimization for Si cluster')\n",
    "plt.show()"
   ]
  },
  {
   "cell_type": "markdown",
   "metadata": {
    "slideshow": {
     "slide_type": "slide"
    }
   },
   "source": [
    "## More Sophisticated String Formatting and Processing\n",
    "Strings are a big deal in most modern languages, and hopefully the previous sections helped underscore how versatile Python's string processing techniques are. We will continue this topic in this chapter.\n",
    "\n",
    "We can print out lines in Python using the print command. "
   ]
  },
  {
   "cell_type": "code",
   "execution_count": null,
   "metadata": {
    "jupyter": {
     "outputs_hidden": false
    }
   },
   "outputs": [],
   "source": [
    "print(\"I have 3 errands to run\")"
   ]
  },
  {
   "cell_type": "markdown",
   "metadata": {},
   "source": [
    "In IPython we don't even need the print command, since it will display the last expression not assigned to a variable."
   ]
  },
  {
   "cell_type": "code",
   "execution_count": null,
   "metadata": {
    "jupyter": {
     "outputs_hidden": false
    }
   },
   "outputs": [],
   "source": [
    "\"I have 3 errands to run\""
   ]
  },
  {
   "cell_type": "markdown",
   "metadata": {},
   "source": [
    "**print** even converts some arguments to strings for us:"
   ]
  },
  {
   "cell_type": "code",
   "execution_count": null,
   "metadata": {
    "jupyter": {
     "outputs_hidden": false
    }
   },
   "outputs": [],
   "source": [
    "a,b,c = 1,2,3\n",
    "print(f\"The variables are {a} {b} {c}\")"
   ]
  },
  {
   "cell_type": "markdown",
   "metadata": {
    "slideshow": {
     "slide_type": "subslide"
    }
   },
   "source": [
    "As versatile as this is, you typically need more freedom over the data you print out. For example, what if we want to print a bunch of data to exactly 4 decimal places? We can do this using formatted strings.\n",
    "\n",
    "Formatted strings can be achieved using the format funtions of the strings. For examples check https://pyformat.info/.\n",
    "\n",
    "For example,"
   ]
  },
  {
   "cell_type": "code",
   "execution_count": null,
   "metadata": {
    "jupyter": {
     "outputs_hidden": false
    }
   },
   "outputs": [],
   "source": [
    "print(f\"Pi as a decimal = {np.pi:.0f}\")\n",
    "print(f\"Pi as a float = {np.pi:f}\")\n",
    "print(f\"Pi with 4 decimal places = {np.pi:.4f}\")\n",
    "print(f\"Pi with overall fixed length of 10 spaces, with 6 decimal places = {np.pi:10.6f}\")\n",
    "print(f\"Pi as in exponential format = {np.pi:e}\")"
   ]
  },
  {
   "cell_type": "markdown",
   "metadata": {
    "slideshow": {
     "slide_type": "subslide"
    }
   },
   "source": [
    "We can also pipe several variables, or even print the same more than once:"
   ]
  },
  {
   "cell_type": "code",
   "execution_count": null,
   "metadata": {
    "jupyter": {
     "outputs_hidden": false
    }
   },
   "outputs": [],
   "source": [
    "print(f\"The variables specified earlier are {a:d}, {b:d}, and {c:d} [repeated {a:d}]\")"
   ]
  },
  {
   "cell_type": "markdown",
   "metadata": {},
   "source": [
    "This is a simple formatting structure that will satisfy most of your string formatting needs.More information check https://realpython.com/python-f-strings/ or http://zetcode.com/python/fstring/.\n",
    "\n",
    "<div class=\"alert alert-info\"> Avoid using old C formating string methods. They are weaker and prompt to errors."
   ]
  },
  {
   "cell_type": "markdown",
   "metadata": {
    "slideshow": {
     "slide_type": "subslide"
    }
   },
   "source": [
    "Recall we discussed multiline strings. We can put format characters in these as well, and fill them with them as before."
   ]
  },
  {
   "cell_type": "code",
   "execution_count": null,
   "metadata": {
    "jupyter": {
     "outputs_hidden": false
    }
   },
   "outputs": [],
   "source": [
    "date = \"July 1, 2013\"\n",
    "name = \"Valued Customer Bob\"\n",
    "reason = \"alien attack\"\n",
    "\n",
    "form_letter = f\"\"\"\\\n",
    "\n",
    "          {date:s}\n",
    "\n",
    "Dear {name:s},\n",
    "\n",
    "We regret to inform you that your product did not\n",
    "ship today due to {reason:s}.\n",
    "\n",
    "We hope to remedy this as soon as possible.\n",
    "\n",
    "          From,\n",
    "          Your Supplier\n",
    "\"\"\"\n",
    "\n",
    "\n",
    "print(form_letter)"
   ]
  },
  {
   "cell_type": "markdown",
   "metadata": {
    "slideshow": {
     "slide_type": "subslide"
    }
   },
   "source": [
    "If you need to reuse many time the string while substitutting by different values use `str.format()`"
   ]
  },
  {
   "cell_type": "code",
   "execution_count": null,
   "metadata": {
    "jupyter": {
     "outputs_hidden": false
    }
   },
   "outputs": [],
   "source": [
    "form_letter = \"\"\"\\\n",
    "\n",
    "          {0:s}\n",
    "\n",
    "Dear {1:s},\n",
    "\n",
    "We regret to inform you that your product did not\n",
    "ship today due to {2:s}.\n",
    "\n",
    "We hope to remedy this as soon as possible.\n",
    "\n",
    "          From,\n",
    "          Your Supplier\n",
    "\"\"\"\n",
    "\n",
    "print(form_letter.format(\"July 1, 2013\",\"Valued Customer Bob\",\"alien attack\"))"
   ]
  },
  {
   "cell_type": "markdown",
   "metadata": {
    "slideshow": {
     "slide_type": "subslide"
    }
   },
   "source": [
    "The problem with a long block of text like this is that it's often hard to keep track of what all of the variables are supposed to stand for. There's an alternate format where you can pass a dictionary into the formatted string, and give a little bit more information to the formatted string itself. This method looks like:"
   ]
  },
  {
   "cell_type": "markdown",
   "metadata": {
    "slideshow": {
     "slide_type": "subslide"
    }
   },
   "source": [
    "As a scientist, you're less likely to be sending bulk mailings to a bunch of customers. But these are great methods for generating and submitting lots of similar runs, say scanning a bunch of different structures to find the optimal configuration for something. There are methods less prompt to error such as the following  example, that we can use the following template for NWChem input files:"
   ]
  },
  {
   "cell_type": "code",
   "execution_count": null,
   "metadata": {
    "jupyter": {
     "outputs_hidden": false
    }
   },
   "outputs": [],
   "source": [
    "nwchem_format = \"\"\"\n",
    "start {0[jobname]:s}\n",
    "\n",
    "title \"{0[thetitle]:s}\"\n",
    "charge {0[charge]:d}\n",
    "\n",
    "geometry units angstroms print xyz autosym\n",
    "{0[geometry]:s}\n",
    "end\n",
    "\n",
    "basis\n",
    "  * library 6-31G**\n",
    "end\n",
    "\n",
    "dft\n",
    "  xc {0[dft_functional]:s}\n",
    "  mult {0[multiplicity]:d}\n",
    "end\n",
    "\n",
    "task dft {0[jobtype]:s}\n",
    "\"\"\""
   ]
  },
  {
   "cell_type": "markdown",
   "metadata": {
    "slideshow": {
     "slide_type": "subslide"
    }
   },
   "source": [
    "If you want to submit a sequence of runs to a computer somewhere, it's pretty easy to put together a little script, maybe even with some more string formatting in it:"
   ]
  },
  {
   "cell_type": "code",
   "execution_count": null,
   "metadata": {
    "jupyter": {
     "outputs_hidden": false
    }
   },
   "outputs": [],
   "source": [
    "oxygen_xy_coords = [(0,0),(0,0.1),(0.1,0),(0.1,0.1)]\n",
    "charge = 0\n",
    "multiplicity = 1\n",
    "dft_functional = \"b3lyp\"\n",
    "jobtype = \"optimize\"\n",
    "\n",
    "geometry_template = \"\"\"\\\n",
    "  O    {0[0]:.1f}    {0[1]:.1f}     0.0\n",
    "  H    0.0    1.0     0.0\n",
    "  H    1.0    0.0     0.0\"\"\"\n",
    "\n",
    "for i,xy in enumerate(oxygen_xy_coords):\n",
    "    thetitle = \"Water run #{0:d}\".format(i)\n",
    "    jobname = \"h2o-{0:d}\".format(i)\n",
    "    geometry = geometry_template.format(xy)\n",
    "    print (\"---------\")\n",
    "    print (nwchem_format.format(dict(thetitle=thetitle,charge=charge,jobname=jobname,jobtype=jobtype,\n",
    "                               geometry=geometry,dft_functional=dft_functional,multiplicity=multiplicity)))"
   ]
  },
  {
   "cell_type": "markdown",
   "metadata": {},
   "source": [
    "This is a very bad geometry for a water molecule, and it would be silly to run so many geometry optimizations of structures that are guaranteed to converge to the same single geometry, but you get the idea of how you can run vast numbers of simulations with a technique like this."
   ]
  },
  {
   "cell_type": "markdown",
   "metadata": {
    "slideshow": {
     "slide_type": "subslide"
    }
   },
   "source": [
    "We used the `enumerate()` function to loop over both the indices and the items of a sequence, which is valuable when you want a clean way of getting both. `enumerate` is roughly equivalent to:"
   ]
  },
  {
   "cell_type": "code",
   "execution_count": null,
   "metadata": {
    "jupyter": {
     "outputs_hidden": false
    }
   },
   "outputs": [],
   "source": [
    "def my_enumerate(seq):\n",
    "    l = []\n",
    "    for i in range(len(seq)):\n",
    "        l.append((i,seq[i]))\n",
    "    return l\n",
    "my_enumerate(oxygen_xy_coords)"
   ]
  },
  {
   "cell_type": "markdown",
   "metadata": {},
   "source": [
    "Although enumerate uses **generators** (see below) so that it doesn't have to create a big list, which makes it faster for really long sequenes."
   ]
  }
 ],
 "metadata": {
  "kernelspec": {
   "display_name": "Python 3",
   "language": "python",
   "name": "python3"
  },
  "language_info": {
   "codemirror_mode": {
    "name": "ipython",
    "version": 3
   },
   "file_extension": ".py",
   "mimetype": "text/x-python",
   "name": "python",
   "nbconvert_exporter": "python",
   "pygments_lexer": "ipython3",
   "version": "3.8.5"
  }
 },
 "nbformat": 4,
 "nbformat_minor": 4
}
