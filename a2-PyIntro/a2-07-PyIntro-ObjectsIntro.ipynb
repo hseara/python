{
 "cells": [
  {
   "cell_type": "markdown",
   "metadata": {},
   "source": [
    "# Object Oriented Programming"
   ]
  },
  {
   "cell_type": "markdown",
   "metadata": {},
   "source": [
    "We've seen a lot of examples of **objects** in Python. We create a string object with quote marks:"
   ]
  },
  {
   "cell_type": "code",
   "execution_count": null,
   "metadata": {
    "jupyter": {
     "outputs_hidden": false
    }
   },
   "outputs": [],
   "source": [
    "mystring = \"Hi there\""
   ]
  },
  {
   "cell_type": "markdown",
   "metadata": {},
   "source": [
    "and we have a bunch of methods we can use on the object:"
   ]
  },
  {
   "cell_type": "code",
   "execution_count": null,
   "metadata": {
    "jupyter": {
     "outputs_hidden": false
    }
   },
   "outputs": [],
   "source": [
    "mystring.split()"
   ]
  },
  {
   "cell_type": "code",
   "execution_count": null,
   "metadata": {
    "jupyter": {
     "outputs_hidden": false
    }
   },
   "outputs": [],
   "source": [
    "mystring.startswith('Hi')"
   ]
  },
  {
   "cell_type": "code",
   "execution_count": null,
   "metadata": {
    "jupyter": {
     "outputs_hidden": false
    }
   },
   "outputs": [],
   "source": [
    "len(mystring)"
   ]
  },
  {
   "cell_type": "markdown",
   "metadata": {},
   "source": [
    "Object oriented programming simply gives you the tools to define objects and methods for yourself. It's useful anytime you want to keep some data (like the characters in the string) tightly coupled to the functions that act on the data (length, split, startswith, etc.).\n",
    "\n",
    "As an example, we're going to bundle the functions we did to make the 1d harmonic oscillator eigenfunctions with arbitrary potentials, so we can pass in a function defining that potential, some additional specifications, and get out something that can plot the orbitals, as well as do other things with them, if desired."
   ]
  },
  {
   "cell_type": "code",
   "execution_count": null,
   "metadata": {
    "jupyter": {
     "outputs_hidden": false
    }
   },
   "outputs": [],
   "source": [
    "class Schrod1d:\n",
    "    \"\"\"\\\n",
    "    Schrod1d: Solver for the one-dimensional Schrodinger equation.\n",
    "    \"\"\"\n",
    "    def __init__(self,V,start=0,end=1,npts=50,**kwargs):\n",
    "        m = kwargs.get('m',1.0)\n",
    "        self.x = np.linspace(start,end,npts)\n",
    "        self.Vx = V(self.x)\n",
    "        self.H = (-0.5/m)*self.laplacian() + np.diag(self.Vx)\n",
    "        return\n",
    "    \n",
    "    def plot(self,*args,**kwargs):\n",
    "        titlestring = kwargs.get('titlestring',\"Eigenfunctions of the 1d Potential\")\n",
    "        xstring = kwargs.get('xstring',\"Displacement (bohr)\")\n",
    "        ystring = kwargs.get('ystring',\"Energy (hartree)\")\n",
    "        if not args:\n",
    "            args = [3]\n",
    "        x = self.x\n",
    "        E,U = np.linalg.eigh(self.H)\n",
    "        h = x[1]-x[0]\n",
    "\n",
    "        # Plot the Potential\n",
    "        plt.figure(figsize=(8,8))\n",
    "        plt.plot(x,self.Vx,color='k')\n",
    "\n",
    "        for i in range(*args):\n",
    "            # For each of the first few solutions, plot the energy level:\n",
    "            plt.axhline(y=E[i],color='k',ls=\":\")\n",
    "            # as well as the eigenfunction, displaced by the energy level so they don't\n",
    "            # all pile up on each other:\n",
    "            plt.plot(x,U[:,i]/np.sqrt(h)+E[i])\n",
    "        plt.title(titlestring)\n",
    "        plt.xlabel(xstring)\n",
    "        plt.ylabel(ystring)\n",
    "        plt.plot()\n",
    "        return\n",
    "        \n",
    "    def laplacian(self):\n",
    "        x = self.x\n",
    "        h = x[1]-x[0] # assume uniformly spaced points\n",
    "        n = len(x)\n",
    "        M = -2*np.identity(n,'d')\n",
    "        for i in range(1,n):\n",
    "            M[i,i-1] = M[i-1,i] = 1\n",
    "        return M/h**2"
   ]
  },
  {
   "cell_type": "markdown",
   "metadata": {},
   "source": [
    "The **__init__()** function specifies what operations go on when the object is created. The **self** argument is the object itself, and we don't pass it in. The only required argument is the function that defines the QM potential. We can also specify additional arguments that define the numerical grid that we're going to use for the calculation.\n",
    "\n",
    "For example, to do an infinite square well potential, we have a function that is 0 everywhere. We don't have to specify the barriers, since we'll only define the potential in the well, which means that it can't be defined anywhere else."
   ]
  },
  {
   "cell_type": "code",
   "execution_count": null,
   "metadata": {
    "jupyter": {
     "outputs_hidden": false
    }
   },
   "outputs": [],
   "source": [
    "square_well = Schrod1d(lambda x: 0*x,m=10)\n",
    "square_well.plot(4,titlestring=\"Square Well Potential\")"
   ]
  },
  {
   "cell_type": "markdown",
   "metadata": {},
   "source": [
    "We can similarly redefine the Harmonic Oscillator potential."
   ]
  },
  {
   "cell_type": "code",
   "execution_count": null,
   "metadata": {
    "jupyter": {
     "outputs_hidden": false
    }
   },
   "outputs": [],
   "source": [
    "ho = Schrod1d(lambda x: x**2,start=-3,end=3)\n",
    "ho.plot(6,titlestring=\"Harmonic Oscillator\")"
   ]
  },
  {
   "cell_type": "markdown",
   "metadata": {},
   "source": [
    "Let's define a finite well potential:"
   ]
  },
  {
   "cell_type": "code",
   "execution_count": null,
   "metadata": {
    "jupyter": {
     "outputs_hidden": false
    }
   },
   "outputs": [],
   "source": [
    "def finite_well(x,V_left=1,V_well=0,V_right=1,d_left=10,d_well=10,d_right=10):\n",
    "    V = np.zeros(x.size,'d')\n",
    "    for i in range(x.size):\n",
    "        if x[i] < d_left: \n",
    "            V[i] = V_left\n",
    "        elif x[i] > (d_left+d_well):\n",
    "            V[i] = V_right\n",
    "        else:\n",
    "            V[i] = V_well\n",
    "    return V\n",
    "        \n",
    "fw = Schrod1d(finite_well,start=0,end=30,npts=100)\n",
    "fw.plot()"
   ]
  },
  {
   "cell_type": "markdown",
   "metadata": {},
   "source": [
    "A triangular well:"
   ]
  },
  {
   "cell_type": "code",
   "execution_count": null,
   "metadata": {
    "jupyter": {
     "outputs_hidden": false
    }
   },
   "outputs": [],
   "source": [
    "def triangular(x,F=30): return F*x\n",
    "\n",
    "tw = Schrod1d(triangular,m=10)\n",
    "tw.plot()"
   ]
  },
  {
   "cell_type": "markdown",
   "metadata": {},
   "source": [
    "Or we can combine the two, making something like a semiconductor quantum well with a top gate:"
   ]
  },
  {
   "cell_type": "code",
   "execution_count": null,
   "metadata": {
    "jupyter": {
     "outputs_hidden": false
    }
   },
   "outputs": [],
   "source": [
    "def tri_finite(x): return finite_well(x)+triangular(x,F=0.025)\n",
    "\n",
    "tfw = Schrod1d(tri_finite,start=0,end=30,npts=100)\n",
    "tfw.plot()"
   ]
  },
  {
   "cell_type": "markdown",
   "metadata": {},
   "source": [
    "There's a lot of philosophy behind object oriented programming. Since I'm trying to focus on just the basics here, I won't go into them, but the internet is full of lots of resources on OO programming and theory. The best of this is contained in the [Design Patterns](http://en.wikipedia.org/wiki/Design_Patterns_(book)) book, which I highly recommend."
   ]
  }
 ],
 "metadata": {
  "kernelspec": {
   "display_name": "Python 3",
   "language": "python",
   "name": "python3"
  },
  "language_info": {
   "codemirror_mode": {
    "name": "ipython",
    "version": 3
   },
   "file_extension": ".py",
   "mimetype": "text/x-python",
   "name": "python",
   "nbconvert_exporter": "python",
   "pygments_lexer": "ipython3",
   "version": "3.8.5"
  }
 },
 "nbformat": 4,
 "nbformat_minor": 4
}
