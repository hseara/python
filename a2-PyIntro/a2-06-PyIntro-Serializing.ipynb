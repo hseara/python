{
 "cells": [
  {
   "cell_type": "markdown",
   "metadata": {},
   "source": [
    "# Serialization: Save it for later\n",
    "*Serialization* refers to the process of outputting data (and occasionally functions) to a database or a regular file, for the purpose of using it later on. In the very early days of programming languages, this was normally done in regular text files. Python is excellent at text processing, and you probably already know enough to get started with this.\n",
    "\n",
    "When accessing large amounts of data became important, people developed database software based around the Structured Query Language (SQL) standard. I'm not going to cover SQL here, but, if you're interested, I recommend using the [sqlite3](http://docs.python.org/2/library/sqlite3.html) module in the Python standard library.\n",
    "\n",
    "As data interchange became important, the eXtensible Markup Language (XML) has emerged. XML makes data formats that are easy to write parsers for, greatly simplifying the ambiguity that sometimes arises in the process. Again, I'm not going to cover XML here, but if you're interested in learning more, look into [Element Trees](http://docs.python.org/2/library/xml.etree.elementtree.html), now part of the Python standard library."
   ]
  },
  {
   "cell_type": "markdown",
   "metadata": {},
   "source": [
    "## pickle — Python object serialization\n",
    "\n",
    "Python has a very general serialization format called **pickle** that can turn any Python object, even a function or a class, into a representation that can be written to a file and read in later. The pickle module implements binary protocols for serializing and de-serializing a Python object structure. "
   ]
  },
  {
   "cell_type": "markdown",
   "metadata": {},
   "source": [
    "“Pickling” is the process whereby a Python object hierarchy is converted into a byte stream, and “unpickling” is the inverse operation, whereby a byte stream (from a binary file or bytes-like object) is converted back into an object hierarchy. Pickling (and unpickling) is alternatively known as “serialization”, “marshalling,” 1 or “flattening”; however, to avoid confusion, the terms used here are “pickling” and “unpickling”."
   ]
  },
  {
   "cell_type": "markdown",
   "metadata": {},
   "source": [
    "Let's save a dictionary into a pickle file."
   ]
  },
  {
   "cell_type": "code",
   "execution_count": null,
   "metadata": {},
   "outputs": [],
   "source": [
    "# Save a dictionary into a pickle file.\n",
    "import pickle\n",
    "favorite_color = { \"lion\": \"yellow\", \"kitty\": \"red\" }\n",
    "pickle.dump( favorite_color, open( \"favorite_color.p\", \"wb\" ) )"
   ]
  },
  {
   "cell_type": "code",
   "execution_count": null,
   "metadata": {},
   "outputs": [],
   "source": [
    "# Load the dictionary back from the pickle file.\n",
    "import pickle\n",
    "del favorite_color # This command deletes the variable brom memory.\n",
    "favorite_color = pickle.load( open( \"favorite_color.p\", \"rb\" ) )\n",
    "print(favorite_color)"
   ]
  },
  {
   "cell_type": "markdown",
   "metadata": {},
   "source": [
    "Be aware that not all the objects can be always pickled, but most. To learn more about `pickle` check its [documentation](https://docs.python.org/3/library/pickle.html).\n"
   ]
  },
  {
   "cell_type": "markdown",
   "metadata": {},
   "source": [
    "### Isues with pickle"
   ]
  },
  {
   "cell_type": "markdown",
   "metadata": {},
   "source": [
    "<div class=\"alert alert-danger\"> The pickle module is not secure. Only unpickle data you trust."
   ]
  },
  {
   "cell_type": "markdown",
   "metadata": {},
   "source": [
    "It is possible to construct malicious pickle data which will execute arbitrary code during unpickling. Never unpickle data that could have come from an untrusted source, or that could have been tampered with.\n",
    "\n",
    "Consider signing data with [hmac](https://docs.python.org/3/library/hmac.html#module-hmac) if you need to ensure that it has not been tampered with.\n",
    "\n",
    "Safer serialization formats such as [json](https://docs.python.org/3/library/json.html#module-json) may be more appropriate if you are processing untrusted data. [See Comparison with json](https://docs.python.org/3/library/pickle.html#comparison-with-json)."
   ]
  },
  {
   "cell_type": "markdown",
   "metadata": {},
   "source": [
    "## Other serialization methods:"
   ]
  },
  {
   "cell_type": "markdown",
   "metadata": {},
   "source": [
    "### JSON"
   ]
  },
  {
   "cell_type": "markdown",
   "metadata": {},
   "source": [
    "The format [JavaScript Object Notation](http://json.org/) (JSON) that has become very popular over the past few years. [There's a module in the standard library](http://docs.python.org/3/library/json.html) for encoding and decoding JSON formats. The reason I like JSON so much is that it looks almost like Python, so that, unlike the other options, you can look at your data and edit it, use it in another program, etc.\n",
    "\n",
    "Here's a little example:"
   ]
  },
  {
   "cell_type": "code",
   "execution_count": null,
   "metadata": {
    "collapsed": false,
    "jupyter": {
     "outputs_hidden": false
    }
   },
   "outputs": [],
   "source": [
    "# Data in a json format:\n",
    "json_document = \"\"\"\\\n",
    "{\n",
    "    \"a\": [1,2,3],\n",
    "    \"b\": [4,5,6],\n",
    "    \"greeting\" : \"Hello\"\n",
    "}\"\"\"\n",
    "import json\n",
    "json.loads(json_document)"
   ]
  },
  {
   "cell_type": "markdown",
   "metadata": {},
   "source": [
    "Your data sits in something that looks like a Python dictionary, and in a single line of code, you can load it into a Python dictionary for use later.\n",
    "\n",
    "In the same way, you can, with a single line of code, put a bunch of variables into a dictionary, and then output to a file using json:"
   ]
  },
  {
   "cell_type": "code",
   "execution_count": null,
   "metadata": {
    "collapsed": false,
    "jupyter": {
     "outputs_hidden": false
    }
   },
   "outputs": [],
   "source": [
    "json.dumps({\"a\":[1,2,3],\"b\":[9,10,11],\"greeting\":\"Hola\"})"
   ]
  },
  {
   "cell_type": "markdown",
   "metadata": {},
   "source": [
    "### YAML"
   ]
  },
  {
   "cell_type": "markdown",
   "metadata": {},
   "source": [
    "YAML is a is a human-readable data-serialization language. JSON syntax is a basis of YAML version. YAML is in fact a superset of JSON that aims to maintain compatibility with JSON. Most JSON documents can be parsed with a YAML parser. This is because JSON's semantic structure is equivalent to the optional \"inline-style\" of writing YAML. While extended hierarchies can be written in inline-style like JSON, this is not a recommended YAML style except when it aids clarity.\n",
    "\n",
    "YAML has many additional features lacking in JSON, including comments, extensible data types, relational anchors, strings without quotation marks, and mapping types preserving key order."
   ]
  },
  {
   "cell_type": "markdown",
   "metadata": {},
   "source": [
    "<div class=\"alert alert-danger\"> If I have to choose between YAML and JSON, YAML is the one to go"
   ]
  },
  {
   "cell_type": "markdown",
   "metadata": {},
   "source": [
    "YAML is not included as a standard python library. Therefore, we will need to install a package to use it.\n",
    "```\n",
    "conda install pyyaml\n",
    "```"
   ]
  },
  {
   "cell_type": "code",
   "execution_count": null,
   "metadata": {},
   "outputs": [],
   "source": [
    "yaml_document = \"\"\"\n",
    "  a: 1\n",
    "  b:\n",
    "    c: 3\n",
    "    d: 4\n",
    "\"\"\"\n",
    "import yaml\n",
    "yaml.load(yaml_document, Loader=yaml.FullLoader)"
   ]
  },
  {
   "cell_type": "code",
   "execution_count": null,
   "metadata": {},
   "outputs": [],
   "source": [
    "yaml_document = \"\"\"\n",
    "  a: 1\n",
    "  b:\n",
    "    c: 3\n",
    "    d: 4\n",
    "\"\"\"\n",
    "import yaml\n",
    "yaml.dump(yaml.load(yaml_document, Loader=yaml.FullLoader))"
   ]
  },
  {
   "cell_type": "markdown",
   "metadata": {},
   "source": [
    "For more information about [yaml check.](https://pyyaml.org/wiki/PyYAMLDocumentation#loading-yaml)"
   ]
  },
  {
   "cell_type": "markdown",
   "metadata": {},
   "source": [
    "### XML"
   ]
  },
  {
   "cell_type": "markdown",
   "metadata": {},
   "source": [
    "This section is a summary of the following [tutorial](https://www.tutorialspoint.com/python/python_xml_processing.htm)"
   ]
  },
  {
   "cell_type": "markdown",
   "metadata": {},
   "source": [
    "XML is a portable, open source language that allows programmers to develop applications that can be read by other applications, regardless of operating system and/or developmental language."
   ]
  },
  {
   "cell_type": "markdown",
   "metadata": {},
   "source": [
    "The Extensible Markup Language (XML) is a markup language much like HTML or SGML. This is recommended by the World Wide Web Consortium and available as an open standard.\n",
    "\n",
    "mXML is extremely useful for keeping track of small to medium amounts of data without requiring a SQL-based backbone."
   ]
  },
  {
   "cell_type": "markdown",
   "metadata": {},
   "source": [
    "For the XML code examples, we will use a simple XML file movies.xml as an input:"
   ]
  },
  {
   "cell_type": "markdown",
   "metadata": {},
   "source": [
    "#### Parsing XML with SAX APIs\n",
    "\n",
    "SAX is a standard interface for event-driven XML parsing. Parsing XML with SAX generally requires you to create your own ContentHandler by subclassing xml.sax.ContentHandler.\n",
    "\n",
    "Your ContentHandler handles the particular tags and attributes of your flavor(s) of XML. A ContentHandler object provides methods to handle various parsing events. Its owning parser calls ContentHandler methods as it parses the XML file."
   ]
  },
  {
   "cell_type": "code",
   "execution_count": null,
   "metadata": {},
   "outputs": [],
   "source": [
    "import xml.sax\n",
    "\n",
    "class MovieHandler( xml.sax.ContentHandler ):\n",
    "    def __init__(self):\n",
    "        self.CurrentData = \"\"\n",
    "        self.type = \"\"\n",
    "        self.format = \"\"\n",
    "        self.year = \"\"\n",
    "        self.rating = \"\"\n",
    "        self.stars = \"\"\n",
    "        self.description = \"\"\n",
    "\n",
    "    # Call when an element starts\n",
    "    def startElement(self, tag, attributes):\n",
    "        self.CurrentData = tag\n",
    "        if tag == \"movie\":\n",
    "            print(\"*****Movie*****\")\n",
    "            title = attributes[\"title\"]\n",
    "            print(\"Title:\", title)\n",
    "\n",
    "    # Call when an elements ends\n",
    "    def endElement(self, tag):\n",
    "        if self.CurrentData == \"type\":\n",
    "            print(\"Type:\", self.type)\n",
    "        elif self.CurrentData == \"format\":\n",
    "            print(\"Format:\", self.format)\n",
    "        elif self.CurrentData == \"year\":\n",
    "            print(\"Year:\", self.year)\n",
    "        elif self.CurrentData == \"rating\":\n",
    "            print(\"Rating:\", self.rating)\n",
    "        elif self.CurrentData == \"stars\":\n",
    "            print(\"Stars:\", self.stars)\n",
    "        elif self.CurrentData == \"description\":\n",
    "             print(\"Description:\", self.description)\n",
    "        self.CurrentData = \"\"\n",
    "\n",
    "    # Call when a character is read\n",
    "    def characters(self, content):\n",
    "        if self.CurrentData == \"type\":\n",
    "            self.type = content\n",
    "        elif self.CurrentData == \"format\":\n",
    "             self.format = content\n",
    "        elif self.CurrentData == \"year\":\n",
    "            self.year = content\n",
    "        elif self.CurrentData == \"rating\":\n",
    "            self.rating = content\n",
    "        elif self.CurrentData == \"stars\":\n",
    "            self.stars = content\n",
    "        elif self.CurrentData == \"description\":\n",
    "            self.description = content"
   ]
  },
  {
   "cell_type": "code",
   "execution_count": null,
   "metadata": {},
   "outputs": [],
   "source": [
    "# create an XMLReader\n",
    "parser = xml.sax.make_parser()\n",
    "# turn off namepsaces\n",
    "parser.setFeature(xml.sax.handler.feature_namespaces, 0)\n",
    "\n",
    "# override the default ContextHandler\n",
    "Handler = MovieHandler()\n",
    "parser.setContentHandler( Handler )\n",
    "   \n",
    "parser.parse(\"data/movies.xml\")"
   ]
  },
  {
   "cell_type": "markdown",
   "metadata": {},
   "source": [
    "For a complete detail on SAX API documentation, please refer to standard [Python SAX APIs](http://docs.python.org/library/xml.sax.html)"
   ]
  },
  {
   "cell_type": "markdown",
   "metadata": {},
   "source": [
    "#### Parsing XML with DOM APIs\n",
    "\n",
    "The Document Object Model (\"DOM\") is a cross-language API from the World Wide Web Consortium (W3C) for accessing and modifying XML documents.\n",
    "\n",
    "The DOM is extremely useful for random-access applications. SAX only allows you a view of one bit of the document at a time. If you are looking at one SAX element, you have no access to another.\n",
    "\n",
    "Here is the easiest way to quickly load an XML document and to create a minidom object using the xml.dom module. The minidom object provides a simple parser method that quickly creates a DOM tree from the XML file.\n",
    "\n",
    "The sample phrase calls the parse( `file [,parser]` ) function of the minidom object to parse the XML file designated by file into a DOM tree object.\n"
   ]
  },
  {
   "cell_type": "code",
   "execution_count": null,
   "metadata": {},
   "outputs": [],
   "source": [
    "from xml.dom.minidom import parse\n",
    "import xml.dom.minidom\n",
    "\n",
    "# Open XML document using minidom parser\n",
    "DOMTree = xml.dom.minidom.parse(\"data/movies.xml\")\n",
    "collection = DOMTree.documentElement\n",
    "if collection.hasAttribute(\"shelf\"):\n",
    "    print(\"Root element : %s\" % collection.getAttribute(\"shelf\"))\n",
    "\n",
    "# Get all the movies in the collection\n",
    "movies = collection.getElementsByTagName(\"movie\")\n",
    "\n",
    "# Print detail of each movie.\n",
    "for movie in movies:\n",
    "    print(\"*****Movie*****\")\n",
    "    if movie.hasAttribute(\"title\"):\n",
    "          print(f\"Title: {movie.getAttribute('title')}\")\n",
    "\n",
    "    type = movie.getElementsByTagName('type')[0]\n",
    "    print(f\"Type: {type.childNodes[0].data}\")\n",
    "    format = movie.getElementsByTagName('format')[0]\n",
    "    print(f\"Format: {format.childNodes[0].data}\")\n",
    "    rating = movie.getElementsByTagName('rating')[0]\n",
    "    print(f\"Rating: {rating.childNodes[0].data}\")\n",
    "    description = movie.getElementsByTagName('description')[0]\n",
    "    print(f\"Description: {description.childNodes[0].data}\")"
   ]
  },
  {
   "cell_type": "markdown",
   "metadata": {},
   "source": [
    "For a complete detail on DOM API documentation, please refer to standard [Python DOM APIs](http://docs.python.org/library/xml.dom.html)"
   ]
  },
  {
   "cell_type": "code",
   "execution_count": null,
   "metadata": {},
   "outputs": [],
   "source": []
  }
 ],
 "metadata": {
  "kernelspec": {
   "display_name": "Python 3",
   "language": "python",
   "name": "python3"
  },
  "language_info": {
   "codemirror_mode": {
    "name": "ipython",
    "version": 3
   },
   "file_extension": ".py",
   "mimetype": "text/x-python",
   "name": "python",
   "nbconvert_exporter": "python",
   "pygments_lexer": "ipython3",
   "version": "3.8.5"
  }
 },
 "nbformat": 4,
 "nbformat_minor": 4
}
