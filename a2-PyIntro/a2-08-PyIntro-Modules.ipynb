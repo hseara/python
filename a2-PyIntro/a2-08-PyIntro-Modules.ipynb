{
 "cells": [
  {
   "cell_type": "markdown",
   "metadata": {
    "slideshow": {
     "slide_type": "slide"
    }
   },
   "source": [
    "# Python - Modules\n",
    "\n",
    "Adapted from [tutorialspoint.com](https://www.tutorialspoint.com/python/python_modules.htm)"
   ]
  },
  {
   "cell_type": "markdown",
   "metadata": {},
   "source": [
    "A module allows you to logically organize your Python code. Grouping related code into a module makes the code easier to understand and use. A module is a Python object with arbitrarily named attributes that you can bind and reference.\n",
    "\n",
    "Simply, a module is a file consisting of Python code. A module can define functions, classes and variables. A module can also include runnable code."
   ]
  },
  {
   "cell_type": "markdown",
   "metadata": {},
   "source": [
    "Example\n",
    "\n",
    "The Python code for a module named aname normally resides in a file named aname.py. Here's an example of a simple module, support.py\n",
    "\n",
    "```python\n",
    "def print_func( par ):\n",
    "    print \"Hello : \", par\n",
    "    return\n",
    "```"
   ]
  },
  {
   "cell_type": "markdown",
   "metadata": {
    "slideshow": {
     "slide_type": "slide"
    }
   },
   "source": [
    "## The `import` Statement\n",
    "\n",
    "You can use any Python source file as a module by executing an import statement in some other Python source file. The import has the following syntax:\n",
    "```python\n",
    "import module1[, module2[,... moduleN]\n",
    "```\n",
    "When the interpreter encounters an import statement, it imports the module if the module is present in the search path. A search path is a list of directories that the interpreter searches before importing a module. For example, to import the module `support.py`, you need to put the following command at the top of the script:"
   ]
  },
  {
   "cell_type": "code",
   "execution_count": null,
   "metadata": {},
   "outputs": [],
   "source": [
    "# Import module support\n",
    "import support\n",
    "\n",
    "# Now you can call defined function that module as follows\n",
    "support.print_func(\"Zara\")\n",
    "support.ai"
   ]
  },
  {
   "cell_type": "markdown",
   "metadata": {},
   "source": [
    "When the above code is executed, it produces the following result:\n",
    "```\n",
    "Hello : Zara\n",
    "```"
   ]
  },
  {
   "cell_type": "markdown",
   "metadata": {
    "slideshow": {
     "slide_type": "slide"
    }
   },
   "source": [
    "<div class=\"alert alert-danger\"> A module is loaded only once, regardless of the number of times it is imported. This prevents the module execution from happening over and over again if multiple imports occur."
   ]
  },
  {
   "cell_type": "markdown",
   "metadata": {
    "slideshow": {
     "slide_type": "slide"
    }
   },
   "source": [
    "## The `from...import` Statement"
   ]
  },
  {
   "cell_type": "markdown",
   "metadata": {},
   "source": [
    "Python's from statement lets you import specific attributes from a module into the current namespace. The from...import has the following syntax:\n",
    "\n",
    "```python\n",
    "from modname import name1[, name2[, ... nameN]]\n",
    "```\n",
    "For example, to import the function fibonacci from the module fib, use the following statement −\n",
    "```python\n",
    "from fib import fibonacci\n",
    "```\n",
    "This statement does not import the entire module fib into the current namespace; it just introduces the item fibonacci from the module fib into the global symbol table of the importing module."
   ]
  },
  {
   "cell_type": "markdown",
   "metadata": {
    "slideshow": {
     "slide_type": "slide"
    }
   },
   "source": [
    "## The from...import * Statement\n",
    "\n",
    "It is also possible to import all names from a module into the current namespace by using the following import statement −\n",
    "\n",
    "```python\n",
    "from modname import *\n",
    "```\n",
    "\n",
    "This provides an easy way to import all the items from a module into the current namespace; however, this statement should be used sparingly."
   ]
  },
  {
   "cell_type": "markdown",
   "metadata": {},
   "source": [
    "<div class=\"alert alert-danger\"> Please avoid using this formulation."
   ]
  },
  {
   "cell_type": "markdown",
   "metadata": {
    "slideshow": {
     "slide_type": "slide"
    }
   },
   "source": [
    "## Executing Modules as Scripts\n",
    "\n",
    "Within a module, the module’s name (as a string) is available as the value of the global variable `__name__`. The code in the module will be executed, just as if you imported it, but with the `__name__` set to `\"__main__\"`."
   ]
  },
  {
   "cell_type": "markdown",
   "metadata": {
    "slideshow": {
     "slide_type": "subslide"
    }
   },
   "source": [
    "The following code is present the file named fibonacci.py:\n",
    "\n",
    "```python\n",
    "#!/usr/bin/python3\n",
    "\n",
    "# Fibonacci numbers module\n",
    "\n",
    "def fib(n): # return Fibonacci series up to n\n",
    "    result = []\n",
    "    a, b = 0, 1\n",
    "    while b < n:\n",
    "        result.append(b)\n",
    "        a, b = b, a + b\n",
    "    return result\n",
    "if __name__ == \"__main__\":\n",
    "    f = fib(100)\n",
    "    print(f)\n",
    "```"
   ]
  },
  {
   "cell_type": "markdown",
   "metadata": {},
   "source": [
    "When you run the above code, the following output will be displayed.\n",
    "```python\n",
    "[1, 1, 2, 3, 5, 8, 13, 21, 34, 55, 89]\n",
    "```"
   ]
  },
  {
   "cell_type": "markdown",
   "metadata": {
    "slideshow": {
     "slide_type": "subslide"
    }
   },
   "source": [
    "It can be run as a module:"
   ]
  },
  {
   "cell_type": "code",
   "execution_count": null,
   "metadata": {},
   "outputs": [],
   "source": [
    "import fibonacci\n",
    "fibonacci.fib(100)"
   ]
  },
  {
   "cell_type": "markdown",
   "metadata": {
    "slideshow": {
     "slide_type": "subslide"
    }
   },
   "source": [
    "Or directly in the terminal:\n",
    "- Open a new teminal\n",
    "- Go to the a2-PyIntro folder: `cd a2-PyIntro`\n",
    "- Execute the script: `python fibonacci.py`\n",
    "\n",
    "You should obtain exactly the same result."
   ]
  },
  {
   "cell_type": "markdown",
   "metadata": {
    "slideshow": {
     "slide_type": "slide"
    }
   },
   "source": [
    "## Locating Modules\n",
    "\n",
    "When you import a module, the Python interpreter searches for the module in the following sequences:\n",
    "\n",
    "- The current directory.\n",
    "- If the module is not found, Python then searches each directory in the shell variable `PYTHONPATH`.\n",
    "- If all else fails, Python checks the default path. On UNIX, this default path is normally `/usr/lib/python3.8/`.\n",
    "\n",
    "The module search path is stored in the system module `sys` as the `sys.path` variable. The `sys.path` variable contains the current directory, `PYTHONPATH`, and the installation-dependent default."
   ]
  },
  {
   "cell_type": "markdown",
   "metadata": {
    "slideshow": {
     "slide_type": "subslide"
    }
   },
   "source": [
    "To find out all searchable paths do:"
   ]
  },
  {
   "cell_type": "code",
   "execution_count": null,
   "metadata": {},
   "outputs": [],
   "source": [
    "sys.path"
   ]
  },
  {
   "cell_type": "markdown",
   "metadata": {},
   "source": [
    "<div class=\"alert alert-info\"> Please note that the order matters!!"
   ]
  },
  {
   "cell_type": "markdown",
   "metadata": {
    "slideshow": {
     "slide_type": "slide"
    }
   },
   "source": [
    "## The `PYTHONPATH` Variable\n",
    "\n",
    "The `PYTHONPATH` is an environment variable, consisting of a list of directories. The syntax of `PYTHONPATH` is the same as that of the shell variable PATH.\n",
    "\n",
    "Here is a typical `PYTHONPATH` from a Windows system:\n",
    "```bash\n",
    "set PYTHONPATH = c:\\python38\\lib;\n",
    "```\n",
    "And here is a typical PYTHONPATH from a UNIX/MacOS system:\n",
    "\n",
    "```bash\n",
    "set PYTHONPATH = /usr/lib/python38/\n",
    "```"
   ]
  },
  {
   "cell_type": "markdown",
   "metadata": {
    "slideshow": {
     "slide_type": "subslide"
    }
   },
   "source": [
    "To check python paths by the environmental variable `PYTHONPATH` execute:"
   ]
  },
  {
   "cell_type": "code",
   "execution_count": null,
   "metadata": {},
   "outputs": [],
   "source": [
    "import os\n",
    "try:\n",
    "    user_paths = os.environ['PYTHONPATH'].split(os.pathsep)\n",
    "except KeyError:\n",
    "    user_paths = []\n",
    "    \n",
    "print(user_paths)"
   ]
  },
  {
   "cell_type": "markdown",
   "metadata": {
    "slideshow": {
     "slide_type": "slide"
    }
   },
   "source": [
    "## Namespaces and Scoping\n",
    "\n",
    "Variables are names (identifiers) that map to objects. A namespace is a dictionary of variable names (keys) and their corresponding objects (values).\n",
    "\n",
    "- A Python statement can access variables in a local namespace and in the global namespace. If a local and a global variable have the same name, the local variable shadows the global variable.\n",
    "\n",
    "- Each function has its own local namespace. Class methods follow the same scoping rule as ordinary functions.\n",
    "\n",
    "- Python makes educated guesses on whether variables are local or global. It assumes that any variable assigned a value in a function is local.\n",
    "\n",
    "- Therefore, in order to assign a value to a global variable within a function, you must first use the global statement.\n",
    "\n",
    "- The statement `global VarName` tells Python that VarName is a global variable. Python stops searching the local namespace for the variable."
   ]
  },
  {
   "cell_type": "markdown",
   "metadata": {
    "slideshow": {
     "slide_type": "subslide"
    }
   },
   "source": [
    "For example, we define a variable `Money` in the global namespace. Within the function `Money`, we assign `Money` a value, therefore Python assumes `Money` as a local variable."
   ]
  },
  {
   "cell_type": "code",
   "execution_count": null,
   "metadata": {},
   "outputs": [],
   "source": [
    "Money = 2000\n",
    "def AddMoney():\n",
    "    # Uncomment the following line to fix the code:\n",
    "    #global Money\n",
    "    Money = Money+1\n",
    "\n",
    "print(Money)\n",
    "AddMoney()\n",
    "print(Money)"
   ]
  },
  {
   "cell_type": "markdown",
   "metadata": {},
   "source": [
    "However, we accessed the value of the local variable `Money` before setting it, so an `UnboundLocalError` is the result. Uncommenting the global statement fixes the problem."
   ]
  },
  {
   "cell_type": "markdown",
   "metadata": {
    "slideshow": {
     "slide_type": "slide"
    }
   },
   "source": [
    "## The `dir()` Function\n",
    "\n",
    "The `dir()` built-in function returns a sorted list of strings containing the names defined by a module.\n",
    "\n",
    "The list contains the names of all the modules, variables and functions that are defined in a module. Following is a simple example:"
   ]
  },
  {
   "cell_type": "code",
   "execution_count": null,
   "metadata": {},
   "outputs": [],
   "source": [
    "# Import built-in module math\n",
    "import math\n",
    "\n",
    "content = dir(math)\n",
    "print (content)"
   ]
  },
  {
   "cell_type": "markdown",
   "metadata": {},
   "source": [
    "Here, the special string variable `__name__` is the module's name, and `__file__` is the filename from which the module was loaded."
   ]
  },
  {
   "cell_type": "markdown",
   "metadata": {
    "slideshow": {
     "slide_type": "slide"
    }
   },
   "source": [
    "## The `globals()` and `locals()` Functions\n",
    "\n",
    "The `globals()` and `locals()` functions can be used to return the names in the global and local namespaces depending on the location from where they are called.\n",
    "\n",
    "- If `locals()` is called from within a function, it will return all the names that can be accessed locally from that function.\n",
    "- If `globals()` is called from within a function, it will return all the names that can be accessed globally from that function.\n",
    "\n",
    "The return type of both these functions is dictionary. Therefore, names can be extracted using the `keys()` function."
   ]
  },
  {
   "cell_type": "code",
   "execution_count": null,
   "metadata": {
    "slideshow": {
     "slide_type": "subslide"
    }
   },
   "outputs": [],
   "source": [
    "# Example locals() inside a function\n",
    "def test():\n",
    "    a=1\n",
    "    print(locals().keys())\n",
    "    \n",
    "test()"
   ]
  },
  {
   "cell_type": "code",
   "execution_count": null,
   "metadata": {
    "slideshow": {
     "slide_type": "subslide"
    }
   },
   "outputs": [],
   "source": [
    "# Example globals() inside a function\n",
    "# Restart the kernel before executing this function to minimize the output.\n",
    "def test():\n",
    "    a=1\n",
    "    print(globals().keys())\n",
    "test()\n"
   ]
  },
  {
   "cell_type": "markdown",
   "metadata": {
    "slideshow": {
     "slide_type": "slide"
    }
   },
   "source": [
    "## Reloading a module: The `reload()` Function\n",
    "\n",
    "When a module is imported into a script, the code in the top-level portion of a module is executed only once.\n",
    "\n",
    "Therefore, if you want to reexecute the top-level code in a module, you can use the `reload()` function. The `reload()` function imports a previously imported module again. The syntax of the `reload()` function is this:\n",
    "\n",
    "```python\n",
    "reload(module_name)\n",
    "```\n",
    "\n",
    "Here, `module_name` is the name of the module you want to reload and not the string containing the module name. For example, to reload the fibonacci module, do the following:"
   ]
  },
  {
   "cell_type": "code",
   "execution_count": null,
   "metadata": {},
   "outputs": [],
   "source": [
    "from importlib import reload\n",
    "\n",
    "import fibonacci\n",
    "\n",
    "# Let's reload the fibonacci module \n",
    "reload(fibonacci)\n",
    "fibonacci.fib(10)"
   ]
  },
  {
   "cell_type": "markdown",
   "metadata": {
    "slideshow": {
     "slide_type": "slide"
    }
   },
   "source": [
    "## Packages in Python\n",
    "\n",
    "A package is a hierarchical file directory structure that defines a single Python application environment that consists of modules and subpackages and sub-subpackages, and so on.\n",
    "\n",
    "Consider a file house.py available in `realestate` directory. This file has the following line of source code:\n",
    "```python\n",
    "#!/usr/bin/python3\n",
    "\n",
    "def house():\n",
    "    print(\"I'm a house\") \n",
    "```\n",
    "\n",
    "Similar, we have other two files having different functions with the same name as above. They are:\n",
    "```\n",
    "realestate/flat.py #file having function flat()\n",
    "realestate/land.py #file having function land()\n",
    "```"
   ]
  },
  {
   "cell_type": "markdown",
   "metadata": {},
   "source": [
    "Now, create one more file __init__.py in the Phone directory −\n",
    "\n",
    "```\n",
    "property/__init__.py\n",
    "```\n",
    "\n",
    "To make all of your functions available when you have imported Phone, you need to put explicit import statements in `__init__.py` as follows:\n",
    "\n",
    "```python\n",
    "from realestate import house\n",
    "from realestate import flat\n",
    "from realestate import land\n",
    "```\n",
    "After you add these lines to `__init__.py`, you have all of these classes available when you import the realestate package."
   ]
  },
  {
   "cell_type": "code",
   "execution_count": null,
   "metadata": {
    "slideshow": {
     "slide_type": "subslide"
    }
   },
   "outputs": [],
   "source": [
    "# Now import our Property Package.\n",
    "import realestate\n",
    "\n",
    "realestate.house.house()\n",
    "realestate.flat.flat()\n",
    "realestate.land.land()"
   ]
  },
  {
   "cell_type": "code",
   "execution_count": null,
   "metadata": {},
   "outputs": [],
   "source": [
    "[(nx,x) for nx,x in enumerate([2,1]) ]"
   ]
  },
  {
   "cell_type": "markdown",
   "metadata": {},
   "source": [
    "In the above example, we have taken example of a single function in each file, but you can keep multiple functions in your files. You can also define different Python classes in those files and then you can create your packages out of those classes."
   ]
  }
 ],
 "metadata": {
  "kernelspec": {
   "display_name": "Python 3",
   "language": "python",
   "name": "python3"
  },
  "language_info": {
   "codemirror_mode": {
    "name": "ipython",
    "version": 3
   },
   "file_extension": ".py",
   "mimetype": "text/x-python",
   "name": "python",
   "nbconvert_exporter": "python",
   "pygments_lexer": "ipython3",
   "version": "3.9.6"
  }
 },
 "nbformat": 4,
 "nbformat_minor": 4
}
