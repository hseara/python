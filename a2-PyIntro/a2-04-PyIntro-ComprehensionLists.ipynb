{
 "cells": [
  {
   "cell_type": "markdown",
   "metadata": {
    "slideshow": {
     "slide_type": "slide"
    }
   },
   "source": [
    "# List Comprehensions and Generators"
   ]
  },
  {
   "cell_type": "markdown",
   "metadata": {},
   "source": [
    "Credits:\n",
    "- https://towardsdatascience.com/python-basics-list-comprehensions-631278f22c40"
   ]
  },
  {
   "cell_type": "markdown",
   "metadata": {},
   "source": [
    "## List Comprehensions"
   ]
  },
  {
   "cell_type": "markdown",
   "metadata": {},
   "source": [
    "### What are List Comprehensions?\n",
    "\n",
    "List comprehensions provide us with a simple way to create a list based on some iterable. During the creation, elements from the iterable can be conditionally included in the new list and transformed as needed.\n",
    "\n",
    "An iterable is something you can loop over. If you want a more detailed explanation you can read this [blog post](https://towardsdatascience.com/python-basics-iteration-and-looping-6ca63b30835c)."
   ]
  },
  {
   "attachments": {
    "1a3db0f2-7e24-4ba5-93d7-cbeb4e79f5ea.png": {
     "image/png": "[encoded data removed]"
    }
   },
   "cell_type": "markdown",
   "metadata": {
    "slideshow": {
     "slide_type": "subslide"
    }
   },
   "source": [
    "### Basic List Comprehension syntax\n",
    "The components of a list comprehension are:\n",
    "\n",
    "- Output Expression (Optional)\n",
    "- Iterable\n",
    "- Iterator variable which represents the members of the iterable\n",
    "    \n",
    "![image.png](attachment:1a3db0f2-7e24-4ba5-93d7-cbeb4e79f5ea.png)"
   ]
  },
  {
   "cell_type": "markdown",
   "metadata": {
    "slideshow": {
     "slide_type": "subslide"
    }
   },
   "source": [
    "Examples Basic List Comprehensions:"
   ]
  },
  {
   "cell_type": "code",
   "execution_count": null,
   "metadata": {
    "jupyter": {
     "outputs_hidden": false
    }
   },
   "outputs": [],
   "source": [
    "# Write even numbers\n",
    "evens1 = [2*i for i in range(10)]\n",
    "print(evens1)"
   ]
  },
  {
   "cell_type": "code",
   "execution_count": null,
   "metadata": {},
   "outputs": [],
   "source": [
    "# Find the squares of the numbers in a list\n",
    "numbers = [1, 2, 3, 4, 5]\n",
    "squares = [number**2 for number in numbers]\n",
    "print(squares)"
   ]
  },
  {
   "attachments": {
    "fea62490-c096-48b2-be6f-d09472bfe481.png": {
     "image/png": "[encoded data removed]"
    }
   },
   "cell_type": "markdown",
   "metadata": {},
   "source": [
    "### Boolean testing List Comprehension \n",
    "We can also create more advanced list comprehensions which include a conditional statement on the iterable.\n",
    "\n",
    "![image.png](attachment:fea62490-c096-48b2-be6f-d09472bfe481.png)"
   ]
  },
  {
   "cell_type": "markdown",
   "metadata": {
    "slideshow": {
     "slide_type": "subslide"
    }
   },
   "source": [
    "Example List Comprehensions with conditional clause:"
   ]
  },
  {
   "cell_type": "code",
   "execution_count": null,
   "metadata": {
    "jupyter": {
     "outputs_hidden": false
    }
   },
   "outputs": [],
   "source": [
    "# Output odd numbers\n",
    "odds = [i for i in range(20) if i%2==1]\n",
    "odds"
   ]
  },
  {
   "cell_type": "markdown",
   "metadata": {},
   "source": [
    "Here `i%2` is the remainder when i is divided by 2, so that `i%2==1` is `True` if the number is odd. Even though this is a relative new addition to the language, it is now fairly common since it's so convenient."
   ]
  },
  {
   "cell_type": "code",
   "execution_count": null,
   "metadata": {},
   "outputs": [],
   "source": [
    "# Find the square of the numbers bigger than two in a list \n",
    "numbers = [1, 2, 3, 4, 5]\n",
    "squares = [number**2 for number in numbers if number > 2]\n",
    "print(squares)"
   ]
  },
  {
   "cell_type": "markdown",
   "metadata": {},
   "source": [
    "### List Comprehensions vs loops\n",
    "\n",
    "The list comprehensions are more efficient both computationally and in terms of coding space and time than a for loop. Typically, they are written in a single line of code.\n",
    "\n",
    "Let’s see how much more space we’ll need to get the same result from the last example using a for loop."
   ]
  },
  {
   "cell_type": "code",
   "execution_count": null,
   "metadata": {},
   "outputs": [],
   "source": [
    "numbers = [1, 2, 3, 4, 5]\n",
    "squares = []\n",
    "for number in numbers:\n",
    "    if number > 2:\n",
    "        squares.append(number**2)\n",
    "print(squares)"
   ]
  },
  {
   "cell_type": "code",
   "execution_count": null,
   "metadata": {},
   "outputs": [],
   "source": [
    "numbers = [1, 2, 3, 4, 5]\n",
    "squares = [number**2 for number in numbers if number > 2]\n",
    "print(squares)"
   ]
  },
  {
   "cell_type": "code",
   "execution_count": null,
   "metadata": {
    "tags": []
   },
   "outputs": [],
   "source": [
    "numbers = [1, 2, 3, 4, 5]\n",
    "squares = []\n",
    "for number in numbers:\n",
    "    if not number > 2:\n",
    "        continue\n",
    "    squares.append(number**2)\n",
    "print(squares)"
   ]
  },
  {
   "cell_type": "markdown",
   "metadata": {},
   "source": [
    "We can clearly see that the list comprehension above was much easier to write. However, keep in mind that:\n",
    "\n",
    "<div class=\"alert alert-info\">  Every list comprehension can be rewritten as a for loop, but not every for loop can be rewritten as a list comprehension."
   ]
  },
  {
   "cell_type": "markdown",
   "metadata": {
    "slideshow": {
     "slide_type": "subslide"
    }
   },
   "source": [
    "What about the computational speed? We can use the timeit library to compare the speed of a for loop vs the speed of a list comprehension."
   ]
  },
  {
   "cell_type": "code",
   "execution_count": null,
   "metadata": {},
   "outputs": [],
   "source": [
    "%%timeit\n",
    "numbers = range(100)\n",
    "squares = []\n",
    "for number in numbers:\n",
    "    if number > 2:\n",
    "        squares.append(number**2)"
   ]
  },
  {
   "cell_type": "code",
   "execution_count": null,
   "metadata": {},
   "outputs": [],
   "source": [
    "%%timeit\n",
    "# Find the square of the numbers biguer than two in a list \n",
    "numbers = range(100)\n",
    "squares = [number**2 for number in numbers if number > 2]"
   ]
  },
  {
   "cell_type": "markdown",
   "metadata": {},
   "source": [
    "<div class=\"alert alert-info\">  List Comprehensions are usually faster too."
   ]
  },
  {
   "cell_type": "markdown",
   "metadata": {
    "slideshow": {
     "slide_type": "subslide"
    }
   },
   "source": [
    " We can also pass the number of executions using the number argument. We’ll set this argument to 1 million.Let's time them:"
   ]
  },
  {
   "cell_type": "code",
   "execution_count": null,
   "metadata": {},
   "outputs": [],
   "source": [
    "import timeit\n",
    "\n",
    "def squares(size):\n",
    "    result = []\n",
    "    for number in range(size):\n",
    "        result.append(number*number)\n",
    "    return result\n",
    "\n",
    "def squares_comprehension(size):\n",
    "    return [number*number for number in range(size)]\n",
    "\n",
    "print(timeit.timeit(\"squares(50)\", \"from __main__ import squares\", number = 1_000_000))\n",
    "print(timeit.timeit(\"squares_comprehension(50)\", \"from __main__ import squares_comprehension\", number = 1_000_000))"
   ]
  },
  {
   "cell_type": "markdown",
   "metadata": {},
   "source": [
    "Results may differ between machines. However, the list comprehension implementation will be faster in all cases."
   ]
  },
  {
   "cell_type": "markdown",
   "metadata": {
    "slideshow": {
     "slide_type": "slide"
    }
   },
   "source": [
    "### List Comprehensions vs map and filter\n",
    "\n",
    "List comprehensions are a concise notation borrowed from the functional programming language Haskell. We can think of them like a syntactic sugar for the filter and map functions."
   ]
  },
  {
   "cell_type": "markdown",
   "metadata": {
    "slideshow": {
     "slide_type": "subslide"
    }
   },
   "source": [
    "We have seen that list comprehensions can be a good alternative to for loops because they are more compact and faster.\n",
    "\n",
    "**Lambda Functions**\n",
    "\n",
    "Lambda functions are small anonymous functions. They can have any number of arguments but can have only one expression.\n",
    "\n",
    "Mostly, the lambda functions are passed as parameters to functions which expect a function object as one of their parameters like map and filter.\n",
    "\n",
    "**Map Function**\n",
    "\n",
    "The map function returns an iterator that applies a function to every item of iterable, yielding the results. Let’s compare it with a list comprehension."
   ]
  },
  {
   "cell_type": "code",
   "execution_count": null,
   "metadata": {},
   "outputs": [],
   "source": [
    "# Map\n",
    "numbers = [1, 2, 3, 4, 5]\n",
    "squares = list(map(lambda x: x**2, numbers))\n",
    "print(squares)\n",
    "\n",
    "# List Comprehension\n",
    "numbers = [1, 2, 3, 4, 5]\n",
    "squares = [(number**2,number**3) for number in numbers]\n",
    "print(squares)\n",
    "\n",
    "(x,y) = (2,4)"
   ]
  },
  {
   "cell_type": "markdown",
   "metadata": {
    "slideshow": {
     "slide_type": "subslide"
    }
   },
   "source": [
    "**Filter Function**\n",
    "\n",
    "The filter function constructs an iterator from elements of iterable for which the passed function returns true. Again, let’s compare the filter function versus the list comprehensions."
   ]
  },
  {
   "cell_type": "code",
   "execution_count": null,
   "metadata": {},
   "outputs": [],
   "source": [
    "# Filter\n",
    "numbers = [1, 2, 3, 4, 5]\n",
    "filtered = list(filter(lambda x: x % 2 == 0, numbers))\n",
    "print(filtered)\n",
    "\n",
    "# List Comprehension\n",
    "numbers = [1, 2, 3, 4, 5]\n",
    "filtered = [number for number in numbers if number % 2 == 0]\n",
    "print(filtered)"
   ]
  },
  {
   "attachments": {
    "2ee8793a-93ca-4b46-9e84-ec1efbb643bb.png": {
     "image/png": "[encoded data removed]"
    }
   },
   "cell_type": "markdown",
   "metadata": {
    "slideshow": {
     "slide_type": "slide"
    }
   },
   "source": [
    "### More Complex List Comprehensions\n",
    "\n",
    "Additionally, when we’re creating a list comprehension we can have many conditional statements on the iterable.\n",
    "![image.png](attachment:2ee8793a-93ca-4b46-9e84-ec1efbb643bb.png)"
   ]
  },
  {
   "cell_type": "code",
   "execution_count": null,
   "metadata": {},
   "outputs": [],
   "source": [
    "numbers = [1, 2, 3, 4, 5, 6, 18, 20]\n",
    "squares = [number for number in numbers if number % 2 == 0 if number % 3 == 0]\n",
    "print(squares)"
   ]
  },
  {
   "attachments": {
    "793cfb52-1ebe-4b54-830e-5475e587c18b.png": {
     "image/png": "[encoded data removed]"
    }
   },
   "cell_type": "markdown",
   "metadata": {
    "slideshow": {
     "slide_type": "slide"
    }
   },
   "source": [
    "### `if-else` clause in List Comprehensions\n",
    "\n",
    "![image.png](attachment:793cfb52-1ebe-4b54-830e-5475e587c18b.png)"
   ]
  },
  {
   "cell_type": "code",
   "execution_count": null,
   "metadata": {},
   "outputs": [],
   "source": [
    "numbers = [1, 2, 3, 4, 5, 6, 18, 20]\n",
    "squares = [\"small\" if number < 10 else \"big\" for number in numbers if number % 2 == 0 if number % 3 == 0]\n",
    "print(squares)"
   ]
  },
  {
   "cell_type": "markdown",
   "metadata": {},
   "source": [
    "We are using here the ternary operator for `if-else` statemet."
   ]
  },
  {
   "cell_type": "markdown",
   "metadata": {
    "slideshow": {
     "slide_type": "slide"
    }
   },
   "source": [
    "### Readability\n",
    "\n",
    "We can see that some list comprehensions can be very complex and it’s hard to read them. Python allows line breaks between brackets and braces. We can use this to make our complex comprehension more readable.\n",
    "\n",
    "For example, we can our last transform example to this:"
   ]
  },
  {
   "cell_type": "code",
   "execution_count": null,
   "metadata": {},
   "outputs": [],
   "source": [
    "numbers = [1, 2, 3, 4, 5, 6, 18, 20]\n",
    "squares = [\n",
    "    \"small\" if number < 10 else \"big\" \n",
    "    for number in numbers \n",
    "    if number % 2 == 0 \n",
    "    if number % 3 == 0]\n",
    "print(squares)"
   ]
  },
  {
   "cell_type": "markdown",
   "metadata": {
    "slideshow": {
     "slide_type": "slide"
    }
   },
   "source": [
    "### Nested For Loops\n",
    "\n",
    "In some cases, we need nested `for` loops to complete some task. In this cases, we can also use a list comprehension to achieve the same result.\n",
    "\n",
    "Imagine that we have a matrix and we want to flatten it. We can do this easily with two `for` loops like this:"
   ]
  },
  {
   "cell_type": "code",
   "execution_count": null,
   "metadata": {},
   "outputs": [],
   "source": [
    "matrix = [[1, 2, 3], [4, 5, 6], [7, 8, 9]]\n",
    "\n",
    "flattened = []\n",
    "for row in matrix:\n",
    "    for item in row:\n",
    "        flattened.append(item)\n",
    "        \n",
    "print(flattened)"
   ]
  },
  {
   "cell_type": "markdown",
   "metadata": {
    "slideshow": {
     "slide_type": "subslide"
    }
   },
   "source": [
    "We can achieve the same result using a list comprehension.\n",
    "*Tip: the order of the for clauses remain the same as in the original for loops.*"
   ]
  },
  {
   "cell_type": "code",
   "execution_count": null,
   "metadata": {},
   "outputs": [],
   "source": [
    "matrix = [[1, 2, 3], [4, 5, 6], [7, 8, 9]]\n",
    "flattened = [item for row in matrix for item in row]   \n",
    "print(flattened)"
   ]
  },
  {
   "cell_type": "markdown",
   "metadata": {
    "slideshow": {
     "slide_type": "subslide"
    }
   },
   "source": [
    "Let's time it again:"
   ]
  },
  {
   "cell_type": "code",
   "execution_count": null,
   "metadata": {},
   "outputs": [],
   "source": [
    "def flatten(matrix):\n",
    "    flattened = []\n",
    "    for row in matrix:\n",
    "        for item in row:\n",
    "            flattened.append(item)\n",
    "    return flattened\n",
    "\n",
    "def flatten_comprehension(matrix):\n",
    "    return [item for row in matrix for item in row] \n",
    "\n",
    "print(timeit.timeit(\"flatten([[1, 2, 3], [4, 5, 6], [7, 8, 9]])\", \"from __main__ import flatten\", number = 1_000_000))\n",
    "print(timeit.timeit(\"flatten_comprehension([[1, 2, 3], [4, 5, 6], [7, 8, 9]])\", \"from __main__ import flatten_comprehension\", number = 1_000_000))"
   ]
  },
  {
   "cell_type": "markdown",
   "metadata": {
    "slideshow": {
     "slide_type": "slide"
    }
   },
   "source": [
    "### Nested List Comprehensions\n",
    "\n",
    "In other cases, we may need to create a matrix. We can do that with nested list comprehensions. This sound a little bit crazy, but the concept is simple.\n",
    "\n",
    "One list comprehension returns a list, right? So, if we place a list comprehension in the output expression of another list comprehension, we’ll get a matrix as result."
   ]
  },
  {
   "cell_type": "code",
   "execution_count": null,
   "metadata": {},
   "outputs": [],
   "source": [
    "matrix = [[item for item in range(5)] for row in range(3)]\n",
    "print(matrix)"
   ]
  },
  {
   "cell_type": "markdown",
   "metadata": {},
   "source": [
    "## Other Comprehensions\n",
    "\n",
    "In Python, we have also dictionary comprehensions and set comprehensions. All the principles we saw are the same for these comprehensions, too. We just have to know some very little details to create a dictionary or set comprehensions."
   ]
  },
  {
   "cell_type": "markdown",
   "metadata": {},
   "source": [
    "### Dictionary Comprehensions\n",
    "\n",
    "To create a dictionary comprehension we just need to change the brackets `[]` to curly braces `{}`. Additionally, in the output expression, we need to separate key and value by a colon :"
   ]
  },
  {
   "cell_type": "code",
   "execution_count": null,
   "metadata": {},
   "outputs": [],
   "source": [
    "prices = {\"beer\": 2, \"fish\": 5, \"apple\": 1}\n",
    "float_prices = {key:float(value) for key, value in prices.items()}\n",
    "print(float_prices)"
   ]
  },
  {
   "cell_type": "markdown",
   "metadata": {},
   "source": [
    "### Set Comprehensions\n",
    "\n",
    "To create a set comprehension we only need to change the brackets `[]` to curly braces `{}`."
   ]
  },
  {
   "cell_type": "code",
   "execution_count": null,
   "metadata": {},
   "outputs": [],
   "source": [
    "numbers = [10, 10, 20, 30, 12, -20, 0, 1]\n",
    "unique_squares = {number**2 for number in numbers}\n",
    "print(unique_squares)"
   ]
  },
  {
   "cell_type": "markdown",
   "metadata": {},
   "source": [
    "## Generator expressions\n",
    "\n",
    "Here, I just want to mention that Python also has something called generator expressions. They are very similar to the list comprehensions. The difference is that they use round brackets `()`. Also, they don’t store the list in memory. They use the lazy evaluation technique.\n",
    "\n",
    "<div class=\"alert alert-info\"> List comprehensions aren’t useful if you’re working with iterators that return an infinite stream or a very large amount of data. Generator expressions are preferable in these situations."
   ]
  },
  {
   "cell_type": "code",
   "execution_count": null,
   "metadata": {},
   "outputs": [],
   "source": [
    "# Write even numbers\n",
    "evens1 = (2*i for i in range(10))\n",
    "print(evens1)\n",
    "\n",
    "for number in evens1:\n",
    "    print(number)"
   ]
  },
  {
   "cell_type": "code",
   "execution_count": null,
   "metadata": {},
   "outputs": [],
   "source": [
    "%%timeit\n",
    "range(100)"
   ]
  },
  {
   "cell_type": "markdown",
   "metadata": {
    "slideshow": {
     "slide_type": "slide"
    }
   },
   "source": [
    "## Iterators / Generators"
   ]
  },
  {
   "cell_type": "markdown",
   "metadata": {
    "slideshow": {
     "slide_type": "subslide"
    }
   },
   "source": [
    "**iterators** are a way of making virtual sequence objects. Consider if we had the nested loop structure:\n",
    "\n",
    "    for i in list(range(1000000)):\n",
    "        for j in list(range(1000000)):\n",
    "\n",
    "Inside the main loop, we make a list of 1,000,000 integers, just to loop over them one at a time. We don't need any of the additional things that a lists gives us, like slicing or random access, we just need to go through the numbers one at a time. And we're making 1,000,000 of them. \n",
    "\n",
    "**iterators** are a way around this. For example, the **range** function itself is an iterator. This simply makes a counter that is looped through in sequence, so that the analogous loop structure would look like:\n",
    "\n",
    "    for i in range(1000000):\n",
    "        for j in range(1000000):\n",
    "\n",
    "This improvement in python 3 dramatically speeds up the code, because we're not making 1,000,000 big lists."
   ]
  },
  {
   "cell_type": "markdown",
   "metadata": {
    "slideshow": {
     "slide_type": "subslide"
    }
   },
   "source": [
    "We can define our own iterators using the **yield** statement:"
   ]
  },
  {
   "cell_type": "code",
   "execution_count": null,
   "metadata": {
    "jupyter": {
     "outputs_hidden": false
    }
   },
   "outputs": [],
   "source": [
    "def evens_below(n):\n",
    "    for i in range(n):\n",
    "        if i%2 == 0:\n",
    "            yield i\n",
    "    return\n",
    "\n",
    "for i in evens_below(9):\n",
    "    print(i)"
   ]
  },
  {
   "cell_type": "markdown",
   "metadata": {
    "slideshow": {
     "slide_type": "subslide"
    }
   },
   "source": [
    "We can always turn an iterator into a list using the **list** command:"
   ]
  },
  {
   "cell_type": "code",
   "execution_count": null,
   "metadata": {
    "jupyter": {
     "outputs_hidden": false
    }
   },
   "outputs": [],
   "source": [
    "list(evens_below(9))"
   ]
  },
  {
   "cell_type": "markdown",
   "metadata": {
    "slideshow": {
     "slide_type": "subslide"
    }
   },
   "source": [
    "There's a special syntax called a **generator expression** that looks a lot like a list comprehension:"
   ]
  },
  {
   "cell_type": "code",
   "execution_count": null,
   "metadata": {
    "jupyter": {
     "outputs_hidden": false
    }
   },
   "outputs": [],
   "source": [
    "evens_gen = (i for i in range(9) if i%2==0)\n",
    "for i in evens_gen:\n",
    "    print(i)"
   ]
  },
  {
   "cell_type": "markdown",
   "metadata": {},
   "source": [
    "## Summary\n",
    "\n",
    "- List comprehensions provide us with a simple way to create a list based on some iterable.\n",
    "- The comprehensions are more efficient than using a for a loop.\n",
    "- We can use conditional statements in the comprehensions.\n",
    "- Comprehensions are a good alternative to the built-in map and filter functions.\n",
    "- We can have nested comprehensions.\n",
    "- In Python, we have also dictionary comprehensions and set comprehensions.\n",
    "- Generator expressions are preferable when we work with an infinite stream of a very large amount of data."
   ]
  }
 ],
 "metadata": {
  "kernelspec": {
   "display_name": "Python 3",
   "language": "python",
   "name": "python3"
  },
  "language_info": {
   "codemirror_mode": {
    "name": "ipython",
    "version": 3
   },
   "file_extension": ".py",
   "mimetype": "text/x-python",
   "name": "python",
   "nbconvert_exporter": "python",
   "pygments_lexer": "ipython3",
   "version": "3.9.6"
  }
 },
 "nbformat": 4,
 "nbformat_minor": 4
}
