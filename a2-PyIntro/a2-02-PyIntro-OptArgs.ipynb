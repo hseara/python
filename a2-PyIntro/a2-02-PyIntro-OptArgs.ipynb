{
 "cells": [
  {
   "cell_type": "markdown",
   "metadata": {
    "slideshow": {
     "slide_type": "slide"
    }
   },
   "source": [
    "# Using Optional and Named Arguments "
   ]
  },
  {
   "cell_type": "markdown",
   "metadata": {
    "slideshow": {
     "slide_type": "slide"
    }
   },
   "source": [
    "## Named arguments\n",
    "\n",
    "Python allows calling the arguments by their name instead of relying only on their order of appearance as in the function's definition. This feature sometimes makes it more clear what we intend."
   ]
  },
  {
   "cell_type": "code",
   "execution_count": null,
   "metadata": {},
   "outputs": [],
   "source": [
    "def volume_cylinder(radius, height):\n",
    "    import math\n",
    "    return math.pi * radius**2 * height \n",
    "\n",
    "#Positional arguments\n",
    "print(f\"volume = {volume_cylinder(5, 10):.2f} cm**3\")\n",
    "\n",
    "# Named arguments\n",
    "print(f\"volume = {volume_cylinder(radius= 5, height=10):.2f} cm**3\")\n",
    "\n",
    "\n",
    "# Named arguments\n",
    "print(f\"volume = {volume_cylinder(height=10, radius= 5):.2f} cm**3\")\n",
    "\n",
    "# Wrongly calling\n",
    "print(f\"volume = {volume_cylinder(10, 5):.2f} cm**3 (WRONG)\")"
   ]
  },
  {
   "cell_type": "markdown",
   "metadata": {
    "slideshow": {
     "slide_type": "slide"
    }
   },
   "source": [
    "## Optional arguments\n",
    "You will recall that the **linspace** function can take either two arguments (for the starting and ending points):"
   ]
  },
  {
   "cell_type": "code",
   "execution_count": null,
   "metadata": {
    "slideshow": {
     "slide_type": "subslide"
    }
   },
   "outputs": [],
   "source": [
    "import numpy as np"
   ]
  },
  {
   "cell_type": "markdown",
   "metadata": {},
   "source": [
    "NumPy (Numerical Python) is an open source Python library that’s used in almost every field of science and engineering. It’s the universal standard for working with numerical data in Python, and it’s at the core of the scientific Python and PyData ecosystems. The NumPy library contains multidimensional array and matrix data structures. It provides ndarray, a homogeneous n-dimensional array object, with methods to efficiently operate on it. NumPy can be used to perform a wide variety of mathematical operations on arrays. It adds powerful data structures to Python that guarantee efficient calculations with arrays and matrices and it supplies an enormous library of high-level mathematical functions that operate on these arrays and matrices.\n",
    "\n",
    "Learn more about [NumPy here!](https://numpy.org/doc/stable/user/whatisnumpy.html#whatisnumpy)"
   ]
  },
  {
   "cell_type": "code",
   "execution_count": null,
   "metadata": {
    "jupyter": {
     "outputs_hidden": false
    },
    "slideshow": {
     "slide_type": "subslide"
    }
   },
   "outputs": [],
   "source": [
    "np.linspace(0,1)"
   ]
  },
  {
   "cell_type": "code",
   "execution_count": null,
   "metadata": {},
   "outputs": [],
   "source": [
    "len(np.linspace(0,1))"
   ]
  },
  {
   "cell_type": "markdown",
   "metadata": {
    "slideshow": {
     "slide_type": "subslide"
    }
   },
   "source": [
    "or it can take three arguments, for the starting point, the ending point, and the number of points:"
   ]
  },
  {
   "cell_type": "code",
   "execution_count": null,
   "metadata": {
    "jupyter": {
     "outputs_hidden": false
    }
   },
   "outputs": [],
   "source": [
    "np.linspace(0,1,5)"
   ]
  },
  {
   "cell_type": "markdown",
   "metadata": {},
   "source": [
    "You can also pass in keywords to exclude the endpoint:"
   ]
  },
  {
   "cell_type": "code",
   "execution_count": null,
   "metadata": {
    "jupyter": {
     "outputs_hidden": false
    }
   },
   "outputs": [],
   "source": [
    "np.linspace(0,1,5,endpoint=False)"
   ]
  },
  {
   "cell_type": "markdown",
   "metadata": {
    "slideshow": {
     "slide_type": "subslide"
    }
   },
   "source": [
    "Right now, we only know how to specify functions that have a fixed number of arguments. We'll learn how to do the more general cases here.\n",
    "\n",
    "If we're defining a simple version of linspace, we would start with:"
   ]
  },
  {
   "cell_type": "code",
   "execution_count": null,
   "metadata": {
    "jupyter": {
     "outputs_hidden": false
    }
   },
   "outputs": [],
   "source": [
    "def my_linspace(start,end):\n",
    "    npoints = 11\n",
    "    v = []\n",
    "    d = (end-start)/float(npoints-1)\n",
    "    for i in range(npoints):\n",
    "        v.append(start + i*d)\n",
    "    return v\n",
    "my_linspace(0,1)"
   ]
  },
  {
   "cell_type": "markdown",
   "metadata": {
    "slideshow": {
     "slide_type": "subslide"
    }
   },
   "source": [
    "We can add an optional argument by specifying a default value in the argument list:"
   ]
  },
  {
   "cell_type": "code",
   "execution_count": null,
   "metadata": {
    "jupyter": {
     "outputs_hidden": false
    }
   },
   "outputs": [],
   "source": [
    "def my_linspace(start,end,npoints = 11):\n",
    "    v = []\n",
    "    d = (end-start)/float(npoints-1)\n",
    "    for i in range(npoints):\n",
    "        v.append(start + i*d)\n",
    "    return v"
   ]
  },
  {
   "cell_type": "markdown",
   "metadata": {},
   "source": [
    "This gives exactly the same result if we don't specify anything:"
   ]
  },
  {
   "cell_type": "code",
   "execution_count": null,
   "metadata": {
    "jupyter": {
     "outputs_hidden": false
    }
   },
   "outputs": [],
   "source": [
    "my_linspace(0,1)"
   ]
  },
  {
   "cell_type": "markdown",
   "metadata": {
    "slideshow": {
     "slide_type": "subslide"
    }
   },
   "source": [
    "But also let's us override the default value with a third argument:"
   ]
  },
  {
   "cell_type": "code",
   "execution_count": null,
   "metadata": {
    "jupyter": {
     "outputs_hidden": false
    }
   },
   "outputs": [],
   "source": [
    "my_linspace(0,1,5)"
   ]
  },
  {
   "cell_type": "markdown",
   "metadata": {
    "slideshow": {
     "slide_type": "slide"
    }
   },
   "source": [
    "## `**kwargs`\n",
    "\n",
    "We can add arbitrary keyword arguments to the function definition by putting a keyword argument `**kwargs` handle in:"
   ]
  },
  {
   "cell_type": "code",
   "execution_count": null,
   "metadata": {
    "jupyter": {
     "outputs_hidden": false
    }
   },
   "outputs": [],
   "source": [
    "def my_linspace(start,end,npoints=10,**kwargs):\n",
    "    endpoint = kwargs.get('endpoint',True)\n",
    "    v = []\n",
    "    if endpoint:\n",
    "        d = (end-start)/float(npoints-1)\n",
    "    else:\n",
    "        d = (end-start)/float(npoints)\n",
    "    for i in range(npoints):\n",
    "        v.append(start + i*d)\n",
    "    return v\n",
    "my_linspace(0,1,5,endpoint=False)"
   ]
  },
  {
   "cell_type": "markdown",
   "metadata": {},
   "source": [
    "What the keyword argument construction does is to take any additional keyword arguments (i.e. arguments specified by name, like `endpoint=False`), and stick them into a dictionary called \"kwargs\" (you can call it anything you like, but it has to be preceded by two stars). You can then grab items out of the dictionary using the `get` command, which also lets you specify a default value. I realize it takes a little getting used to, but it is a common construction in Python code, and you should be able to recognize it."
   ]
  },
  {
   "cell_type": "markdown",
   "metadata": {
    "slideshow": {
     "slide_type": "slide"
    }
   },
   "source": [
    "## `*args`\n",
    "There's an analogous `*args` that dumps any additional arguments into a list called `args`. Think about the `range` function: it can take one (the endpoint), two (starting and ending points), or three (starting, ending, and step) arguments. How would we define this?"
   ]
  },
  {
   "cell_type": "code",
   "execution_count": null,
   "metadata": {
    "jupyter": {
     "outputs_hidden": false
    }
   },
   "outputs": [],
   "source": [
    "def my_range(*args):\n",
    "    start = 0\n",
    "    step = 1\n",
    "    if len(args) == 1:\n",
    "        end = args[0]\n",
    "    elif len(args) == 2:\n",
    "        start,end = args\n",
    "    elif len(args) == 3:\n",
    "        start,end,step = args\n",
    "    else:\n",
    "        raise Exception(\"Unable to parse arguments\")\n",
    "    v = []\n",
    "    value = start\n",
    "    while True:\n",
    "        v.append(value)\n",
    "        value += step\n",
    "        if value > end: break\n",
    "    return v"
   ]
  },
  {
   "cell_type": "markdown",
   "metadata": {},
   "source": [
    "Note that we have defined a few new things you haven't seen for a while: a `break` statement, that allows us to exit a for loop if some conditions are met. Also the exception statement, that causes the interpreter to exit with an error message (We will see it in the next notebook). For example:"
   ]
  },
  {
   "cell_type": "code",
   "execution_count": null,
   "metadata": {
    "jupyter": {
     "outputs_hidden": false
    },
    "slideshow": {
     "slide_type": "subslide"
    }
   },
   "outputs": [],
   "source": [
    "my_range(0,10,1)"
   ]
  },
  {
   "cell_type": "code",
   "execution_count": null,
   "metadata": {},
   "outputs": [],
   "source": [
    "my_range(0,10)"
   ]
  },
  {
   "cell_type": "code",
   "execution_count": null,
   "metadata": {},
   "outputs": [],
   "source": [
    "my_range(10)"
   ]
  },
  {
   "cell_type": "markdown",
   "metadata": {
    "slideshow": {
     "slide_type": "subslide"
    }
   },
   "source": [
    "But not everything is okay:"
   ]
  },
  {
   "cell_type": "code",
   "execution_count": null,
   "metadata": {},
   "outputs": [],
   "source": [
    "my_range()"
   ]
  },
  {
   "cell_type": "code",
   "execution_count": null,
   "metadata": {},
   "outputs": [],
   "source": [
    "my_range(0,10,1,6)"
   ]
  },
  {
   "cell_type": "code",
   "execution_count": null,
   "metadata": {},
   "outputs": [],
   "source": []
  }
 ],
 "metadata": {
  "kernelspec": {
   "display_name": "Python 3 (ipykernel)",
   "language": "python",
   "name": "python3"
  },
  "language_info": {
   "codemirror_mode": {
    "name": "ipython",
    "version": 3
   },
   "file_extension": ".py",
   "mimetype": "text/x-python",
   "name": "python",
   "nbconvert_exporter": "python",
   "pygments_lexer": "ipython3",
   "version": "3.9.7"
  }
 },
 "nbformat": 4,
 "nbformat_minor": 4
}
