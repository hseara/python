{
 "cells": [
  {
   "cell_type": "markdown",
   "metadata": {
    "collapsed": "true"
   },
   "source": [
    "# A Python introductory course for Scientists\n",
    "[Computational core facility](https://intraweb.uochb.cas.cz/computational-core-facility-510.html)\n",
    "\n",
    "[Institute of Organic Chemistry an Biochemistry of the Czech Academy of Sciences](https://www.uochb.cz/)\n",
    "\n",
    "version 2020.1\n",
    "\n",
    "This work is licensed under a [Creative Commons Attribution-ShareAlike 3.0 Unported License](http://creativecommons.org/licenses/by-sa/3.0/deed.en_US)."
   ]
  },
  {
   "cell_type": "markdown",
   "metadata": {},
   "source": [
    "## Attributions and credits\n",
    "This course is not my creation. It is build on these fantastic courses and sources:\n",
    "- **[A Crash Course in Python for Scientists](https://nbviewer.jupyter.org/gist/rpmuller/5920182)** by [Rick Muller](http://www.cs.sandia.gov/~rmuller/), Sandia National Laboratories.\n",
    "- The w3schools [Python Tutorial](https://www.w3schools.com/python/)\n",
    "- The official [Python Tutorial](https://docs.python.org/3/tutorial/)\n",
    "- The [scientific python lectures](https://github.com/jrjohansson/scientific-python-lectures) by J.R. Johansson"
   ]
  },
  {
   "cell_type": "markdown",
   "metadata": {},
   "source": [
    "## Why Python?\n",
    "Python is currently the programming language of choice for many scientists. This is why:\n",
    "- It is straightforward to learn\n",
    "- It is effortless to read\n",
    "- Quick prototyping\n",
    "- It offers plenty of libraries (no need to reinvent the wheel).\n",
    "- It provides the power to analyze and model scientific data (Good scientific libraries, no need to reinvent the wheel).\n",
    "- The standard de facto language for machine learning.\n",
    "- Not restricted to Science, you can do virtually everything with it.\n",
    "- Easy to find help on the internet. "
   ]
  },
  {
   "cell_type": "markdown",
   "metadata": {},
   "source": [
    "### ~~Python 2~~ or Python 3\n",
    "This is no longer a valid question. Python 2 is finally discontined as 1st of January 2020. If you need further information about the issue please check the following [post](https://www.python.org/doc/sunset-python-2/).\n",
    "\n",
    "There were for a long time two branches of current releases in Python: the older-syntax Python 2, and the newer-syntax Python 3. This schizophrenia is largely intentional: when it became clear that some non-backwards-compatible changes to the language were necessary, the Python dev-team decided to go through a five-year (or so) transition, during which the new language features would be introduced and the old language was still actively maintained, to make such a transition as easy as possible. We're now (2020) only Python 3 should be used. Therefore this is what we will use in the course."
   ]
  },
  {
   "cell_type": "markdown",
   "metadata": {},
   "source": [
    "### IPython and JupyterLab\n",
    "\n",
    "I find IPython notebooks an easy way both to get important work done in my everyday job, as well as to communicate what I've done, how I've done it, and why it matters to other scientists. I find myself endlessly sweeping the [IPython subreddit](http://ipython.reddit.com) hoping someone will post a new notebook.\n",
    "\n",
    "[JupyterLab](https://jupyter.org/) is a web-based interactive development environment for Jupyter notebooks, code, and data. JupyterLab is flexible: configure and arrange the user interface to support a wide range of workflows in data science, scientific computing, and machine learning. JupyterLab is extensible and modular: write plugins that add new components and integrate with existing ones.\n",
    "\n",
    "A quick nice introductory video about JupyterLab can be found here:\n",
    "\n",
    "https://youtu.be/A5YyoCKxEOU\n"
   ]
  },
  {
   "cell_type": "markdown",
   "metadata": {},
   "source": [
    "### Free resources\n",
    "\n",
    "This is a quick introduction to Python. There are lots of other places to learn the language more thoroughly. I have collected a list of useful links, including ones to other learning resources, at the end of this notebook. If you want a little more depth, [Python Tutorial](http://docs.python.org/2/tutorial/) is a great place to start, as is Zed Shaw's [Learn Python the Hard Way](http://learnpythonthehardway.org/book/).\n",
    "\n",
    "The lessons that follow make use of the IPython notebooks. There's a good introduction to notebooks [in the IPython notebook documentation](http://ipython.org/notebook.html) that even has a [nice video](http://www.youtube.com/watch?v=H6dLGQw9yFQ#!) on how to use the notebooks. You should probably also flip through the [IPython tutorial](http://ipython.org/ipython-doc/dev/interactive/tutorial.html) in your copious free time.\n",
    "\n",
    "-  **Python online tutorials**\n",
    "  - [An Informal Introduction to Python](https://docs.python.org/3/tutorial/introduction.html)\n",
    "  - The [Python Tutorial](http://docs.python.org/3/tutorial/) is a great place to start getting a feel for the language.\n",
    "  - Rob Johansson's [excellent notebooks](http://jrjohansson.github.io/)\n",
    "- **IPhython and JupyterLab**\n",
    "  - [A collection of Notebooks for using IPython effectively](https://github.com/ipython/ipython/tree/master/examples/notebooks#a-collection-of-notebooks-for-using-ipython-effectively)\n",
    "  - [A gallery of interesting IPython Notebooks](https://github.com/ipython/ipython/wiki/A-gallery-of-interesting-IPython-Notebooks)\n",
    "  - [JupyterLab documentation](https://jupyterlab.readthedocs.io/en/latest/)\n",
    "-  **Plotting**\n",
    "  - [Examples matplotlib](https://matplotlib.org/3.1.1/gallery/index.html)\n",
    "  - [XKCD style graphs in matplotlib](http://nbviewer.ipython.org/url/jakevdp.github.com/downloads/notebooks/XKCD_plots.ipynb);\n",
    "- **Numpy**\n",
    "  - [Numpy Tutorial](https://numpy.org/doc/stable/user/quickstart.html)\n",
    "  - [NumPy for MATLAB users](http://mathesaurus.sourceforge.net/matlab-numpy.html) \n",
    "\n",
    "## Cheatsheets\n",
    "- [Python](https://perso.limsi.fr/pointal/_media/python:cours:mementopython3-english.pdf)"
   ]
  },
  {
   "cell_type": "markdown",
   "metadata": {},
   "source": [
    "# Course prerequisites"
   ]
  },
  {
   "cell_type": "markdown",
   "metadata": {},
   "source": [
    "## Programing level\n",
    "- The course is meant for people with zero level of python\n",
    "- Knowledge of other programming language helps"
   ]
  },
  {
   "cell_type": "markdown",
   "metadata": {},
   "source": [
    "## What You Need to Install\n",
    "\n",
    "This course assume that you have a Python distribution that includes:\n",
    "\n",
    "* [Python](http://www.python.org) version >3.8;\n",
    "* [Numpy](http://www.numpy.org), the core numerical extensions for linear algebra and multidimensional arrays;\n",
    "* [Scipy](http://www.scipy.org), additional libraries for scientific programming;\n",
    "* [Matplotlib](http://matplotlib.sf.net), excellent plotting and graphing libraries;\n",
    "* [IPython](http://ipython.org), with the additional libraries required for the notebook interface.\n",
    "* [JypyterLab](https://jupyterlab.readthedocs.io)\n",
    "  * [Table of contents](https://github.com/jupyterlab/jupyterlab-toc)\n",
    "  * [Variable inspector](https://github.com/lckr/jupyterlab-variableInspector)\n",
    "* [pep8 code style checker](https://www.python.org/dev/peps/pep-0008/)\n",
    "\n",
    "\n",
    "The easier way to install all those packages is by intalling [Anaconda](https://www.anaconda.com/distribution/) form Continuum. We will asume this in this tutorial."
   ]
  },
  {
   "cell_type": "markdown",
   "metadata": {},
   "source": [
    "## Preparing the environment\n",
    "\n",
    "- Install an enviroment for the course using the terminal or anaconda cmd:\n",
    "  ```\n",
    "  conda create --name py38-course python=3.8 jupyterlab numpy nodejs matplotlib scipy pandas\n",
    "  ```\n",
    "  - (Windows) # Restart the created environmet when using the anaconda interface\n",
    "  - Activate the created environment:\n",
    "    ```\n",
    "    conda activate py38-course\n",
    "    ```\n",
    "- Configure JupyterLab from the terminal provided by JupyterLab that is using the newly created environment\n",
    "  - [Table of contents](https://github.com/jupyterlab/jupyterlab-toc)\n",
    "    ```\n",
    "    jupyter labextension install @jupyterlab/toc\n",
    "    ```\n",
    "  - [Variable inspector](https://github.com/lckr/jupyterlab-variableInspector): Shows currently used variables and their values\n",
    "    ``` \n",
    "    jupyter labextension install @lckr/jupyterlab_variableinspector\n",
    "    ``` \n",
    "    - To activate right click inside a notebook and press \"Activate\"\n",
    "  - [Collapsible_Headings](https://github.com/aquirdTurtle/Collapsible_Headings):Make headings collapsible\n",
    "    ```\n",
    "    jupyter labextension install @aquirdturtle/collapsible_headings\n",
    "    ```\n",
    "  - Code style checker: [pycodestyle](https://github.com/PyCQA/pycodestyle), [flake8](https://flake8.pycqa.org/) and [JupyterLab integration of the style checkers](https://github.com/mattijn/pycodestyle_magic)\n",
    "    ```\n",
    "    conda install flake8 pycodestyle\n",
    "    pip install pycodestyle_magic\n",
    "    ```\n",
    "  - [Matplotlib widgets](https://github.com/matplotlib/ipympl): enables the interactive features of matplotlib in JupyterLab.\n",
    "    ```\n",
    "    conda install ipympl\n",
    "    jupyter labextension install @jupyter-widgets/jupyterlab-manager\n",
    "    jupyter labextension install jupyter-matplotlib\n",
    "    ```\n",
    "  - Please reload the browserto activate the installed extensions: , e.g. <kbd>F5</kbd>.\n",
    "  - To list all JupyterLab installed extensions:\n",
    "    ```\n",
    "    jupyter labextension list\n",
    "    ```\n",
    "- Other tools:\n",
    "  - [version infomation](https://github.com/jrjohansson/version_information): IPython magic extension for showing version information for dependency modules in a notebook.\n",
    "    ```\n",
    "    conda install -c conda-forge version_information\n",
    "    ```\n",
    "    "
   ]
  },
  {
   "cell_type": "markdown",
   "metadata": {},
   "source": [
    "## Checking the configuration of your computer:"
   ]
  },
  {
   "cell_type": "code",
   "execution_count": null,
   "metadata": {},
   "outputs": [],
   "source": [
    "import platform\n",
    "import os\n",
    "import sys\n",
    "print(os.name)\n",
    "print(platform.system())\n",
    "print(platform.release())\n",
    "print(f\"Python version {sys.version}\")\n",
    "print(f\"{sys.version_info}\")"
   ]
  },
  {
   "cell_type": "code",
   "execution_count": null,
   "metadata": {},
   "outputs": [],
   "source": [
    "%reload_ext version_information\n",
    "%version_information numpy, scipy, matplotlib, jupyterlab, ipympl"
   ]
  },
  {
   "cell_type": "code",
   "execution_count": null,
   "metadata": {},
   "outputs": [],
   "source": [
    "!jupyter labextension list"
   ]
  },
  {
   "cell_type": "markdown",
   "metadata": {},
   "source": [
    "## Structure of the course\n",
    "\n",
    "Briefly, notebooks have code cells (that are generally followed by result cells) and text cells. The text cells are the stuff that you're reading now. The code cells start with \"In []:\" with some number generally in the brackets. If you put your cursor in the code cell and hit Shift-Enter, the code will run in the Python interpreter and the result will print out in the output cell. You can then change things around and see whether you understand what's going on. If you need to know more, see the [IPython notebook documentation](http://ipython.org/notebook.html) or the [IPython tutorial](http://ipython.org/ipython-doc/dev/interactive/tutorial.html)."
   ]
  },
  {
   "cell_type": "markdown",
   "metadata": {},
   "source": [
    "# Python as a calculator\n",
    "Python is a powerful calculator."
   ]
  },
  {
   "cell_type": "markdown",
   "metadata": {},
   "source": [
    "## Simple calculator"
   ]
  },
  {
   "cell_type": "code",
   "execution_count": null,
   "metadata": {
    "collapsed": false,
    "jupyter": {
     "outputs_hidden": false
    }
   },
   "outputs": [],
   "source": [
    "2+2"
   ]
  },
  {
   "cell_type": "markdown",
   "metadata": {},
   "source": [
    "(If you're typing this into an IPython notebook, or otherwise using notebook file, you hit <kbd>shift</kbd> + <kbd>Enter</kbd> to evaluate a cell.)"
   ]
  },
  {
   "cell_type": "code",
   "execution_count": null,
   "metadata": {
    "collapsed": false,
    "jupyter": {
     "outputs_hidden": false
    }
   },
   "outputs": [],
   "source": [
    "(50-5*6)/4"
   ]
  },
  {
   "cell_type": "code",
   "execution_count": null,
   "metadata": {
    "collapsed": false,
    "jupyter": {
     "outputs_hidden": false
    }
   },
   "outputs": [],
   "source": [
    "7/3"
   ]
  },
  {
   "cell_type": "code",
   "execution_count": null,
   "metadata": {},
   "outputs": [],
   "source": [
    "7%3"
   ]
  },
  {
   "cell_type": "code",
   "execution_count": null,
   "metadata": {},
   "outputs": [],
   "source": [
    "2**8"
   ]
  },
  {
   "cell_type": "code",
   "execution_count": null,
   "metadata": {},
   "outputs": [],
   "source": [
    "9**(0.5)"
   ]
  },
  {
   "cell_type": "code",
   "execution_count": null,
   "metadata": {},
   "outputs": [],
   "source": [
    "a=2*3\n",
    "a*4"
   ]
  },
  {
   "cell_type": "markdown",
   "metadata": {},
   "source": [
    "## Advanced calculator\n",
    "\n",
    "Python libraries allow us to extend python funtionality. Let's have our first glace to the **import** statement. Python has a huge number of libraries included with the distribution. To keep things simple, most of these variables and functions are not accessible from a normal Python interactive session. Instead, you have to import the name. For example, there is a **math** module containing many useful functions. To access, say, the square root function, you can either first\n",
    "\n",
    "    from math import sqrt\n",
    "\n",
    "and then\n",
    "\n",
    "    sqrt(81)"
   ]
  },
  {
   "cell_type": "code",
   "execution_count": null,
   "metadata": {},
   "outputs": [],
   "source": [
    "from math import sqrt\n",
    "sqrt(81)"
   ]
  },
  {
   "cell_type": "markdown",
   "metadata": {},
   "source": [
    "or you can simply import the math library itself"
   ]
  },
  {
   "cell_type": "code",
   "execution_count": null,
   "metadata": {
    "collapsed": false,
    "jupyter": {
     "outputs_hidden": false
    }
   },
   "outputs": [],
   "source": [
    "import math\n",
    "math.sqrt(81)"
   ]
  },
  {
   "cell_type": "code",
   "execution_count": null,
   "metadata": {},
   "outputs": [],
   "source": [
    "import math\n",
    "math.pi"
   ]
  },
  {
   "cell_type": "markdown",
   "metadata": {},
   "source": [
    "## Try yourself using python as a calculator"
   ]
  },
  {
   "cell_type": "code",
   "execution_count": null,
   "metadata": {},
   "outputs": [],
   "source": [
    "import math\n",
    "# Prin Euler's number e = 2.71828182 (See pi example)"
   ]
  },
  {
   "cell_type": "code",
   "execution_count": null,
   "metadata": {},
   "outputs": [],
   "source": [
    "import math\n",
    "# Try to calculate the log(e) using the math library, result is 1.\n"
   ]
  },
  {
   "cell_type": "code",
   "execution_count": null,
   "metadata": {},
   "outputs": [],
   "source": [
    "import math\n",
    "# Experiment yourself"
   ]
  },
  {
   "cell_type": "markdown",
   "metadata": {},
   "source": [
    "# What to expect of this Python overview course\n",
    "I've tried to keep this brief enough so that you can jump in and start using Python to simplify your life and work. There is, of course, much more to the language than I will cover here. When learning programming languages the information doesn't \"stick\" unless you try and use it for something in real life.\n",
    "\n",
    "You will no doubt need to learn more as you go. I've listed several other good references, including the [Python Tutorial](http://docs.python.org/2/tutorial/) and [Learn Python the Hard Way](http://learnpythonthehardway.org/book/). Additionally, now is a good time to start familiarizing yourself with the [Python Documentation](http://docs.python.org/2.7/), and, in particular, the [Python Language Reference](http://docs.python.org/2.7/reference/index.html).\n",
    "\n",
    "Tim Peters, one of the earliest and most prolific Python contributors, wrote the \"Zen of Python\", which can be accessed via the \"import this\" command:"
   ]
  },
  {
   "cell_type": "code",
   "execution_count": null,
   "metadata": {},
   "outputs": [],
   "source": [
    "import this"
   ]
  },
  {
   "cell_type": "markdown",
   "metadata": {},
   "source": [
    "When done with this notebook (1st of 4 in the Python-0 course) proceed to the next: [Python Datatypes](1-PyIntro-Datatypes.ipynb)"
   ]
  }
 ],
 "metadata": {
  "kernelspec": {
   "display_name": "Python 3",
   "language": "python",
   "name": "python3"
  },
  "language_info": {
   "codemirror_mode": {
    "name": "ipython",
    "version": 3
   },
   "file_extension": ".py",
   "mimetype": "text/x-python",
   "name": "python",
   "nbconvert_exporter": "python",
   "pygments_lexer": "ipython3",
   "version": "3.8.5"
  },
  "toc-autonumbering": true
 },
 "nbformat": 4,
 "nbformat_minor": 4
}
